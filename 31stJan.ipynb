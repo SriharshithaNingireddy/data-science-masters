{
 "cells": [
  {
   "cell_type": "markdown",
   "id": "79239f8f-4c0c-4482-b121-4dd2ed06078e",
   "metadata": {},
   "source": [
    "#### logical operators\n",
    "1. and\n",
    "2. or\n",
    "3. not"
   ]
  },
  {
   "cell_type": "code",
   "execution_count": 3,
   "id": "80081c5b-224d-48cb-a8fa-e1dccca15c8e",
   "metadata": {},
   "outputs": [
    {
     "data": {
      "text/plain": [
       "False"
      ]
     },
     "execution_count": 3,
     "metadata": {},
     "output_type": "execute_result"
    }
   ],
   "source": [
    "bool(0)"
   ]
  },
  {
   "cell_type": "code",
   "execution_count": 4,
   "id": "e8cb218e-4f3a-47c9-aba9-48d6efb98b83",
   "metadata": {},
   "outputs": [
    {
     "data": {
      "text/plain": [
       "True"
      ]
     },
     "execution_count": 4,
     "metadata": {},
     "output_type": "execute_result"
    }
   ],
   "source": [
    "not bool(0)"
   ]
  },
  {
   "cell_type": "code",
   "execution_count": 5,
   "id": "7fd5f734-c098-40c8-a1df-f052ec05bd5f",
   "metadata": {},
   "outputs": [
    {
     "data": {
      "text/plain": [
       "0"
      ]
     },
     "execution_count": 5,
     "metadata": {},
     "output_type": "execute_result"
    }
   ],
   "source": [
    "int(not(not(0)))"
   ]
  },
  {
   "cell_type": "code",
   "execution_count": 6,
   "id": "0efb3df5-934b-4690-84a1-4171c86cad45",
   "metadata": {},
   "outputs": [
    {
     "data": {
      "text/plain": [
       "True"
      ]
     },
     "execution_count": 6,
     "metadata": {},
     "output_type": "execute_result"
    }
   ],
   "source": [
    "bool(-5)"
   ]
  },
  {
   "cell_type": "code",
   "execution_count": 7,
   "id": "4cbedaac-0469-480e-9a43-986f2abfe4f1",
   "metadata": {},
   "outputs": [
    {
     "data": {
      "text/plain": [
       "True"
      ]
     },
     "execution_count": 7,
     "metadata": {},
     "output_type": "execute_result"
    }
   ],
   "source": [
    "bool(5)"
   ]
  },
  {
   "cell_type": "markdown",
   "id": "e6d4f1df-04b8-4bf8-991e-d198b3a62ebf",
   "metadata": {},
   "source": [
    "### logical and"
   ]
  },
  {
   "cell_type": "code",
   "execution_count": 10,
   "id": "8c9aca4f-ea4b-47c1-9cbc-6bf25669801a",
   "metadata": {},
   "outputs": [
    {
     "data": {
      "text/plain": [
       "True"
      ]
     },
     "execution_count": 10,
     "metadata": {},
     "output_type": "execute_result"
    }
   ],
   "source": [
    "not True*False"
   ]
  },
  {
   "cell_type": "code",
   "execution_count": 9,
   "id": "cc85d0d3-8cfa-4d26-883d-7290fbb964e1",
   "metadata": {},
   "outputs": [
    {
     "data": {
      "text/plain": [
       "0"
      ]
     },
     "execution_count": 9,
     "metadata": {},
     "output_type": "execute_result"
    }
   ],
   "source": [
    "(not(True))*False"
   ]
  },
  {
   "cell_type": "code",
   "execution_count": 11,
   "id": "1511602c-2ed1-4b25-8b2e-096875464d73",
   "metadata": {},
   "outputs": [
    {
     "data": {
      "text/plain": [
       "0"
      ]
     },
     "execution_count": 11,
     "metadata": {},
     "output_type": "execute_result"
    }
   ],
   "source": [
    "True * False"
   ]
  },
  {
   "cell_type": "code",
   "execution_count": 14,
   "id": "768394ad-8639-491e-a8a3-62c8b60e9ae6",
   "metadata": {},
   "outputs": [
    {
     "name": "stdout",
     "output_type": "stream",
     "text": [
      "True\n"
     ]
    }
   ],
   "source": [
    "print(not(False)*False)"
   ]
  },
  {
   "cell_type": "code",
   "execution_count": 15,
   "id": "2b4882fc-0e70-4891-a128-9ee59d44a7c5",
   "metadata": {},
   "outputs": [
    {
     "data": {
      "text/plain": [
       "0"
      ]
     },
     "execution_count": 15,
     "metadata": {},
     "output_type": "execute_result"
    }
   ],
   "source": [
    "False*False"
   ]
  },
  {
   "cell_type": "code",
   "execution_count": 16,
   "id": "8ef3a138-3473-4766-a7d1-bf6c611263b7",
   "metadata": {},
   "outputs": [],
   "source": [
    "lst_a=[1,2,3,4]\n",
    "lst_b=[1,2,3,4]"
   ]
  },
  {
   "cell_type": "markdown",
   "id": "505b7a9f-7216-4f97-bfcd-0429b49823b2",
   "metadata": {},
   "source": [
    "### id() is for memory address"
   ]
  },
  {
   "cell_type": "code",
   "execution_count": 17,
   "id": "7c8555b1-356e-4796-86dd-a9f2dd5daeca",
   "metadata": {},
   "outputs": [
    {
     "data": {
      "text/plain": [
       "140340614027328"
      ]
     },
     "execution_count": 17,
     "metadata": {},
     "output_type": "execute_result"
    }
   ],
   "source": [
    "id(lst_a)"
   ]
  },
  {
   "cell_type": "code",
   "execution_count": 18,
   "id": "b6d1ca11-a69e-4dc8-b266-80d14757eab6",
   "metadata": {},
   "outputs": [
    {
     "data": {
      "text/plain": [
       "140340758959744"
      ]
     },
     "execution_count": 18,
     "metadata": {},
     "output_type": "execute_result"
    }
   ],
   "source": [
    "id(lst_b)"
   ]
  },
  {
   "cell_type": "code",
   "execution_count": 19,
   "id": "b7229c2c-5dfa-4b02-b44f-219adaf9008d",
   "metadata": {},
   "outputs": [
    {
     "data": {
      "text/plain": [
       "False"
      ]
     },
     "execution_count": 19,
     "metadata": {},
     "output_type": "execute_result"
    }
   ],
   "source": [
    "lst_a is lst_b"
   ]
  },
  {
   "cell_type": "code",
   "execution_count": 20,
   "id": "f3337ed8-db75-48a3-a95e-3f1e7f5666a9",
   "metadata": {},
   "outputs": [
    {
     "data": {
      "text/plain": [
       "True"
      ]
     },
     "execution_count": 20,
     "metadata": {},
     "output_type": "execute_result"
    }
   ],
   "source": [
    "lst_a is not lst_b"
   ]
  },
  {
   "cell_type": "code",
   "execution_count": 21,
   "id": "91e9e156-ab6c-458c-8b56-5287c7475a3b",
   "metadata": {},
   "outputs": [
    {
     "data": {
      "text/plain": [
       "True"
      ]
     },
     "execution_count": 21,
     "metadata": {},
     "output_type": "execute_result"
    }
   ],
   "source": [
    "lst_a == lst_b"
   ]
  },
  {
   "cell_type": "markdown",
   "id": "dfb52c83-b708-4de9-ac55-1cee6f66b461",
   "metadata": {},
   "source": [
    "#### arthmitic operations"
   ]
  },
  {
   "cell_type": "code",
   "execution_count": 1,
   "id": "e2936bbc-5bd0-45f0-b548-f9d9970aa96b",
   "metadata": {},
   "outputs": [],
   "source": [
    "a=25\n",
    "b=101"
   ]
  },
  {
   "cell_type": "code",
   "execution_count": 2,
   "id": "2b6c24af-d6d0-4922-8b00-e7387dd5b1a3",
   "metadata": {},
   "outputs": [
    {
     "data": {
      "text/plain": [
       "2525"
      ]
     },
     "execution_count": 2,
     "metadata": {},
     "output_type": "execute_result"
    }
   ],
   "source": [
    "a*b"
   ]
  },
  {
   "cell_type": "code",
   "execution_count": 3,
   "id": "c9faec8f-2d25-4b16-a8d5-ea5f63a64a2c",
   "metadata": {},
   "outputs": [
    {
     "data": {
      "text/plain": [
       "126"
      ]
     },
     "execution_count": 3,
     "metadata": {},
     "output_type": "execute_result"
    }
   ],
   "source": [
    "a+b"
   ]
  },
  {
   "cell_type": "code",
   "execution_count": 4,
   "id": "cd8f0614-56fa-42bf-8592-da419a0abfcb",
   "metadata": {},
   "outputs": [
    {
     "data": {
      "text/plain": [
       "0.24752475247524752"
      ]
     },
     "execution_count": 4,
     "metadata": {},
     "output_type": "execute_result"
    }
   ],
   "source": [
    "a/b"
   ]
  },
  {
   "cell_type": "code",
   "execution_count": 5,
   "id": "cd91bff1-6928-48db-9142-5cdffc3856cc",
   "metadata": {},
   "outputs": [
    {
     "data": {
      "text/plain": [
       "4.04"
      ]
     },
     "execution_count": 5,
     "metadata": {},
     "output_type": "execute_result"
    }
   ],
   "source": [
    "b/a"
   ]
  },
  {
   "cell_type": "code",
   "execution_count": 6,
   "id": "94be970f-eb88-4ebe-bbcd-0aec9866fc7d",
   "metadata": {},
   "outputs": [
    {
     "data": {
      "text/plain": [
       "0"
      ]
     },
     "execution_count": 6,
     "metadata": {},
     "output_type": "execute_result"
    }
   ],
   "source": [
    "a//b"
   ]
  },
  {
   "cell_type": "code",
   "execution_count": 7,
   "id": "6bd76dfe-1b5a-4a80-8ff1-a554ff7fded1",
   "metadata": {},
   "outputs": [
    {
     "data": {
      "text/plain": [
       "4"
      ]
     },
     "execution_count": 7,
     "metadata": {},
     "output_type": "execute_result"
    }
   ],
   "source": [
    "b//a"
   ]
  },
  {
   "cell_type": "code",
   "execution_count": 8,
   "id": "1702dac7-286f-4488-b8b1-77008a0900ed",
   "metadata": {},
   "outputs": [
    {
     "data": {
      "text/plain": [
       "25"
      ]
     },
     "execution_count": 8,
     "metadata": {},
     "output_type": "execute_result"
    }
   ],
   "source": [
    "a%b"
   ]
  },
  {
   "cell_type": "markdown",
   "id": "8430905f-5707-4733-91cb-5226a206f93d",
   "metadata": {},
   "source": [
    "## strings"
   ]
  },
  {
   "cell_type": "code",
   "execution_count": 15,
   "id": "9719c95d-e76d-4e82-87c0-36a6e36c1335",
   "metadata": {},
   "outputs": [],
   "source": [
    "str1=\"welcome to data science masters\""
   ]
  },
  {
   "cell_type": "code",
   "execution_count": 13,
   "id": "86675530-3f55-4ab6-b507-d2906469c513",
   "metadata": {},
   "outputs": [
    {
     "data": {
      "text/plain": [
       "'w'"
      ]
     },
     "execution_count": 13,
     "metadata": {},
     "output_type": "execute_result"
    }
   ],
   "source": [
    "str1[0]"
   ]
  },
  {
   "cell_type": "code",
   "execution_count": 27,
   "id": "0736638a-9572-4b79-b175-954257ee30c1",
   "metadata": {},
   "outputs": [
    {
     "data": {
      "text/plain": [
       "'to data science masters'"
      ]
     },
     "execution_count": 27,
     "metadata": {},
     "output_type": "execute_result"
    }
   ],
   "source": [
    "str1[8:]"
   ]
  },
  {
   "cell_type": "code",
   "execution_count": 18,
   "id": "6c29fca4-a5b3-43ec-9e10-b0386f8e114e",
   "metadata": {},
   "outputs": [
    {
     "data": {
      "text/plain": [
       "'to data'"
      ]
     },
     "execution_count": 18,
     "metadata": {},
     "output_type": "execute_result"
    }
   ],
   "source": [
    "str1[8:15]"
   ]
  },
  {
   "cell_type": "code",
   "execution_count": 19,
   "id": "2eacc6b3-390d-4638-b98f-e8c88cbe4d28",
   "metadata": {},
   "outputs": [
    {
     "data": {
      "text/plain": [
       "'s'"
      ]
     },
     "execution_count": 19,
     "metadata": {},
     "output_type": "execute_result"
    }
   ],
   "source": [
    "str1[-1]"
   ]
  },
  {
   "cell_type": "code",
   "execution_count": 20,
   "id": "c4b02e2c-d19b-4f6a-a8a2-90ab23059d71",
   "metadata": {},
   "outputs": [
    {
     "data": {
      "text/plain": [
       "'s'"
      ]
     },
     "execution_count": 20,
     "metadata": {},
     "output_type": "execute_result"
    }
   ],
   "source": [
    "str1[-1:]"
   ]
  },
  {
   "cell_type": "code",
   "execution_count": 22,
   "id": "96d5c6d8-7ab9-4381-af47-ebd4dc68c5e4",
   "metadata": {},
   "outputs": [
    {
     "data": {
      "text/plain": [
       "'sters'"
      ]
     },
     "execution_count": 22,
     "metadata": {},
     "output_type": "execute_result"
    }
   ],
   "source": [
    "str1[-5:]"
   ]
  },
  {
   "cell_type": "code",
   "execution_count": 25,
   "id": "358084b0-736e-4665-aabd-28b4295dbee9",
   "metadata": {},
   "outputs": [
    {
     "data": {
      "text/plain": [
       "'s'"
      ]
     },
     "execution_count": 25,
     "metadata": {},
     "output_type": "execute_result"
    }
   ],
   "source": [
    "str1[-5:-4]"
   ]
  },
  {
   "cell_type": "code",
   "execution_count": 26,
   "id": "11b384f1-b24a-4e36-984b-7c033f230669",
   "metadata": {},
   "outputs": [
    {
     "data": {
      "text/plain": [
       "'welcome to data science master'"
      ]
     },
     "execution_count": 26,
     "metadata": {},
     "output_type": "execute_result"
    }
   ],
   "source": [
    "str1[:-1]"
   ]
  },
  {
   "cell_type": "code",
   "execution_count": 28,
   "id": "bc60f3c2-3009-481f-bfd8-b8e2d98ad9c8",
   "metadata": {},
   "outputs": [
    {
     "data": {
      "text/plain": [
       "'welcome to data science masters'"
      ]
     },
     "execution_count": 28,
     "metadata": {},
     "output_type": "execute_result"
    }
   ],
   "source": [
    "str1[::]"
   ]
  },
  {
   "cell_type": "code",
   "execution_count": 29,
   "id": "41488cb4-6429-4748-8e0a-8161df490b88",
   "metadata": {},
   "outputs": [
    {
     "data": {
      "text/plain": [
       "'sretsam ecneics atad ot emoclew'"
      ]
     },
     "execution_count": 29,
     "metadata": {},
     "output_type": "execute_result"
    }
   ],
   "source": [
    "str1[::-1]"
   ]
  },
  {
   "cell_type": "code",
   "execution_count": 31,
   "id": "ccacfc4e-c882-468d-806f-144b7289c44f",
   "metadata": {},
   "outputs": [
    {
     "data": {
      "text/plain": [
       "'sesmenisaa teolw'"
      ]
     },
     "execution_count": 31,
     "metadata": {},
     "output_type": "execute_result"
    }
   ],
   "source": [
    "str1[::-2]"
   ]
  },
  {
   "cell_type": "code",
   "execution_count": 32,
   "id": "ccbb7683-3106-41d3-a4ef-0c8b38383cf6",
   "metadata": {},
   "outputs": [
    {
     "data": {
      "text/plain": [
       "'emoclew'"
      ]
     },
     "execution_count": 32,
     "metadata": {},
     "output_type": "execute_result"
    }
   ],
   "source": [
    "str1[6::-1]"
   ]
  },
  {
   "cell_type": "code",
   "execution_count": 35,
   "id": "5d9b660f-9c69-4c50-9f96-39dad53011db",
   "metadata": {},
   "outputs": [
    {
     "data": {
      "text/plain": [
       "'emo'"
      ]
     },
     "execution_count": 35,
     "metadata": {},
     "output_type": "execute_result"
    }
   ],
   "source": [
    "str1[6:3:-1]"
   ]
  },
  {
   "cell_type": "code",
   "execution_count": 36,
   "id": "840b6f8d-b4fd-4694-b809-be48612cd964",
   "metadata": {},
   "outputs": [],
   "source": [
    "course=\"Data science masters\"\n"
   ]
  },
  {
   "cell_type": "code",
   "execution_count": 49,
   "id": "c99ff2c7-c7bb-4361-aa21-b8d960b398f8",
   "metadata": {},
   "outputs": [
    {
     "data": {
      "text/plain": [
       "'science'"
      ]
     },
     "execution_count": 49,
     "metadata": {},
     "output_type": "execute_result"
    }
   ],
   "source": [
    "course[5:12]"
   ]
  },
  {
   "cell_type": "code",
   "execution_count": 48,
   "id": "312e673f-344f-47c5-9f0d-68575c086ac8",
   "metadata": {},
   "outputs": [
    {
     "data": {
      "text/plain": [
       "'ecneics'"
      ]
     },
     "execution_count": 48,
     "metadata": {},
     "output_type": "execute_result"
    }
   ],
   "source": [
    "course[11:4:-1]"
   ]
  },
  {
   "cell_type": "markdown",
   "id": "56918747-eabd-4a1a-93a7-e2571942cf75",
   "metadata": {},
   "source": [
    "#### concatination"
   ]
  },
  {
   "cell_type": "code",
   "execution_count": 51,
   "id": "4e9d7a0a-a237-4d23-ae2a-5e249dd49f2f",
   "metadata": {},
   "outputs": [
    {
     "data": {
      "text/plain": [
       "'Data science masters by pwskills'"
      ]
     },
     "execution_count": 51,
     "metadata": {},
     "output_type": "execute_result"
    }
   ],
   "source": [
    "course+' by pwskills'"
   ]
  },
  {
   "cell_type": "code",
   "execution_count": 53,
   "id": "3f04c890-290e-4b2c-9864-34d365a6875d",
   "metadata": {},
   "outputs": [
    {
     "data": {
      "text/plain": [
       "'Data science mastersData science mastersData science mastersData science mastersData science masters'"
      ]
     },
     "execution_count": 53,
     "metadata": {},
     "output_type": "execute_result"
    }
   ],
   "source": [
    "course*5"
   ]
  },
  {
   "cell_type": "code",
   "execution_count": 54,
   "id": "22f04f13-6dbb-45f1-bd57-33942bd588da",
   "metadata": {},
   "outputs": [
    {
     "data": {
      "text/plain": [
       "20"
      ]
     },
     "execution_count": 54,
     "metadata": {},
     "output_type": "execute_result"
    }
   ],
   "source": [
    "len(course)"
   ]
  },
  {
   "cell_type": "code",
   "execution_count": 55,
   "id": "7c9910ff-4d39-4322-8ec1-7a412ff3c50c",
   "metadata": {},
   "outputs": [
    {
     "data": {
      "text/plain": [
       "1"
      ]
     },
     "execution_count": 55,
     "metadata": {},
     "output_type": "execute_result"
    }
   ],
   "source": [
    "course.find('a')"
   ]
  },
  {
   "cell_type": "code",
   "execution_count": 56,
   "id": "68dbc95c-fc00-4890-8dbc-bec113156249",
   "metadata": {},
   "outputs": [
    {
     "data": {
      "text/plain": [
       "3"
      ]
     },
     "execution_count": 56,
     "metadata": {},
     "output_type": "execute_result"
    }
   ],
   "source": [
    "course.count('a')"
   ]
  },
  {
   "cell_type": "code",
   "execution_count": 58,
   "id": "d85d5fe7-fd5a-486e-ad5f-fd0e86f8d008",
   "metadata": {},
   "outputs": [
    {
     "data": {
      "text/plain": [
       "['Data', 'science', 'masters']"
      ]
     },
     "execution_count": 58,
     "metadata": {},
     "output_type": "execute_result"
    }
   ],
   "source": [
    "course.split(' ')"
   ]
  },
  {
   "cell_type": "code",
   "execution_count": 59,
   "id": "1dda8889-36f3-486e-be58-56930a852a3c",
   "metadata": {},
   "outputs": [
    {
     "data": {
      "text/plain": [
       "['Data ', 'cience ma', 'ter', '']"
      ]
     },
     "execution_count": 59,
     "metadata": {},
     "output_type": "execute_result"
    }
   ],
   "source": [
    "course.split('s')"
   ]
  },
  {
   "cell_type": "code",
   "execution_count": 60,
   "id": "8a110222-c51c-41e1-9c29-cd8e18d72cac",
   "metadata": {},
   "outputs": [
    {
     "data": {
      "text/plain": [
       "'DATA SCIENCE MASTERS'"
      ]
     },
     "execution_count": 60,
     "metadata": {},
     "output_type": "execute_result"
    }
   ],
   "source": [
    "course.upper()"
   ]
  },
  {
   "cell_type": "code",
   "execution_count": null,
   "id": "00ab0028-0cad-45a2-ac65-3a9124a064d4",
   "metadata": {},
   "outputs": [],
   "source": []
  }
 ],
 "metadata": {
  "kernelspec": {
   "display_name": "Python 3 (ipykernel)",
   "language": "python",
   "name": "python3"
  },
  "language_info": {
   "codemirror_mode": {
    "name": "ipython",
    "version": 3
   },
   "file_extension": ".py",
   "mimetype": "text/x-python",
   "name": "python",
   "nbconvert_exporter": "python",
   "pygments_lexer": "ipython3",
   "version": "3.10.8"
  }
 },
 "nbformat": 4,
 "nbformat_minor": 5
}
