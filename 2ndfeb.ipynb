{
 "cells": [
  {
   "cell_type": "markdown",
   "id": "ef28da56-9d9d-4bb7-beb1-21609d009998",
   "metadata": {},
   "source": [
    "### tuples"
   ]
  },
  {
   "cell_type": "code",
   "execution_count": 2,
   "id": "bc200133-8d01-4a12-a604-e31c024a9ca8",
   "metadata": {},
   "outputs": [],
   "source": [
    "t=(1,2,3,5,4+5j,'sri',True)"
   ]
  },
  {
   "cell_type": "code",
   "execution_count": 3,
   "id": "e6d520db-cac0-4539-93ee-026910951d92",
   "metadata": {},
   "outputs": [
    {
     "data": {
      "text/plain": [
       "tuple"
      ]
     },
     "execution_count": 3,
     "metadata": {},
     "output_type": "execute_result"
    }
   ],
   "source": [
    "type(t)"
   ]
  },
  {
   "cell_type": "code",
   "execution_count": 4,
   "id": "ee529abd-e550-4de2-9217-c932df2c4a41",
   "metadata": {},
   "outputs": [
    {
     "data": {
      "text/plain": [
       "'sri'"
      ]
     },
     "execution_count": 4,
     "metadata": {},
     "output_type": "execute_result"
    }
   ],
   "source": [
    "t[5]"
   ]
  },
  {
   "cell_type": "code",
   "execution_count": 5,
   "id": "11a3c9fc-406d-4af8-973c-f76b0cffaef5",
   "metadata": {},
   "outputs": [
    {
     "data": {
      "text/plain": [
       "(True, 'sri', (4+5j), 5, 3, 2, 1)"
      ]
     },
     "execution_count": 5,
     "metadata": {},
     "output_type": "execute_result"
    }
   ],
   "source": [
    "t[::-1]"
   ]
  },
  {
   "cell_type": "code",
   "execution_count": 9,
   "id": "bec5f008-46c6-4386-ad33-b95b97978589",
   "metadata": {},
   "outputs": [
    {
     "data": {
      "text/plain": [
       "((4+5j), 5, 3, 2, 1)"
      ]
     },
     "execution_count": 9,
     "metadata": {},
     "output_type": "execute_result"
    }
   ],
   "source": [
    "t[-3:-8:-1]"
   ]
  },
  {
   "cell_type": "code",
   "execution_count": 10,
   "id": "dd36a305-23b8-4147-ba1d-333732333013",
   "metadata": {},
   "outputs": [
    {
     "data": {
      "text/plain": [
       "1"
      ]
     },
     "execution_count": 10,
     "metadata": {},
     "output_type": "execute_result"
    }
   ],
   "source": [
    "t.count(3)"
   ]
  },
  {
   "cell_type": "code",
   "execution_count": 11,
   "id": "15aab995-b5ab-4f56-9f33-6d9f659db44f",
   "metadata": {},
   "outputs": [
    {
     "data": {
      "text/plain": [
       "0"
      ]
     },
     "execution_count": 11,
     "metadata": {},
     "output_type": "execute_result"
    }
   ],
   "source": [
    "t.count(\"abc\")"
   ]
  },
  {
   "cell_type": "code",
   "execution_count": 12,
   "id": "1047c48d-006e-4cd7-9a91-75b3b54f868d",
   "metadata": {},
   "outputs": [
    {
     "data": {
      "text/plain": [
       "0"
      ]
     },
     "execution_count": 12,
     "metadata": {},
     "output_type": "execute_result"
    }
   ],
   "source": [
    "t.index(1) ### here it is giving for True bcz internally it True is stored as 1"
   ]
  },
  {
   "cell_type": "code",
   "execution_count": 14,
   "id": "d9059fd0-6d48-4942-9eb6-fb55461026f8",
   "metadata": {},
   "outputs": [
    {
     "name": "stdout",
     "output_type": "stream",
     "text": [
      "1\n",
      "1 <class 'int'>\n",
      "2\n",
      "2 <class 'int'>\n",
      "3\n",
      "3 <class 'int'>\n",
      "5\n",
      "5 <class 'int'>\n",
      "(4+5j)\n",
      "(4+5j) <class 'complex'>\n",
      "sri\n",
      "sri <class 'str'>\n",
      "True\n",
      "True <class 'bool'>\n"
     ]
    }
   ],
   "source": [
    "for i in t:\n",
    "    print(i)\n",
    "    print(i,type(i))"
   ]
  },
  {
   "cell_type": "code",
   "execution_count": 15,
   "id": "fdf646f2-4d3a-4885-ac4e-675c8f52d2be",
   "metadata": {},
   "outputs": [],
   "source": [
    "t2=(1,2,3,4)"
   ]
  },
  {
   "cell_type": "code",
   "execution_count": 17,
   "id": "eebe7d0d-49cc-4705-aaae-dbd944b49174",
   "metadata": {},
   "outputs": [],
   "source": [
    "t3=(t,t2)"
   ]
  },
  {
   "cell_type": "code",
   "execution_count": 18,
   "id": "75f27471-dd14-4d66-b8f8-91e7bd04663a",
   "metadata": {},
   "outputs": [
    {
     "data": {
      "text/plain": [
       "((1, 2, 3, 5, (4+5j), 'sri', True), (1, 2, 3, 4))"
      ]
     },
     "execution_count": 18,
     "metadata": {},
     "output_type": "execute_result"
    }
   ],
   "source": [
    "t3"
   ]
  },
  {
   "cell_type": "markdown",
   "id": "bbd04713-ee92-4640-8deb-2e9c20303f14",
   "metadata": {},
   "source": [
    "#### SETS"
   ]
  },
  {
   "cell_type": "code",
   "execution_count": 1,
   "id": "fec4790c-c72b-4deb-9eaa-0784738c0352",
   "metadata": {},
   "outputs": [],
   "source": [
    "s={}"
   ]
  },
  {
   "cell_type": "code",
   "execution_count": 2,
   "id": "9e0a5a14-23c5-451d-8825-d2585f72991b",
   "metadata": {},
   "outputs": [
    {
     "data": {
      "text/plain": [
       "dict"
      ]
     },
     "execution_count": 2,
     "metadata": {},
     "output_type": "execute_result"
    }
   ],
   "source": [
    "type(s)"
   ]
  },
  {
   "cell_type": "code",
   "execution_count": 3,
   "id": "6fc8edb3-7b2f-4c72-95f3-d84601656030",
   "metadata": {},
   "outputs": [],
   "source": [
    "s1={1,2,3}"
   ]
  },
  {
   "cell_type": "code",
   "execution_count": 4,
   "id": "f3e2b7d4-9557-4805-854b-a52547039f81",
   "metadata": {},
   "outputs": [
    {
     "data": {
      "text/plain": [
       "set"
      ]
     },
     "execution_count": 4,
     "metadata": {},
     "output_type": "execute_result"
    }
   ],
   "source": [
    "type(s1)"
   ]
  },
  {
   "cell_type": "code",
   "execution_count": 5,
   "id": "62b6a41c-a811-44d9-a6c8-127f4bbcb385",
   "metadata": {},
   "outputs": [],
   "source": [
    "s2={1,1,1,2,3,3,3,44,44,55,55,55}"
   ]
  },
  {
   "cell_type": "code",
   "execution_count": 6,
   "id": "3858183f-5694-4ff3-9d91-b8b99535f893",
   "metadata": {},
   "outputs": [
    {
     "data": {
      "text/plain": [
       "{1, 2, 3, 44, 55}"
      ]
     },
     "execution_count": 6,
     "metadata": {},
     "output_type": "execute_result"
    }
   ],
   "source": [
    "s2 ##### sets will remove the duplicates from it i,e; unique element"
   ]
  },
  {
   "cell_type": "code",
   "execution_count": 8,
   "id": "55947fe7-d8ca-4fb3-97eb-2b45c3f5e3ac",
   "metadata": {},
   "outputs": [
    {
     "data": {
      "text/plain": [
       "[1, 2, 3, 55, 44]"
      ]
     },
     "execution_count": 8,
     "metadata": {},
     "output_type": "execute_result"
    }
   ],
   "source": [
    "### convert set to list\n",
    "list(s2)"
   ]
  },
  {
   "cell_type": "code",
   "execution_count": 9,
   "id": "403b611d-7992-4fe8-bf50-321dddb7bac6",
   "metadata": {},
   "outputs": [
    {
     "data": {
      "text/plain": [
       "{1, 2, 3, 44, 55}"
      ]
     },
     "execution_count": 9,
     "metadata": {},
     "output_type": "execute_result"
    }
   ],
   "source": [
    "set(s2)"
   ]
  },
  {
   "cell_type": "code",
   "execution_count": 10,
   "id": "ec9b4d47-a93a-48be-95dc-cf1110717b3c",
   "metadata": {},
   "outputs": [
    {
     "data": {
      "text/plain": [
       "{1, 2, 3, 44, 55}"
      ]
     },
     "execution_count": 10,
     "metadata": {},
     "output_type": "execute_result"
    }
   ],
   "source": [
    "s2"
   ]
  },
  {
   "cell_type": "code",
   "execution_count": 11,
   "id": "1aa44296-f649-45be-b9fe-e5b856882982",
   "metadata": {},
   "outputs": [
    {
     "data": {
      "text/plain": [
       "{1, 2, 3, 44, 55}"
      ]
     },
     "execution_count": 11,
     "metadata": {},
     "output_type": "execute_result"
    }
   ],
   "source": [
    "s2"
   ]
  },
  {
   "cell_type": "code",
   "execution_count": 14,
   "id": "8479ece9-9c55-42b1-840f-7054598d8fb4",
   "metadata": {},
   "outputs": [
    {
     "ename": "TypeError",
     "evalue": "unhashable type: 'list'",
     "output_type": "error",
     "traceback": [
      "\u001b[0;31m---------------------------------------------------------------------------\u001b[0m",
      "\u001b[0;31mTypeError\u001b[0m                                 Traceback (most recent call last)",
      "Cell \u001b[0;32mIn[14], line 1\u001b[0m\n\u001b[0;32m----> 1\u001b[0m s3\u001b[38;5;241m=\u001b[39m{\u001b[38;5;241m1\u001b[39m,\u001b[38;5;241m2\u001b[39m,\u001b[38;5;241m3\u001b[39m,\u001b[38;5;241m4\u001b[39m,[\u001b[38;5;241m1\u001b[39m,\u001b[38;5;241m2\u001b[39m,\u001b[38;5;241m3\u001b[39m]} \u001b[38;5;66;03m### here we cant store list in a set it will give us unhashable type\u001b[39;00m\n",
      "\u001b[0;31mTypeError\u001b[0m: unhashable type: 'list'"
     ]
    }
   ],
   "source": [
    "s3={1,2,3,4,[1,2,3]} ### here we cant store list in a set it will give us unhashable type"
   ]
  },
  {
   "cell_type": "code",
   "execution_count": 15,
   "id": "10192c2c-f330-4700-883f-a838ccca79b7",
   "metadata": {},
   "outputs": [],
   "source": [
    "s4={1,2,3,4,(1,2,3,4)} ## we can store tuple in a set"
   ]
  },
  {
   "cell_type": "code",
   "execution_count": 16,
   "id": "d58d9b72-61b4-4e72-9515-ccb74f42f1c4",
   "metadata": {},
   "outputs": [
    {
     "data": {
      "text/plain": [
       "{(1, 2, 3, 4), 1, 2, 3, 4}"
      ]
     },
     "execution_count": 16,
     "metadata": {},
     "output_type": "execute_result"
    }
   ],
   "source": [
    "s4"
   ]
  },
  {
   "cell_type": "code",
   "execution_count": 19,
   "id": "2314ba13-f235-40c8-bace-e900b9af52ce",
   "metadata": {},
   "outputs": [
    {
     "data": {
      "text/plain": [
       "{1, 2, 3}"
      ]
     },
     "execution_count": 19,
     "metadata": {},
     "output_type": "execute_result"
    }
   ],
   "source": [
    "s1"
   ]
  },
  {
   "cell_type": "code",
   "execution_count": 20,
   "id": "105d10b0-0a06-4950-8754-3bd78c3138ac",
   "metadata": {},
   "outputs": [
    {
     "ename": "TypeError",
     "evalue": "'set' object is not subscriptable",
     "output_type": "error",
     "traceback": [
      "\u001b[0;31m---------------------------------------------------------------------------\u001b[0m",
      "\u001b[0;31mTypeError\u001b[0m                                 Traceback (most recent call last)",
      "Cell \u001b[0;32mIn[20], line 1\u001b[0m\n\u001b[0;32m----> 1\u001b[0m \u001b[43ms1\u001b[49m\u001b[43m[\u001b[49m\u001b[38;5;241;43m0\u001b[39;49m\u001b[43m]\u001b[49m\n",
      "\u001b[0;31mTypeError\u001b[0m: 'set' object is not subscriptable"
     ]
    }
   ],
   "source": [
    "s1[0]"
   ]
  },
  {
   "cell_type": "code",
   "execution_count": 21,
   "id": "1c46fb37-9f6b-4dc7-ae14-8878952c9e5c",
   "metadata": {},
   "outputs": [
    {
     "ename": "TypeError",
     "evalue": "'set' object is not subscriptable",
     "output_type": "error",
     "traceback": [
      "\u001b[0;31m---------------------------------------------------------------------------\u001b[0m",
      "\u001b[0;31mTypeError\u001b[0m                                 Traceback (most recent call last)",
      "Cell \u001b[0;32mIn[21], line 1\u001b[0m\n\u001b[0;32m----> 1\u001b[0m \u001b[43ms1\u001b[49m\u001b[43m[\u001b[49m\u001b[43m:\u001b[49m\u001b[43m:\u001b[49m\u001b[38;5;241;43m-\u001b[39;49m\u001b[38;5;241;43m1\u001b[39;49m\u001b[43m]\u001b[49m\n",
      "\u001b[0;31mTypeError\u001b[0m: 'set' object is not subscriptable"
     ]
    }
   ],
   "source": [
    "s1[::-1]"
   ]
  },
  {
   "cell_type": "code",
   "execution_count": 22,
   "id": "0ac51865-f352-4158-b95f-e7169d848313",
   "metadata": {},
   "outputs": [
    {
     "name": "stdout",
     "output_type": "stream",
     "text": [
      "1\n",
      "2\n",
      "3\n"
     ]
    }
   ],
   "source": [
    "for i in s1:\n",
    "    print(i)"
   ]
  },
  {
   "cell_type": "code",
   "execution_count": 23,
   "id": "a4a04427-ab9b-429c-a392-c600d7d2b1e0",
   "metadata": {},
   "outputs": [],
   "source": [
    "s1.add(5)"
   ]
  },
  {
   "cell_type": "code",
   "execution_count": 24,
   "id": "8f8798dc-f1df-4950-92ef-3b1ab2d3d718",
   "metadata": {},
   "outputs": [
    {
     "data": {
      "text/plain": [
       "{1, 2, 3, 5}"
      ]
     },
     "execution_count": 24,
     "metadata": {},
     "output_type": "execute_result"
    }
   ],
   "source": [
    "s1"
   ]
  },
  {
   "cell_type": "code",
   "execution_count": 25,
   "id": "87160f45-101b-44e2-b706-2994ecd1a691",
   "metadata": {},
   "outputs": [
    {
     "data": {
      "text/plain": [
       "1"
      ]
     },
     "execution_count": 25,
     "metadata": {},
     "output_type": "execute_result"
    }
   ],
   "source": [
    "s1.pop() ##  removing element"
   ]
  },
  {
   "cell_type": "code",
   "execution_count": 26,
   "id": "f7afdd5e-baca-4360-a1d0-0cb8ebd0d16e",
   "metadata": {},
   "outputs": [],
   "source": [
    "s5={1,2,3,4}\n",
    "s6={1,2,3,5}"
   ]
  },
  {
   "cell_type": "code",
   "execution_count": 27,
   "id": "a97ab134-bec2-4b57-84e0-17026bea2cee",
   "metadata": {},
   "outputs": [
    {
     "data": {
      "text/plain": [
       "{4}"
      ]
     },
     "execution_count": 27,
     "metadata": {},
     "output_type": "execute_result"
    }
   ],
   "source": [
    "s5.difference(s6)"
   ]
  },
  {
   "cell_type": "code",
   "execution_count": 28,
   "id": "8c491b3c-e309-4750-82c4-db82b740f202",
   "metadata": {},
   "outputs": [
    {
     "data": {
      "text/plain": [
       "{5}"
      ]
     },
     "execution_count": 28,
     "metadata": {},
     "output_type": "execute_result"
    }
   ],
   "source": [
    "s6.difference(s5)"
   ]
  },
  {
   "cell_type": "markdown",
   "id": "8abcfa0d-0f91-42f2-9936-0c4809603e48",
   "metadata": {},
   "source": [
    "#### DICTIONARY"
   ]
  },
  {
   "cell_type": "code",
   "execution_count": 1,
   "id": "635df281-9de4-40fa-b857-c5523e258f9b",
   "metadata": {},
   "outputs": [],
   "source": [
    "d={}"
   ]
  },
  {
   "cell_type": "code",
   "execution_count": 2,
   "id": "4715a36b-ee83-4b39-9b9e-0899c1f999e3",
   "metadata": {},
   "outputs": [
    {
     "data": {
      "text/plain": [
       "dict"
      ]
     },
     "execution_count": 2,
     "metadata": {},
     "output_type": "execute_result"
    }
   ],
   "source": [
    "type(d)"
   ]
  },
  {
   "cell_type": "code",
   "execution_count": 3,
   "id": "6f913b31-861a-4b3e-98d9-5d460880b4f0",
   "metadata": {},
   "outputs": [],
   "source": [
    "d1={\"name\":\"sri\",\"email\":\"s.n@gmail.com\",\"num\":\"123455\"}"
   ]
  },
  {
   "cell_type": "code",
   "execution_count": 4,
   "id": "04d16050-116d-4c52-944f-4e3137a9bb3c",
   "metadata": {},
   "outputs": [
    {
     "data": {
      "text/plain": [
       "{'name': 'sri', 'email': 's.n@gmail.com', 'num': '123455'}"
      ]
     },
     "execution_count": 4,
     "metadata": {},
     "output_type": "execute_result"
    }
   ],
   "source": [
    "d1"
   ]
  },
  {
   "cell_type": "code",
   "execution_count": 5,
   "id": "8e8f5bd8-3408-4ead-9677-19600d715d7e",
   "metadata": {},
   "outputs": [],
   "source": [
    "d2={\"name\":\"sri\",\"name\":\"harshitha\"}"
   ]
  },
  {
   "cell_type": "code",
   "execution_count": 7,
   "id": "975d9fdd-1192-48b9-b658-0861881b7d8a",
   "metadata": {},
   "outputs": [
    {
     "data": {
      "text/plain": [
       "{'name': 'harshitha'}"
      ]
     },
     "execution_count": 7,
     "metadata": {},
     "output_type": "execute_result"
    }
   ],
   "source": [
    "d2 #### keys are unique so here 1st name is overwritten by 2nd name"
   ]
  },
  {
   "cell_type": "code",
   "execution_count": 8,
   "id": "3c9601f5-08a4-4489-9466-e881d8556e0f",
   "metadata": {},
   "outputs": [
    {
     "data": {
      "text/plain": [
       "'harshitha'"
      ]
     },
     "execution_count": 8,
     "metadata": {},
     "output_type": "execute_result"
    }
   ],
   "source": [
    "d2[\"name\"]"
   ]
  },
  {
   "cell_type": "code",
   "execution_count": 9,
   "id": "f8b75385-92a0-4810-95d3-94324da3c575",
   "metadata": {},
   "outputs": [],
   "source": [
    "### key can be string ,int,float,boolen value\n",
    "d3={23:\"abc\"}"
   ]
  },
  {
   "cell_type": "code",
   "execution_count": 10,
   "id": "825e895f-e820-4217-bfc0-8b0a670c593f",
   "metadata": {},
   "outputs": [
    {
     "data": {
      "text/plain": [
       "{23: 'abc'}"
      ]
     },
     "execution_count": 10,
     "metadata": {},
     "output_type": "execute_result"
    }
   ],
   "source": [
    "d3"
   ]
  },
  {
   "cell_type": "code",
   "execution_count": 11,
   "id": "2feb38e9-f8e7-4b21-9ba7-e6d99917684b",
   "metadata": {},
   "outputs": [],
   "source": [
    "d3={23.6:'abc'}"
   ]
  },
  {
   "cell_type": "code",
   "execution_count": 12,
   "id": "5a828195-2009-466e-aabe-31fa16b4bc68",
   "metadata": {},
   "outputs": [
    {
     "data": {
      "text/plain": [
       "{23.6: 'abc'}"
      ]
     },
     "execution_count": 12,
     "metadata": {},
     "output_type": "execute_result"
    }
   ],
   "source": [
    "d3"
   ]
  },
  {
   "cell_type": "code",
   "execution_count": 14,
   "id": "89a63fe7-1430-47ab-b99e-1861f4f321aa",
   "metadata": {},
   "outputs": [],
   "source": [
    "d3={True:\"abc\"}"
   ]
  },
  {
   "cell_type": "code",
   "execution_count": 15,
   "id": "476bc198-2ff6-493c-9a80-7e9b3a27d0c0",
   "metadata": {},
   "outputs": [
    {
     "data": {
      "text/plain": [
       "{True: 'abc'}"
      ]
     },
     "execution_count": 15,
     "metadata": {},
     "output_type": "execute_result"
    }
   ],
   "source": [
    "d3"
   ]
  },
  {
   "cell_type": "code",
   "execution_count": 16,
   "id": "885129a3-8974-4ea4-b93b-559b6d1a3807",
   "metadata": {},
   "outputs": [
    {
     "ename": "SyntaxError",
     "evalue": "incomplete input (3499056350.py, line 1)",
     "output_type": "error",
     "traceback": [
      "\u001b[0;36m  Cell \u001b[0;32mIn[16], line 1\u001b[0;36m\u001b[0m\n\u001b[0;31m    d4={# :\"abc\"}\u001b[0m\n\u001b[0m                 ^\u001b[0m\n\u001b[0;31mSyntaxError\u001b[0m\u001b[0;31m:\u001b[0m incomplete input\n"
     ]
    }
   ],
   "source": [
    "d4={# :\"abc\"} ### no special case characters in key unless untill it is written in \"\" so that it will take as string"
   ]
  },
  {
   "cell_type": "code",
   "execution_count": 17,
   "id": "132e89b8-10f0-4006-981d-ffc67116cfc3",
   "metadata": {},
   "outputs": [],
   "source": [
    "d4={\"#\":\"abc\"}"
   ]
  },
  {
   "cell_type": "code",
   "execution_count": 18,
   "id": "5bc44a3c-81c5-4dab-a1bb-f6a644a60888",
   "metadata": {},
   "outputs": [
    {
     "data": {
      "text/plain": [
       "{'#': 'abc'}"
      ]
     },
     "execution_count": 18,
     "metadata": {},
     "output_type": "execute_result"
    }
   ],
   "source": [
    "d4"
   ]
  },
  {
   "cell_type": "code",
   "execution_count": 19,
   "id": "fde26eb2-6b21-4c4f-a08a-a94e67838924",
   "metadata": {},
   "outputs": [
    {
     "ename": "TypeError",
     "evalue": "unhashable type: 'list'",
     "output_type": "error",
     "traceback": [
      "\u001b[0;31m---------------------------------------------------------------------------\u001b[0m",
      "\u001b[0;31mTypeError\u001b[0m                                 Traceback (most recent call last)",
      "Cell \u001b[0;32mIn[19], line 1\u001b[0m\n\u001b[0;32m----> 1\u001b[0m d5\u001b[38;5;241m=\u001b[39m{[\u001b[38;5;241m1\u001b[39m,\u001b[38;5;241m2\u001b[39m,\u001b[38;5;241m3\u001b[39m]:\u001b[38;5;124m\"\u001b[39m\u001b[38;5;124mabc\u001b[39m\u001b[38;5;124m\"\u001b[39m}\n",
      "\u001b[0;31mTypeError\u001b[0m: unhashable type: 'list'"
     ]
    }
   ],
   "source": [
    "d5={[1,2,3]:\"abc\"} ### list is not accepting as a key "
   ]
  },
  {
   "cell_type": "code",
   "execution_count": 20,
   "id": "1e6ddf70-defa-4d06-844a-559ee20d8b36",
   "metadata": {},
   "outputs": [],
   "source": [
    "d5={(1,2,3):\"abc\"} ## tuplea are accepted as a key "
   ]
  },
  {
   "cell_type": "code",
   "execution_count": 21,
   "id": "b64175cd-85d7-49ae-be23-c7083d8d71af",
   "metadata": {},
   "outputs": [
    {
     "data": {
      "text/plain": [
       "{(1, 2, 3): 'abc'}"
      ]
     },
     "execution_count": 21,
     "metadata": {},
     "output_type": "execute_result"
    }
   ],
   "source": [
    "d5"
   ]
  },
  {
   "cell_type": "code",
   "execution_count": 22,
   "id": "172d0c4d-dc4c-4ad4-9ea7-68becaa63bea",
   "metadata": {},
   "outputs": [
    {
     "ename": "TypeError",
     "evalue": "unhashable type: 'set'",
     "output_type": "error",
     "traceback": [
      "\u001b[0;31m---------------------------------------------------------------------------\u001b[0m",
      "\u001b[0;31mTypeError\u001b[0m                                 Traceback (most recent call last)",
      "Cell \u001b[0;32mIn[22], line 1\u001b[0m\n\u001b[0;32m----> 1\u001b[0m d6\u001b[38;5;241m=\u001b[39m{{\u001b[38;5;241m1\u001b[39m,\u001b[38;5;241m2\u001b[39m,\u001b[38;5;241m3\u001b[39m}:\u001b[38;5;124m\"\u001b[39m\u001b[38;5;124mabc\u001b[39m\u001b[38;5;124m\"\u001b[39m}\n",
      "\u001b[0;31mTypeError\u001b[0m: unhashable type: 'set'"
     ]
    }
   ],
   "source": [
    "d6={{1,2,3}:\"abc\"} ## sets are not considered as a key "
   ]
  },
  {
   "cell_type": "code",
   "execution_count": 23,
   "id": "da4aec0a-8514-4877-b193-cf6992a9a6e5",
   "metadata": {},
   "outputs": [
    {
     "ename": "TypeError",
     "evalue": "unhashable type: 'dict'",
     "output_type": "error",
     "traceback": [
      "\u001b[0;31m---------------------------------------------------------------------------\u001b[0m",
      "\u001b[0;31mTypeError\u001b[0m                                 Traceback (most recent call last)",
      "Cell \u001b[0;32mIn[23], line 1\u001b[0m\n\u001b[0;32m----> 1\u001b[0m d7\u001b[38;5;241m=\u001b[39m{{\u001b[38;5;124m\"\u001b[39m\u001b[38;5;124mkey\u001b[39m\u001b[38;5;124m\"\u001b[39m:\u001b[38;5;124m\"\u001b[39m\u001b[38;5;124mvalue\u001b[39m\u001b[38;5;124m\"\u001b[39m}:\u001b[38;5;124m\"\u001b[39m\u001b[38;5;124mABC\u001b[39m\u001b[38;5;124m\"\u001b[39m}\n",
      "\u001b[0;31mTypeError\u001b[0m: unhashable type: 'dict'"
     ]
    }
   ],
   "source": [
    "d7={{\"key\":\"value\"}:\"ABC\"} ### dict cant take as a key"
   ]
  },
  {
   "cell_type": "code",
   "execution_count": 24,
   "id": "ecaed35b-cbc6-4e5e-a704-fe6184cfa64d",
   "metadata": {},
   "outputs": [],
   "source": [
    "d8={\"key\":[1,2,3,4]}"
   ]
  },
  {
   "cell_type": "code",
   "execution_count": 25,
   "id": "7cd84f75-37a2-4f10-9b99-9e3b2cb4fec3",
   "metadata": {},
   "outputs": [
    {
     "data": {
      "text/plain": [
       "{'key': [1, 2, 3, 4]}"
      ]
     },
     "execution_count": 25,
     "metadata": {},
     "output_type": "execute_result"
    }
   ],
   "source": [
    "d8"
   ]
  },
  {
   "cell_type": "code",
   "execution_count": 26,
   "id": "095951c4-fef1-40f2-a915-b185ea077bab",
   "metadata": {},
   "outputs": [],
   "source": [
    "d9={\"key\":(1,2,3,)}"
   ]
  },
  {
   "cell_type": "code",
   "execution_count": 27,
   "id": "7a41fa66-2a9b-4215-abfc-170a29d55f3a",
   "metadata": {},
   "outputs": [
    {
     "data": {
      "text/plain": [
       "{'key': (1, 2, 3)}"
      ]
     },
     "execution_count": 27,
     "metadata": {},
     "output_type": "execute_result"
    }
   ],
   "source": [
    "d9"
   ]
  },
  {
   "cell_type": "code",
   "execution_count": 28,
   "id": "cdcb617e-7053-47ed-83c8-8a9fbead495d",
   "metadata": {},
   "outputs": [],
   "source": [
    "d10={'key':{1,2.,3}}"
   ]
  },
  {
   "cell_type": "code",
   "execution_count": 29,
   "id": "7338e1e6-de21-4459-9d10-d5931d1b1665",
   "metadata": {},
   "outputs": [
    {
     "data": {
      "text/plain": [
       "{'key': {1, 2.0, 3}}"
      ]
     },
     "execution_count": 29,
     "metadata": {},
     "output_type": "execute_result"
    }
   ],
   "source": [
    "d10"
   ]
  },
  {
   "cell_type": "code",
   "execution_count": 3,
   "id": "a3f777cd-60e1-40c8-8b5e-cc7efe1d611b",
   "metadata": {},
   "outputs": [],
   "source": [
    "d11={'key':{\"key\":\"value\",\"name\":\"sri\"}}"
   ]
  },
  {
   "cell_type": "code",
   "execution_count": 11,
   "id": "3f48c459-6ce5-4f1e-8d2d-5f047b3ac6c8",
   "metadata": {},
   "outputs": [
    {
     "data": {
      "text/plain": [
       "{'key': {'key': 'value', 'name': 'sri'}}"
      ]
     },
     "execution_count": 11,
     "metadata": {},
     "output_type": "execute_result"
    }
   ],
   "source": [
    "d11"
   ]
  },
  {
   "cell_type": "markdown",
   "id": "a30f0553-2a8b-4ace-a560-1e1537d793c2",
   "metadata": {},
   "source": [
    "### from the above we can say that key can be int, string ,float,tuple but not list,set,dict \n",
    "### but where as for value it can be list,tuple,set,dict"
   ]
  },
  {
   "cell_type": "code",
   "execution_count": 4,
   "id": "05e672c5-a4cf-41f1-8f5e-c643603b7c36",
   "metadata": {},
   "outputs": [],
   "source": [
    "## inserting new key and value pair for the old one\n",
    "d11[\"timing\"]=(8,8,9)"
   ]
  },
  {
   "cell_type": "code",
   "execution_count": 5,
   "id": "ea331920-2a97-4a15-8c33-dbb49ab75684",
   "metadata": {},
   "outputs": [
    {
     "data": {
      "text/plain": [
       "{'key': {'key': 'value', 'name': 'sri'}, 'timing': (8, 8, 9)}"
      ]
     },
     "execution_count": 5,
     "metadata": {},
     "output_type": "execute_result"
    }
   ],
   "source": [
    "d11"
   ]
  },
  {
   "cell_type": "code",
   "execution_count": 8,
   "id": "2ce274b9-3af1-4087-a39b-851a852d83c9",
   "metadata": {},
   "outputs": [
    {
     "data": {
      "text/plain": [
       "{'key': 'value'}"
      ]
     },
     "execution_count": 8,
     "metadata": {},
     "output_type": "execute_result"
    }
   ],
   "source": [
    "d11['key']"
   ]
  },
  {
   "cell_type": "code",
   "execution_count": 2,
   "id": "9247700d-10dc-4378-82e6-db1664eb2f06",
   "metadata": {},
   "outputs": [
    {
     "ename": "NameError",
     "evalue": "name 'd11' is not defined",
     "output_type": "error",
     "traceback": [
      "\u001b[0;31m---------------------------------------------------------------------------\u001b[0m",
      "\u001b[0;31mNameError\u001b[0m                                 Traceback (most recent call last)",
      "Cell \u001b[0;32mIn[2], line 1\u001b[0m\n\u001b[0;32m----> 1\u001b[0m \u001b[43md11\u001b[49m\n",
      "\u001b[0;31mNameError\u001b[0m: name 'd11' is not defined"
     ]
    }
   ],
   "source": [
    "d11"
   ]
  },
  {
   "cell_type": "code",
   "execution_count": 15,
   "id": "961254f0-0122-49a7-bcf0-f44f867bd08d",
   "metadata": {},
   "outputs": [
    {
     "data": {
      "text/plain": [
       "{'key': 'value', 'name': 'sri'}"
      ]
     },
     "execution_count": 15,
     "metadata": {},
     "output_type": "execute_result"
    }
   ],
   "source": [
    "d11['key']"
   ]
  },
  {
   "cell_type": "code",
   "execution_count": 16,
   "id": "2ddbeebf-2f9e-42e4-a64e-0460f1c1b4a8",
   "metadata": {},
   "outputs": [
    {
     "data": {
      "text/plain": [
       "dict"
      ]
     },
     "execution_count": 16,
     "metadata": {},
     "output_type": "execute_result"
    }
   ],
   "source": [
    "type(d11['key'])"
   ]
  },
  {
   "cell_type": "code",
   "execution_count": 18,
   "id": "1130ad32-8f1b-4968-af83-300effdbe633",
   "metadata": {},
   "outputs": [
    {
     "data": {
      "text/plain": [
       "'sri'"
      ]
     },
     "execution_count": 18,
     "metadata": {},
     "output_type": "execute_result"
    }
   ],
   "source": [
    "d11['key']['name'] #### how to take value of dict inside a dict -> just go thru one by one"
   ]
  },
  {
   "cell_type": "code",
   "execution_count": 6,
   "id": "78aaa171-9e0b-4c3e-be28-21f756efa447",
   "metadata": {},
   "outputs": [],
   "source": [
    "d11['key1']='abc'"
   ]
  },
  {
   "cell_type": "code",
   "execution_count": 7,
   "id": "908f8fcd-33d6-4907-afad-b5e7dd185850",
   "metadata": {},
   "outputs": [
    {
     "data": {
      "text/plain": [
       "{'key': {'key': 'value', 'name': 'sri'}, 'timing': (8, 8, 9), 'key1': 'abc'}"
      ]
     },
     "execution_count": 7,
     "metadata": {},
     "output_type": "execute_result"
    }
   ],
   "source": [
    "d11"
   ]
  },
  {
   "cell_type": "code",
   "execution_count": 21,
   "id": "c8b30660-25f6-4b92-ad34-020a58e19f28",
   "metadata": {},
   "outputs": [],
   "source": [
    "### to delet one key value pair\n",
    "del d11['key1']"
   ]
  },
  {
   "cell_type": "code",
   "execution_count": 22,
   "id": "be06484b-b9e2-4a90-9b06-c6b063693e16",
   "metadata": {},
   "outputs": [
    {
     "data": {
      "text/plain": [
       "{'key': {'key': 'value', 'name': 'sri'}, 'timing': (8, 8, 9)}"
      ]
     },
     "execution_count": 22,
     "metadata": {},
     "output_type": "execute_result"
    }
   ],
   "source": [
    "d11"
   ]
  },
  {
   "cell_type": "code",
   "execution_count": 24,
   "id": "1568c3f2-d005-43da-8785-c96bb732d99b",
   "metadata": {},
   "outputs": [
    {
     "data": {
      "text/plain": [
       "tuple"
      ]
     },
     "execution_count": 24,
     "metadata": {},
     "output_type": "execute_result"
    }
   ],
   "source": [
    "type(d11['timing'])"
   ]
  },
  {
   "cell_type": "code",
   "execution_count": 25,
   "id": "2b594fa4-cde2-4866-8dca-103c82cd9fd9",
   "metadata": {},
   "outputs": [],
   "source": [
    "d12=d11.copy() #### copying data i.e; replica #### deep copy if we delete somthing in d11 it wont reflect in d12"
   ]
  },
  {
   "cell_type": "code",
   "execution_count": 26,
   "id": "8c411bd9-dbe3-489f-844a-4d702c9a01f6",
   "metadata": {},
   "outputs": [
    {
     "data": {
      "text/plain": [
       "{'key': {'key': 'value', 'name': 'sri'}, 'timing': (8, 8, 9)}"
      ]
     },
     "execution_count": 26,
     "metadata": {},
     "output_type": "execute_result"
    }
   ],
   "source": [
    "d12"
   ]
  },
  {
   "cell_type": "code",
   "execution_count": 27,
   "id": "d0c2d7e0-2c87-46c1-b137-fe2183f42f90",
   "metadata": {},
   "outputs": [
    {
     "data": {
      "text/plain": [
       "{'key': {'key': 'value', 'name': 'sri'}, 'timing': (8, 8, 9)}"
      ]
     },
     "execution_count": 27,
     "metadata": {},
     "output_type": "execute_result"
    }
   ],
   "source": [
    "d11"
   ]
  },
  {
   "cell_type": "code",
   "execution_count": 28,
   "id": "409fb450-6e20-40ce-9b9e-cd5a30220a2d",
   "metadata": {},
   "outputs": [],
   "source": [
    "d13=d11 ### shoallow copy if we delete somthing in d11 it will reflect in d13"
   ]
  },
  {
   "cell_type": "code",
   "execution_count": 29,
   "id": "18dc9974-345a-4864-8d4e-4c5a83fee9d1",
   "metadata": {},
   "outputs": [
    {
     "data": {
      "text/plain": [
       "{'key': {'key': 'value', 'name': 'sri'}, 'timing': (8, 8, 9)}"
      ]
     },
     "execution_count": 29,
     "metadata": {},
     "output_type": "execute_result"
    }
   ],
   "source": [
    "d13"
   ]
  },
  {
   "cell_type": "code",
   "execution_count": 30,
   "id": "b8f82e33-89d4-4efd-a740-d03d5cae3c17",
   "metadata": {},
   "outputs": [
    {
     "data": {
      "text/plain": [
       "{'key': {'key': 'value', 'name': 'sri'}, 'timing': (8, 8, 9)}"
      ]
     },
     "execution_count": 30,
     "metadata": {},
     "output_type": "execute_result"
    }
   ],
   "source": [
    "d11"
   ]
  },
  {
   "cell_type": "code",
   "execution_count": 8,
   "id": "f5014001-7071-407d-b7c1-4f83ab1eb4da",
   "metadata": {},
   "outputs": [
    {
     "ename": "TypeError",
     "evalue": "pop expected at least 1 argument, got 0",
     "output_type": "error",
     "traceback": [
      "\u001b[0;31m---------------------------------------------------------------------------\u001b[0m",
      "\u001b[0;31mTypeError\u001b[0m                                 Traceback (most recent call last)",
      "Cell \u001b[0;32mIn[8], line 1\u001b[0m\n\u001b[0;32m----> 1\u001b[0m \u001b[43md11\u001b[49m\u001b[38;5;241;43m.\u001b[39;49m\u001b[43mpop\u001b[49m\u001b[43m(\u001b[49m\u001b[43m)\u001b[49m\n",
      "\u001b[0;31mTypeError\u001b[0m: pop expected at least 1 argument, got 0"
     ]
    }
   ],
   "source": [
    "d11.pop() ### here pop is expecting a key "
   ]
  },
  {
   "cell_type": "code",
   "execution_count": 10,
   "id": "02393d70-15b5-4e0e-9217-21a3b49f2557",
   "metadata": {},
   "outputs": [
    {
     "data": {
      "text/plain": [
       "(8, 8, 9)"
      ]
     },
     "execution_count": 10,
     "metadata": {},
     "output_type": "execute_result"
    }
   ],
   "source": [
    "d11.pop(\"timing\")"
   ]
  },
  {
   "cell_type": "code",
   "execution_count": 11,
   "id": "9c87b128-5240-40b6-ba9e-26b797d147b0",
   "metadata": {},
   "outputs": [
    {
     "data": {
      "text/plain": [
       "{'key': {'key': 'value', 'name': 'sri'}, 'key1': 'abc'}"
      ]
     },
     "execution_count": 11,
     "metadata": {},
     "output_type": "execute_result"
    }
   ],
   "source": [
    "d11"
   ]
  },
  {
   "cell_type": "code",
   "execution_count": 15,
   "id": "81b2bda1-4c51-46a1-9034-69ab79022e72",
   "metadata": {},
   "outputs": [],
   "source": [
    "d={}"
   ]
  },
  {
   "cell_type": "code",
   "execution_count": 16,
   "id": "7e0fe61c-f47b-419f-964e-a647abd16f4e",
   "metadata": {},
   "outputs": [
    {
     "data": {
      "text/plain": [
       "{1: ('a', 'b', 'c'), 2: ('a', 'b', 'c'), 3: ('a', 'b', 'c')}"
      ]
     },
     "execution_count": 16,
     "metadata": {},
     "output_type": "execute_result"
    }
   ],
   "source": [
    "d.fromkeys((1,2,3),(\"a\",\"b\",'c'))"
   ]
  },
  {
   "cell_type": "code",
   "execution_count": 2,
   "id": "8c6b4543-080b-4a47-b50f-e5e58dca5bd7",
   "metadata": {},
   "outputs": [],
   "source": [
    "d14={\"key1\":\"value1\",\"key2\":\"value2\"}\n",
    "d15={\"key3\":\"value3\",\"key4\":\"value4\"}"
   ]
  },
  {
   "cell_type": "code",
   "execution_count": 18,
   "id": "d7cfa51c-11fd-48ca-b54a-00de1af11941",
   "metadata": {},
   "outputs": [
    {
     "data": {
      "text/plain": [
       "({'key1': 'value1', 'key2': 'value2'}, {'key3': 'value3', 'key4': 'value4'})"
      ]
     },
     "execution_count": 18,
     "metadata": {},
     "output_type": "execute_result"
    }
   ],
   "source": [
    "(d14,d15)"
   ]
  },
  {
   "cell_type": "code",
   "execution_count": 3,
   "id": "dbf079ab-4341-40c8-a81f-4a696a9518ed",
   "metadata": {},
   "outputs": [],
   "source": [
    "d14.update(d15)"
   ]
  },
  {
   "cell_type": "code",
   "execution_count": 20,
   "id": "bd6f7763-ddb6-45c6-a3db-1bdb500f4cec",
   "metadata": {},
   "outputs": [
    {
     "data": {
      "text/plain": [
       "{'key1': 'value1', 'key2': 'value2', 'key3': 'value3', 'key4': 'value4'}"
      ]
     },
     "execution_count": 20,
     "metadata": {},
     "output_type": "execute_result"
    }
   ],
   "source": [
    "d14"
   ]
  },
  {
   "cell_type": "markdown",
   "id": "fa5f80bb-5a86-46df-9f02-83d0fd76d23b",
   "metadata": {},
   "source": [
    "dictonary compreshion"
   ]
  },
  {
   "cell_type": "code",
   "execution_count": 21,
   "id": "cb6d1e45-87b2-46c9-b041-741e534edd33",
   "metadata": {},
   "outputs": [
    {
     "data": {
      "text/plain": [
       "{1: 1, 2: 4, 3: 9, 4: 16, 5: 25, 6: 36, 7: 49, 8: 64, 9: 81, 10: 100}"
      ]
     },
     "execution_count": 21,
     "metadata": {},
     "output_type": "execute_result"
    }
   ],
   "source": [
    "{i:i**2 for i in range(1,11)}"
   ]
  },
  {
   "cell_type": "code",
   "execution_count": 14,
   "id": "0f345881-2e72-494f-b543-f1af4b94ae99",
   "metadata": {},
   "outputs": [],
   "source": [
    "import math\n",
    "d15={i:math.log10(i) for i in range(1,11)}"
   ]
  },
  {
   "cell_type": "code",
   "execution_count": 24,
   "id": "cdc1d0a6-77c6-4bdc-9f30-2761595ccc63",
   "metadata": {},
   "outputs": [
    {
     "data": {
      "text/plain": [
       "True"
      ]
     },
     "execution_count": 24,
     "metadata": {},
     "output_type": "execute_result"
    }
   ],
   "source": [
    "\"key1\" in d14 ## wheather key1 key is present in the d14 dict or not"
   ]
  },
  {
   "cell_type": "code",
   "execution_count": 11,
   "id": "2772bada-c37c-4f8b-84bf-c4b28828ebda",
   "metadata": {},
   "outputs": [
    {
     "data": {
      "text/plain": [
       "dict_keys(['key1', 'key2', 'key3', 'key4'])"
      ]
     },
     "execution_count": 11,
     "metadata": {},
     "output_type": "execute_result"
    }
   ],
   "source": [
    "d14.keys()"
   ]
  },
  {
   "cell_type": "code",
   "execution_count": 15,
   "id": "30f1cc38-7088-4583-8629-adc0620d82c5",
   "metadata": {},
   "outputs": [
    {
     "data": {
      "text/plain": [
       "{1: 0.0,\n",
       " 2: 0.3010299956639812,\n",
       " 3: 0.47712125471966244,\n",
       " 4: 0.6020599913279624,\n",
       " 5: 0.6989700043360189,\n",
       " 6: 0.7781512503836436,\n",
       " 7: 0.8450980400142568,\n",
       " 8: 0.9030899869919435,\n",
       " 9: 0.9542425094393249,\n",
       " 10: 1.0}"
      ]
     },
     "execution_count": 15,
     "metadata": {},
     "output_type": "execute_result"
    }
   ],
   "source": [
    "d15"
   ]
  },
  {
   "cell_type": "code",
   "execution_count": 21,
   "id": "6b8c4591-e781-4f4d-8b4c-c57e2426c95a",
   "metadata": {},
   "outputs": [
    {
     "name": "stdout",
     "output_type": "stream",
     "text": [
      "2 : 0.3010299956639812\n",
      "4 : 0.6020599913279624\n",
      "6 : 0.7781512503836436\n",
      "8 : 0.9030899869919435\n",
      "10 : 1.0\n"
     ]
    }
   ],
   "source": [
    "for i in d15.keys():\n",
    "    if i % 2 == 0:\n",
    "        print(i,\":\",d15[i])"
   ]
  },
  {
   "cell_type": "code",
   "execution_count": null,
   "id": "817cb5e4-4c84-4712-8d0e-6c44fc2ec9ae",
   "metadata": {},
   "outputs": [],
   "source": []
  }
 ],
 "metadata": {
  "kernelspec": {
   "display_name": "Python 3 (ipykernel)",
   "language": "python",
   "name": "python3"
  },
  "language_info": {
   "codemirror_mode": {
    "name": "ipython",
    "version": 3
   },
   "file_extension": ".py",
   "mimetype": "text/x-python",
   "name": "python",
   "nbconvert_exporter": "python",
   "pygments_lexer": "ipython3",
   "version": "3.10.8"
  }
 },
 "nbformat": 4,
 "nbformat_minor": 5
}
