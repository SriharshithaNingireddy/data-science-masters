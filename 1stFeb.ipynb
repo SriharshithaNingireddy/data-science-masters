{
 "cells": [
  {
   "cell_type": "code",
   "execution_count": 1,
   "id": "54806c9c-4886-49bf-ae8e-c6145893dd7f",
   "metadata": {},
   "outputs": [],
   "source": [
    "course=\"Data science\""
   ]
  },
  {
   "cell_type": "code",
   "execution_count": 2,
   "id": "5f6f535f-4285-4965-8d39-aa8555c3c614",
   "metadata": {},
   "outputs": [
    {
     "data": {
      "text/plain": [
       "'Data science'"
      ]
     },
     "execution_count": 2,
     "metadata": {},
     "output_type": "execute_result"
    }
   ],
   "source": [
    "course.capitalize()"
   ]
  },
  {
   "cell_type": "markdown",
   "id": "75e57885-e317-49e7-810b-295241f580ba",
   "metadata": {},
   "source": [
    "## reversing astring"
   ]
  },
  {
   "cell_type": "code",
   "execution_count": 3,
   "id": "e726fd05-1010-4d5f-8afc-f104ca6dab22",
   "metadata": {},
   "outputs": [
    {
     "data": {
      "text/plain": [
       "'e c n e i c s   a t a D'"
      ]
     },
     "execution_count": 3,
     "metadata": {},
     "output_type": "execute_result"
    }
   ],
   "source": [
    "' '.join(reversed(course))"
   ]
  },
  {
   "cell_type": "code",
   "execution_count": 4,
   "id": "f85af193-f169-46eb-be74-a19d7108d3df",
   "metadata": {},
   "outputs": [
    {
     "data": {
      "text/plain": [
       "'ant'"
      ]
     },
     "execution_count": 4,
     "metadata": {},
     "output_type": "execute_result"
    }
   ],
   "source": [
    "''.join('ant')"
   ]
  },
  {
   "cell_type": "code",
   "execution_count": 6,
   "id": "f1d3cf43-506c-422a-b567-be3f8281b1da",
   "metadata": {},
   "outputs": [
    {
     "data": {
      "text/plain": [
       "'t Pwskillsn Pwskillsa'"
      ]
     },
     "execution_count": 6,
     "metadata": {},
     "output_type": "execute_result"
    }
   ],
   "source": [
    "' Pwskills'.join(reversed('ant'))"
   ]
  },
  {
   "cell_type": "code",
   "execution_count": 7,
   "id": "90827e09-496c-40c6-b6b2-a1b2dc7c1e8a",
   "metadata": {},
   "outputs": [
    {
     "data": {
      "text/plain": [
       "<reversed at 0x7f7164717d90>"
      ]
     },
     "execution_count": 7,
     "metadata": {},
     "output_type": "execute_result"
    }
   ],
   "source": [
    "reversed('sri')"
   ]
  },
  {
   "cell_type": "code",
   "execution_count": null,
   "id": "dca3238a-48d2-4733-a385-2f4ac15d5b0d",
   "metadata": {},
   "outputs": [],
   "source": []
  },
  {
   "cell_type": "code",
   "execution_count": 2,
   "id": "bdfc3d18-d6f3-412b-8bdd-e2ebc690fc01",
   "metadata": {},
   "outputs": [
    {
     "data": {
      "text/plain": [
       "['i', 'r', 's']"
      ]
     },
     "execution_count": 2,
     "metadata": {},
     "output_type": "execute_result"
    }
   ],
   "source": [
    "list(reversed('sri'))"
   ]
  },
  {
   "cell_type": "code",
   "execution_count": 3,
   "id": "fb253e2c-445c-4985-aa89-31ac73b7ded3",
   "metadata": {},
   "outputs": [
    {
     "data": {
      "text/plain": [
       "\"['i', 'r', 's']\""
      ]
     },
     "execution_count": 3,
     "metadata": {},
     "output_type": "execute_result"
    }
   ],
   "source": [
    "str(list(reversed('sri')))"
   ]
  },
  {
   "cell_type": "markdown",
   "id": "1fc47639-793c-48e2-bb37-4ebe5316d2f6",
   "metadata": {},
   "source": [
    "### removing characters from the end of the string"
   ]
  },
  {
   "cell_type": "code",
   "execution_count": 16,
   "id": "5063139b-de9c-4ff5-8bee-a71144b0756b",
   "metadata": {},
   "outputs": [],
   "source": [
    "string_a=\"   pw skills   \""
   ]
  },
  {
   "cell_type": "code",
   "execution_count": 12,
   "id": "42bf2896-300c-4892-a2ee-7e4670984c25",
   "metadata": {},
   "outputs": [
    {
     "data": {
      "text/plain": [
       "'pw skills'"
      ]
     },
     "execution_count": 12,
     "metadata": {},
     "output_type": "execute_result"
    }
   ],
   "source": [
    "string_a.strip('')"
   ]
  },
  {
   "cell_type": "code",
   "execution_count": 17,
   "id": "4146b0f6-6516-40ca-8c77-21ec7ad62280",
   "metadata": {},
   "outputs": [
    {
     "data": {
      "text/plain": [
       "'   pw skills'"
      ]
     },
     "execution_count": 17,
     "metadata": {},
     "output_type": "execute_result"
    }
   ],
   "source": [
    "string_a.rstrip(' ')"
   ]
  },
  {
   "cell_type": "code",
   "execution_count": 18,
   "id": "4f8d8062-7913-42e9-8a45-a4c37b8a0e08",
   "metadata": {},
   "outputs": [],
   "source": [
    "string_n=\"Greeting to pwskills\""
   ]
  },
  {
   "cell_type": "code",
   "execution_count": 19,
   "id": "c612418b-03f0-43b5-9e04-c6db1dff8578",
   "metadata": {},
   "outputs": [
    {
     "data": {
      "text/plain": [
       "'Greeting from pwskills'"
      ]
     },
     "execution_count": 19,
     "metadata": {},
     "output_type": "execute_result"
    }
   ],
   "source": [
    "string_n.replace(\"to\",\"from\")"
   ]
  },
  {
   "cell_type": "code",
   "execution_count": 20,
   "id": "9bf787ae-06b8-4e36-b690-b5b7e7292020",
   "metadata": {},
   "outputs": [
    {
     "data": {
      "text/plain": [
       "'Greeting to pwskills'"
      ]
     },
     "execution_count": 20,
     "metadata": {},
     "output_type": "execute_result"
    }
   ],
   "source": [
    "string_n"
   ]
  },
  {
   "cell_type": "code",
   "execution_count": 23,
   "id": "0b47e5e8-1e65-44ff-9cef-e41013e8602a",
   "metadata": {},
   "outputs": [
    {
     "data": {
      "text/plain": [
       "'hello   world'"
      ]
     },
     "execution_count": 23,
     "metadata": {},
     "output_type": "execute_result"
    }
   ],
   "source": [
    "'hello \\tworld'.expandtabs()"
   ]
  },
  {
   "cell_type": "code",
   "execution_count": 4,
   "id": "74f4a656-16b1-49c5-bedd-e6264071b12a",
   "metadata": {},
   "outputs": [],
   "source": [
    "str1=\"welcom to pwskills. welcom to Dat scienc masters\""
   ]
  },
  {
   "cell_type": "code",
   "execution_count": 25,
   "id": "041f9397-9614-4ffa-b983-ece8c252b36d",
   "metadata": {},
   "outputs": [
    {
     "data": {
      "text/plain": [
       "'welcom to pwskills. welcom to Data Science masters'"
      ]
     },
     "execution_count": 25,
     "metadata": {},
     "output_type": "execute_result"
    }
   ],
   "source": [
    "str1.replace(\"Dat\",\"Data\").replace(\"scienc\",\"Science\")"
   ]
  },
  {
   "cell_type": "code",
   "execution_count": 26,
   "id": "9255c753-d069-48cf-a76a-48a5d362afd7",
   "metadata": {},
   "outputs": [
    {
     "data": {
      "text/plain": [
       "False"
      ]
     },
     "execution_count": 26,
     "metadata": {},
     "output_type": "execute_result"
    }
   ],
   "source": [
    "str1.isupper()"
   ]
  },
  {
   "cell_type": "code",
   "execution_count": 27,
   "id": "0330fd40-511d-40a8-b377-3bbfc5b1d762",
   "metadata": {},
   "outputs": [],
   "source": [
    "str2=\"SRI\""
   ]
  },
  {
   "cell_type": "code",
   "execution_count": 28,
   "id": "5d277912-d5e1-4ef6-b261-2d57dfb69f84",
   "metadata": {},
   "outputs": [
    {
     "data": {
      "text/plain": [
       "True"
      ]
     },
     "execution_count": 28,
     "metadata": {},
     "output_type": "execute_result"
    }
   ],
   "source": [
    "str2.isupper()"
   ]
  },
  {
   "cell_type": "code",
   "execution_count": 29,
   "id": "e5cb36d0-93ea-4410-af9b-b095524d4bfa",
   "metadata": {},
   "outputs": [],
   "source": [
    "str3=\"pw skills\""
   ]
  },
  {
   "cell_type": "code",
   "execution_count": 30,
   "id": "853d6acb-210c-49ec-a2ad-3f5e0f0cfbeb",
   "metadata": {},
   "outputs": [
    {
     "data": {
      "text/plain": [
       "True"
      ]
     },
     "execution_count": 30,
     "metadata": {},
     "output_type": "execute_result"
    }
   ],
   "source": [
    "str3.endswith('s')"
   ]
  },
  {
   "cell_type": "markdown",
   "id": "2a564619-da8b-40d9-a5bc-378ec3cc60b0",
   "metadata": {},
   "source": [
    "## check if all the char are alphanumric"
   ]
  },
  {
   "cell_type": "code",
   "execution_count": 31,
   "id": "223b2c71-acb8-4c25-a4f1-373923c3b470",
   "metadata": {},
   "outputs": [],
   "source": [
    "a=\"23amdjsbchbdshj\""
   ]
  },
  {
   "cell_type": "code",
   "execution_count": 32,
   "id": "2d73152d-257b-4eb3-88e0-8ebd15d14345",
   "metadata": {},
   "outputs": [
    {
     "data": {
      "text/plain": [
       "True"
      ]
     },
     "execution_count": 32,
     "metadata": {},
     "output_type": "execute_result"
    }
   ],
   "source": [
    "a.isalnum()"
   ]
  },
  {
   "cell_type": "code",
   "execution_count": 33,
   "id": "c0753853-8c9b-4243-ba9b-534ae78699b1",
   "metadata": {},
   "outputs": [],
   "source": [
    "## to count the num of char in string\n"
   ]
  },
  {
   "cell_type": "code",
   "execution_count": 35,
   "id": "42e61826-a1c4-4666-b510-94b21472416e",
   "metadata": {},
   "outputs": [
    {
     "name": "stdout",
     "output_type": "stream",
     "text": [
      "48\n"
     ]
    }
   ],
   "source": [
    "count=0\n",
    "for i in str1:\n",
    "    count=count+1\n",
    "print(count)"
   ]
  },
  {
   "cell_type": "code",
   "execution_count": 36,
   "id": "6ea3832d-73af-4326-8a2b-ef477ae687c8",
   "metadata": {},
   "outputs": [
    {
     "data": {
      "text/plain": [
       "'welcom to pwskills. welcom to Dat scienc masters'"
      ]
     },
     "execution_count": 36,
     "metadata": {},
     "output_type": "execute_result"
    }
   ],
   "source": [
    "str1"
   ]
  },
  {
   "cell_type": "code",
   "execution_count": 37,
   "id": "e452343a-6fb2-44d2-b21a-c5486163f7fe",
   "metadata": {},
   "outputs": [
    {
     "data": {
      "text/plain": [
       "'SRI'"
      ]
     },
     "execution_count": 37,
     "metadata": {},
     "output_type": "execute_result"
    }
   ],
   "source": [
    "str2"
   ]
  },
  {
   "cell_type": "code",
   "execution_count": 38,
   "id": "04f36889-f888-47c1-b295-6f72f543b674",
   "metadata": {},
   "outputs": [
    {
     "name": "stdout",
     "output_type": "stream",
     "text": [
      "S\n",
      "R\n",
      "I\n"
     ]
    }
   ],
   "source": [
    "for i in str2:\n",
    "    print(i)"
   ]
  },
  {
   "cell_type": "code",
   "execution_count": 40,
   "id": "0464087e-545f-4bc2-971e-7b74019aa1d3",
   "metadata": {},
   "outputs": [
    {
     "name": "stdout",
     "output_type": "stream",
     "text": [
      "S\n",
      "R\n",
      "I\n"
     ]
    }
   ],
   "source": [
    "for i in range(len(str2)):\n",
    "    print(str2[i])"
   ]
  },
  {
   "cell_type": "code",
   "execution_count": 41,
   "id": "35d127c8-94c8-43d3-a96d-ca623ab14c6a",
   "metadata": {},
   "outputs": [
    {
     "data": {
      "text/plain": [
       "range(0, 3)"
      ]
     },
     "execution_count": 41,
     "metadata": {},
     "output_type": "execute_result"
    }
   ],
   "source": [
    "range(len(str2))"
   ]
  },
  {
   "cell_type": "code",
   "execution_count": 46,
   "id": "a01ddf84-2205-4d99-910b-2d70c0ae6b8c",
   "metadata": {},
   "outputs": [
    {
     "name": "stdout",
     "output_type": "stream",
     "text": [
      "I\n",
      "R\n",
      "S\n"
     ]
    }
   ],
   "source": [
    "for i in range((len(str2)-1),-1,-1):\n",
    "    print(str2[i])"
   ]
  },
  {
   "cell_type": "code",
   "execution_count": 2,
   "id": "b8d7d9c9-1cb2-48d6-9be0-71f31069ad22",
   "metadata": {},
   "outputs": [],
   "source": [
    "string=\"pw skills\""
   ]
  },
  {
   "cell_type": "code",
   "execution_count": 45,
   "id": "a5d39cd7-0b03-4f93-a16c-861f009b0d1b",
   "metadata": {},
   "outputs": [
    {
     "name": "stdout",
     "output_type": "stream",
     "text": [
      "s\n",
      "l\n",
      "l\n",
      "i\n",
      "k\n",
      "s\n",
      " \n",
      "w\n",
      "p\n"
     ]
    }
   ],
   "source": [
    "ch=len(string)-1\n",
    "while ch>=0:\n",
    "    print(string[ch])\n",
    "    ch=ch-1"
   ]
  },
  {
   "cell_type": "code",
   "execution_count": 4,
   "id": "48d6ed44-7960-449c-9a1e-49dc6351daee",
   "metadata": {},
   "outputs": [
    {
     "name": "stdout",
     "output_type": "stream",
     "text": [
      "slliks wp"
     ]
    }
   ],
   "source": [
    "ch=len(string)-1\n",
    "while ch>=0:\n",
    "    print(string[ch],end=\"\")\n",
    "    ch=ch-1"
   ]
  },
  {
   "cell_type": "code",
   "execution_count": 54,
   "id": "2760b5d1-61ab-4204-b674-b024d68c708a",
   "metadata": {},
   "outputs": [],
   "source": [
    "string=\"pw skills\""
   ]
  },
  {
   "cell_type": "code",
   "execution_count": 55,
   "id": "41e2cbbc-7892-43d2-b5ea-62aa26eca0f0",
   "metadata": {},
   "outputs": [],
   "source": [
    "name=\"pwskills\"\n",
    "vowels=\"AaEeIiOoUu\""
   ]
  },
  {
   "cell_type": "code",
   "execution_count": 56,
   "id": "29526edc-c207-4093-a57d-bb902adb897d",
   "metadata": {},
   "outputs": [
    {
     "name": "stdout",
     "output_type": "stream",
     "text": [
      "p is not vowel\n",
      "w is not vowel\n",
      "s is not vowel\n",
      "k is not vowel\n",
      "i is a vowel\n",
      "l is not vowel\n",
      "l is not vowel\n",
      "s is not vowel\n"
     ]
    }
   ],
   "source": [
    "for ch in name:\n",
    "    if ch in vowels:\n",
    "        print(\"{} is a vowel\".format(ch))\n",
    "    else:\n",
    "        print(\"{} is not vowel\".format(ch))"
   ]
  },
  {
   "cell_type": "markdown",
   "id": "eb0ec410-2fb5-4452-b6ac-d73b8a1b6e4a",
   "metadata": {},
   "source": [
    "### list"
   ]
  },
  {
   "cell_type": "code",
   "execution_count": 5,
   "id": "a4823bcf-bd97-437d-be79-57c6bf8cc6ce",
   "metadata": {},
   "outputs": [
    {
     "data": {
      "text/plain": [
       "'welcom to pwskills. welcom to Dat scienc masters'"
      ]
     },
     "execution_count": 5,
     "metadata": {},
     "output_type": "execute_result"
    }
   ],
   "source": [
    "str1"
   ]
  },
  {
   "cell_type": "code",
   "execution_count": 15,
   "id": "845ff5b6-3f9f-4edc-b7ae-b3202dc9cd03",
   "metadata": {},
   "outputs": [
    {
     "data": {
      "text/plain": [
       "['welcom', 'to', 'pwskills.', 'welcom', 'to', 'Dat', 'scienc', 'masters']"
      ]
     },
     "execution_count": 15,
     "metadata": {},
     "output_type": "execute_result"
    }
   ],
   "source": [
    "list(str1.split(\" \"))"
   ]
  },
  {
   "cell_type": "code",
   "execution_count": 6,
   "id": "b1f5d45c-fce7-40fd-b967-e689461a4030",
   "metadata": {},
   "outputs": [],
   "source": [
    "lst=(str1.split(\" \"))"
   ]
  },
  {
   "cell_type": "code",
   "execution_count": 11,
   "id": "944b6e05-c323-4471-bced-4051ad82a549",
   "metadata": {},
   "outputs": [
    {
     "data": {
      "text/plain": [
       "['masters', 'scienc', 'Dat', 'to', 'welcom', 'pwskills.', 'to', 'welcom']"
      ]
     },
     "execution_count": 11,
     "metadata": {},
     "output_type": "execute_result"
    }
   ],
   "source": [
    "lst[::-1]"
   ]
  },
  {
   "cell_type": "code",
   "execution_count": 12,
   "id": "cce50e97-03c4-4557-b633-73afb29208fe",
   "metadata": {},
   "outputs": [
    {
     "data": {
      "text/plain": [
       "['masters', 'Dat', 'welcom', 'to']"
      ]
     },
     "execution_count": 12,
     "metadata": {},
     "output_type": "execute_result"
    }
   ],
   "source": [
    "lst[::-2]"
   ]
  },
  {
   "cell_type": "code",
   "execution_count": 17,
   "id": "628587e0-f96d-436c-a5cc-fb60ae500a76",
   "metadata": {},
   "outputs": [
    {
     "data": {
      "text/plain": [
       "['to', 'welcom', 'pwskills.', 'to', 'welcom']"
      ]
     },
     "execution_count": 17,
     "metadata": {},
     "output_type": "execute_result"
    }
   ],
   "source": [
    "lst[-4::-1]"
   ]
  },
  {
   "cell_type": "code",
   "execution_count": 16,
   "id": "1d493b97-80fd-42a2-9fc2-941f7a2e65a7",
   "metadata": {},
   "outputs": [
    {
     "data": {
      "text/plain": [
       "['to', 'pwskills.', 'welcom']"
      ]
     },
     "execution_count": 16,
     "metadata": {},
     "output_type": "execute_result"
    }
   ],
   "source": [
    "lst[-4::-2]"
   ]
  },
  {
   "cell_type": "code",
   "execution_count": 64,
   "id": "e8bd84e2-2edf-4967-87a6-5c40f06a76b4",
   "metadata": {},
   "outputs": [
    {
     "data": {
      "text/plain": [
       "['to']"
      ]
     },
     "execution_count": 64,
     "metadata": {},
     "output_type": "execute_result"
    }
   ],
   "source": [
    "lst[-4:-6:-2]"
   ]
  },
  {
   "cell_type": "code",
   "execution_count": 65,
   "id": "91a60d82-5848-4710-9852-320b8c8bf530",
   "metadata": {},
   "outputs": [],
   "source": [
    "## concatination operation\n"
   ]
  },
  {
   "cell_type": "code",
   "execution_count": 15,
   "id": "99295261-261d-4923-88f4-06cebe7e0705",
   "metadata": {},
   "outputs": [
    {
     "data": {
      "text/plain": [
       "['welcom', 'to', 'pwskills.', 'welcom', 'to', 'Dat', 'scienc', 'masters']"
      ]
     },
     "execution_count": 15,
     "metadata": {},
     "output_type": "execute_result"
    }
   ],
   "source": [
    "lst"
   ]
  },
  {
   "cell_type": "code",
   "execution_count": 13,
   "id": "d5224a41-71d8-40a8-8935-1817935bc935",
   "metadata": {},
   "outputs": [
    {
     "name": "stdout",
     "output_type": "stream",
     "text": [
      "['welcom', 'to', 'pwskills.', 'welcom', 'to', 'Dat', 'scienc', 'masters', 'new', 1]"
     ]
    }
   ],
   "source": [
    "l=print(lst+[\"new\",1],end='')"
   ]
  },
  {
   "cell_type": "code",
   "execution_count": 67,
   "id": "3ed480fc-bb0b-44c6-a2a2-18e4d3d1fae5",
   "metadata": {},
   "outputs": [
    {
     "data": {
      "text/plain": [
       "['welcom', 'to', 'pwskills.', 'welcom', 'to', 'Dat', 'scienc', 'masters']"
      ]
     },
     "execution_count": 67,
     "metadata": {},
     "output_type": "execute_result"
    }
   ],
   "source": [
    "lst"
   ]
  },
  {
   "cell_type": "code",
   "execution_count": 14,
   "id": "f9c75f20-e394-422d-b5ba-e203bd683c4c",
   "metadata": {},
   "outputs": [
    {
     "data": {
      "text/plain": [
       "['welcom',\n",
       " 'to',\n",
       " 'pwskills.',\n",
       " 'welcom',\n",
       " 'to',\n",
       " 'Dat',\n",
       " 'scienc',\n",
       " 'masters',\n",
       " 'welcom',\n",
       " 'to',\n",
       " 'pwskills.',\n",
       " 'welcom',\n",
       " 'to',\n",
       " 'Dat',\n",
       " 'scienc',\n",
       " 'masters']"
      ]
     },
     "execution_count": 14,
     "metadata": {},
     "output_type": "execute_result"
    }
   ],
   "source": [
    "lst*2"
   ]
  },
  {
   "cell_type": "code",
   "execution_count": 25,
   "id": "b6fd6c44-4455-4eff-bf91-04ff7a9b415e",
   "metadata": {},
   "outputs": [
    {
     "name": "stdout",
     "output_type": "stream",
     "text": [
      "scienc\n"
     ]
    }
   ],
   "source": [
    "### check wheather scienc word is present in the lst or not\n",
    "for i in range(len(lst)):\n",
    "    if (lst[i]==\"scienc\"):\n",
    "        print(lst[i])\n",
    "        break\n",
    "else:\n",
    "        print(\"science word is not present\")"
   ]
  },
  {
   "cell_type": "code",
   "execution_count": 26,
   "id": "ee7ee552-80a3-48ac-83e3-4dfe7e25dd5e",
   "metadata": {},
   "outputs": [
    {
     "name": "stdout",
     "output_type": "stream",
     "text": [
      "scienc\n"
     ]
    }
   ],
   "source": [
    "for i in lst:\n",
    "    if i==\"scienc\":\n",
    "        print(i)"
   ]
  },
  {
   "cell_type": "code",
   "execution_count": 28,
   "id": "3fd38e6b-0ad9-4d03-baee-8fca0465b4a5",
   "metadata": {},
   "outputs": [],
   "source": [
    "lst1=['zebra','cat','donkey','monkey']\n",
    "lst2=[1,2,3,5,6,1]\n"
   ]
  },
  {
   "cell_type": "code",
   "execution_count": 29,
   "id": "051ce970-1fad-45f7-99d4-6795957a863f",
   "metadata": {},
   "outputs": [
    {
     "data": {
      "text/plain": [
       "'zebra'"
      ]
     },
     "execution_count": 29,
     "metadata": {},
     "output_type": "execute_result"
    }
   ],
   "source": [
    "max(lst1)"
   ]
  },
  {
   "cell_type": "code",
   "execution_count": 30,
   "id": "c9558ef5-ff56-4267-8dbf-9f6f21d15de3",
   "metadata": {},
   "outputs": [
    {
     "data": {
      "text/plain": [
       "'cat'"
      ]
     },
     "execution_count": 30,
     "metadata": {},
     "output_type": "execute_result"
    }
   ],
   "source": [
    "min(lst1)"
   ]
  },
  {
   "cell_type": "code",
   "execution_count": 31,
   "id": "39389e34-0ffa-4f4b-9033-fa834126f3f5",
   "metadata": {},
   "outputs": [
    {
     "data": {
      "text/plain": [
       "6"
      ]
     },
     "execution_count": 31,
     "metadata": {},
     "output_type": "execute_result"
    }
   ],
   "source": [
    "max(lst2)"
   ]
  },
  {
   "cell_type": "code",
   "execution_count": 34,
   "id": "fbcf37b7-dab3-438b-894e-b4dcdafa3c15",
   "metadata": {},
   "outputs": [
    {
     "data": {
      "text/plain": [
       "1"
      ]
     },
     "execution_count": 34,
     "metadata": {},
     "output_type": "execute_result"
    }
   ],
   "source": [
    "min(lst2)"
   ]
  },
  {
   "cell_type": "code",
   "execution_count": 35,
   "id": "afacf7a8-3c9e-4a7e-998f-7f3cea4223e1",
   "metadata": {},
   "outputs": [
    {
     "data": {
      "text/plain": [
       "['welcom', 'to', 'pwskills.', 'welcom', 'to', 'Dat', 'scienc', 'masters']"
      ]
     },
     "execution_count": 35,
     "metadata": {},
     "output_type": "execute_result"
    }
   ],
   "source": [
    "lst"
   ]
  },
  {
   "cell_type": "code",
   "execution_count": 36,
   "id": "6b118a21-db52-4ef8-bbd3-ed03cfb4d512",
   "metadata": {},
   "outputs": [
    {
     "data": {
      "text/plain": [
       "[1, 2, 3, 5, 6, 1]"
      ]
     },
     "execution_count": 36,
     "metadata": {},
     "output_type": "execute_result"
    }
   ],
   "source": [
    "lst2"
   ]
  },
  {
   "cell_type": "code",
   "execution_count": 37,
   "id": "c5a7a94e-7300-4018-aafa-06e1bedffbe3",
   "metadata": {},
   "outputs": [],
   "source": [
    "lst2.append('sri') #### append is an inplace operation"
   ]
  },
  {
   "cell_type": "code",
   "execution_count": 38,
   "id": "f46fc4fe-aa7d-49c5-b8ce-df439b751f6c",
   "metadata": {},
   "outputs": [
    {
     "data": {
      "text/plain": [
       "[1, 2, 3, 5, 6, 1, 'sri']"
      ]
     },
     "execution_count": 38,
     "metadata": {},
     "output_type": "execute_result"
    }
   ],
   "source": [
    "lst2"
   ]
  },
  {
   "cell_type": "code",
   "execution_count": 40,
   "id": "ac8a43da-63ea-411d-9a80-5e26dabac524",
   "metadata": {},
   "outputs": [],
   "source": [
    "lst2.append(['abc','sri','5'])"
   ]
  },
  {
   "cell_type": "code",
   "execution_count": 41,
   "id": "d77813c8-8c66-4bd5-b756-64d320b91b14",
   "metadata": {},
   "outputs": [
    {
     "data": {
      "text/plain": [
       "[1, 2, 3, 5, 6, 1, 'sri', ['abc', 'sri', '5']]"
      ]
     },
     "execution_count": 41,
     "metadata": {},
     "output_type": "execute_result"
    }
   ],
   "source": [
    "lst2"
   ]
  },
  {
   "cell_type": "code",
   "execution_count": 42,
   "id": "adf02994-24fc-477d-8a83-855cd5fc862d",
   "metadata": {},
   "outputs": [
    {
     "data": {
      "text/plain": [
       "['zebra', 'cat', 'donkey', 'monkey']"
      ]
     },
     "execution_count": 42,
     "metadata": {},
     "output_type": "execute_result"
    }
   ],
   "source": [
    "lst1"
   ]
  },
  {
   "cell_type": "code",
   "execution_count": 43,
   "id": "ea4fd66e-4042-4dd4-9514-a7bae6c34a2b",
   "metadata": {},
   "outputs": [
    {
     "data": {
      "text/plain": [
       "'monkey'"
      ]
     },
     "execution_count": 43,
     "metadata": {},
     "output_type": "execute_result"
    }
   ],
   "source": [
    "lst1.pop() ### pop is an inplace operation"
   ]
  },
  {
   "cell_type": "code",
   "execution_count": 44,
   "id": "9d982d90-0819-4d9a-8549-84d1b1a19d33",
   "metadata": {},
   "outputs": [
    {
     "data": {
      "text/plain": [
       "['zebra', 'cat', 'donkey']"
      ]
     },
     "execution_count": 44,
     "metadata": {},
     "output_type": "execute_result"
    }
   ],
   "source": [
    "lst1"
   ]
  },
  {
   "cell_type": "code",
   "execution_count": 45,
   "id": "c1f93701-ada1-4d5c-868b-ac5ef8508849",
   "metadata": {},
   "outputs": [
    {
     "data": {
      "text/plain": [
       "'cat'"
      ]
     },
     "execution_count": 45,
     "metadata": {},
     "output_type": "execute_result"
    }
   ],
   "source": [
    "lst1.pop(1)"
   ]
  },
  {
   "cell_type": "code",
   "execution_count": 46,
   "id": "3ecc2058-b387-40b9-ba81-f20fe5e68f56",
   "metadata": {},
   "outputs": [
    {
     "data": {
      "text/plain": [
       "['zebra', 'donkey']"
      ]
     },
     "execution_count": 46,
     "metadata": {},
     "output_type": "execute_result"
    }
   ],
   "source": [
    "lst1"
   ]
  },
  {
   "cell_type": "code",
   "execution_count": 47,
   "id": "af8224be-3d09-488c-8ec7-9cab1e5914a4",
   "metadata": {},
   "outputs": [],
   "source": [
    "new_lst=['f','e','d','c','b','a']"
   ]
  },
  {
   "cell_type": "code",
   "execution_count": 48,
   "id": "ed45cd15-46ba-4649-9d65-7b6cb4a5ba13",
   "metadata": {},
   "outputs": [
    {
     "data": {
      "text/plain": [
       "['a', 'b', 'c', 'd', 'e', 'f']"
      ]
     },
     "execution_count": 48,
     "metadata": {},
     "output_type": "execute_result"
    }
   ],
   "source": [
    "new_lst[::-1]"
   ]
  },
  {
   "cell_type": "code",
   "execution_count": 49,
   "id": "fb382605-6c62-4a27-a365-f04df1f55998",
   "metadata": {},
   "outputs": [],
   "source": [
    "new_lst.reverse() ##### it means reverse is an inplace operation i.e, list is getting updated"
   ]
  },
  {
   "cell_type": "code",
   "execution_count": 50,
   "id": "d384edb0-8b6f-4e74-9dc3-895e68d1bf0c",
   "metadata": {},
   "outputs": [
    {
     "data": {
      "text/plain": [
       "['a', 'b', 'c', 'd', 'e', 'f']"
      ]
     },
     "execution_count": 50,
     "metadata": {},
     "output_type": "execute_result"
    }
   ],
   "source": [
    "new_lst"
   ]
  },
  {
   "cell_type": "code",
   "execution_count": 51,
   "id": "eb0801e8-59bf-47c6-b1e5-94478aa45369",
   "metadata": {},
   "outputs": [],
   "source": [
    "new_lst.sort() ### default sort is in ascending order"
   ]
  },
  {
   "cell_type": "code",
   "execution_count": 52,
   "id": "45eb0aee-c116-4722-a3a7-f65bbbb577af",
   "metadata": {},
   "outputs": [
    {
     "data": {
      "text/plain": [
       "['a', 'b', 'c', 'd', 'e', 'f']"
      ]
     },
     "execution_count": 52,
     "metadata": {},
     "output_type": "execute_result"
    }
   ],
   "source": [
    "new_lst"
   ]
  },
  {
   "cell_type": "code",
   "execution_count": 57,
   "id": "466825e1-62fe-454e-a7f0-9a1add63ed5b",
   "metadata": {},
   "outputs": [],
   "source": [
    "new_lst.sort(reverse=True) ### for descending order make reverse=true"
   ]
  },
  {
   "cell_type": "code",
   "execution_count": 56,
   "id": "c33895e1-d966-4773-bb62-fe0e9ce369b7",
   "metadata": {},
   "outputs": [
    {
     "data": {
      "text/plain": [
       "['f', 'e', 'd', 'c', 'b', 'a']"
      ]
     },
     "execution_count": 56,
     "metadata": {},
     "output_type": "execute_result"
    }
   ],
   "source": [
    "new_lst"
   ]
  },
  {
   "cell_type": "markdown",
   "id": "35779068-4a60-41f2-9daa-88dcdfeed384",
   "metadata": {},
   "source": [
    "#### nested list"
   ]
  },
  {
   "cell_type": "code",
   "execution_count": 61,
   "id": "249877d6-3947-436a-9443-4c9158a5db29",
   "metadata": {},
   "outputs": [],
   "source": [
    "lst_1=[1,2,3]\n",
    "lst_2=[4,5,6]\n",
    "lst_3=[7,8,9]\n",
    "matrix=[lst_1,lst_2,lst_3]"
   ]
  },
  {
   "cell_type": "code",
   "execution_count": 62,
   "id": "733f0b17-69b3-4167-bb86-d82961faa930",
   "metadata": {},
   "outputs": [
    {
     "data": {
      "text/plain": [
       "[[1, 2, 3], [4, 5, 6], [7, 8, 9]]"
      ]
     },
     "execution_count": 62,
     "metadata": {},
     "output_type": "execute_result"
    }
   ],
   "source": [
    "matrix"
   ]
  },
  {
   "cell_type": "code",
   "execution_count": 66,
   "id": "ba04805a-716b-4299-baf5-701738d3d029",
   "metadata": {},
   "outputs": [
    {
     "data": {
      "text/plain": [
       "6"
      ]
     },
     "execution_count": 66,
     "metadata": {},
     "output_type": "execute_result"
    }
   ],
   "source": [
    "matrix[1][2]"
   ]
  },
  {
   "cell_type": "code",
   "execution_count": 67,
   "id": "1a0f6e05-3c79-4fbe-be97-817e2912e2af",
   "metadata": {},
   "outputs": [
    {
     "data": {
      "text/plain": [
       "[8, 9]"
      ]
     },
     "execution_count": 67,
     "metadata": {},
     "output_type": "execute_result"
    }
   ],
   "source": [
    "matrix[2][1:3]"
   ]
  },
  {
   "cell_type": "code",
   "execution_count": 74,
   "id": "fcf01e44-ed0b-447c-8622-6b9ca870dd7a",
   "metadata": {},
   "outputs": [
    {
     "data": {
      "text/plain": [
       "[[1, 2, 3], [4, 5, 6], [7, 8, 9]]"
      ]
     },
     "execution_count": 74,
     "metadata": {},
     "output_type": "execute_result"
    }
   ],
   "source": [
    "matrix[:]"
   ]
  },
  {
   "cell_type": "markdown",
   "id": "3294cd0a-f699-4d94-a4eb-651a0ccdd82b",
   "metadata": {},
   "source": [
    "### list comprehension"
   ]
  },
  {
   "cell_type": "code",
   "execution_count": 76,
   "id": "b64bd187-f310-48b9-a2dd-385f19928ca2",
   "metadata": {},
   "outputs": [
    {
     "data": {
      "text/plain": [
       "[0, 1, 2, 3, 4, 5, 6, 7, 8, 9, 10, 11, 12, 13, 14, 15, 16, 17, 18, 19]"
      ]
     },
     "execution_count": 76,
     "metadata": {},
     "output_type": "execute_result"
    }
   ],
   "source": [
    "[i for i in range(20)]"
   ]
  },
  {
   "cell_type": "code",
   "execution_count": 79,
   "id": "950f8f41-fabc-4b52-ada2-7288ada548bc",
   "metadata": {},
   "outputs": [
    {
     "data": {
      "text/plain": [
       "[0,\n",
       " 'odd',\n",
       " 2,\n",
       " 'odd',\n",
       " 4,\n",
       " 'odd',\n",
       " 6,\n",
       " 'odd',\n",
       " 8,\n",
       " 'odd',\n",
       " 10,\n",
       " 'odd',\n",
       " 12,\n",
       " 'odd',\n",
       " 14,\n",
       " 'odd',\n",
       " 16,\n",
       " 'odd',\n",
       " 18,\n",
       " 'odd']"
      ]
     },
     "execution_count": 79,
     "metadata": {},
     "output_type": "execute_result"
    }
   ],
   "source": [
    "[i if i%2==0 else \"odd\"for i in range(20)]"
   ]
  },
  {
   "cell_type": "code",
   "execution_count": 92,
   "id": "70163ac9-d318-4e55-a6f9-cb10cb16d40a",
   "metadata": {},
   "outputs": [],
   "source": [
    "lst_4=[1,2,3,4,5,6,7,8]\n"
   ]
  },
  {
   "cell_type": "code",
   "execution_count": 88,
   "id": "f423243c-3a39-4d1e-a258-58f231ef0411",
   "metadata": {},
   "outputs": [
    {
     "name": "stdout",
     "output_type": "stream",
     "text": [
      "20\n",
      "16\n"
     ]
    }
   ],
   "source": [
    "even_sum=0\n",
    "odd_sum=0\n",
    "for i in lst_4:\n",
    "    if i%2==0:\n",
    "        even_sum=even_sum+i\n",
    "        \n",
    "    else:\n",
    "        odd_sum=odd_sum+i\n",
    "print(even_sum )\n",
    "print(odd_sum)\n",
    "        \n",
    "    \n",
    "        "
   ]
  },
  {
   "cell_type": "code",
   "execution_count": 98,
   "id": "f10f2a02-be0d-4df4-9375-35f6f15e041d",
   "metadata": {},
   "outputs": [
    {
     "data": {
      "text/plain": [
       "[2, 4, 6, 8]"
      ]
     },
     "execution_count": 98,
     "metadata": {},
     "output_type": "execute_result"
    }
   ],
   "source": [
    "#### using list comphrension\n",
    "[i for i in lst_4 if i%2==0 ]"
   ]
  },
  {
   "cell_type": "code",
   "execution_count": 102,
   "id": "7f9b121f-1cc3-4b35-838f-0ddb56695b5f",
   "metadata": {},
   "outputs": [],
   "source": [
    "lst_5=[1,2,3,4,5,6,7,8]"
   ]
  },
  {
   "cell_type": "code",
   "execution_count": 106,
   "id": "0973a2dc-ecf5-4bda-9b78-b4127774e5d1",
   "metadata": {},
   "outputs": [
    {
     "data": {
      "text/plain": [
       "[1, 8, 27, 64, 125, 216, 343, 512]"
      ]
     },
     "execution_count": 106,
     "metadata": {},
     "output_type": "execute_result"
    }
   ],
   "source": [
    "[i**3 for i in lst_5 ] ####  square of given list"
   ]
  },
  {
   "cell_type": "code",
   "execution_count": 107,
   "id": "2f4f1554-2842-4477-b4d6-32fcc06023ab",
   "metadata": {},
   "outputs": [],
   "source": [
    "numbers=[-2,-1,0,1,2,3,4] ## create a list of only +ve numbers "
   ]
  },
  {
   "cell_type": "code",
   "execution_count": 110,
   "id": "4fe939c6-54fe-42e0-bea1-51c7ea7baeda",
   "metadata": {},
   "outputs": [
    {
     "data": {
      "text/plain": [
       "[0, 1, 2, 3, 4]"
      ]
     },
     "execution_count": 110,
     "metadata": {},
     "output_type": "execute_result"
    }
   ],
   "source": [
    "[i  for i in numbers if i>=0]"
   ]
  },
  {
   "cell_type": "code",
   "execution_count": 111,
   "id": "feaea056-0f60-4fd8-8ef4-08d2bd6d071e",
   "metadata": {},
   "outputs": [],
   "source": [
    "words=[\"apple\",\"banana\",\"cherry\",\"date\"] ### 1st letter of every word"
   ]
  },
  {
   "cell_type": "code",
   "execution_count": 124,
   "id": "1dcab390-2751-45d1-a90b-c0d26027d5d3",
   "metadata": {},
   "outputs": [
    {
     "data": {
      "text/plain": [
       "['a', 'b', 'c', 'd']"
      ]
     },
     "execution_count": 124,
     "metadata": {},
     "output_type": "execute_result"
    }
   ],
   "source": [
    "[word[0] for word in words]\n"
   ]
  },
  {
   "cell_type": "code",
   "execution_count": null,
   "id": "f914a96e-819a-445c-91e8-d5364aeda9ef",
   "metadata": {},
   "outputs": [],
   "source": [
    "(9/5)*temp+32 ###---> celcius to farinht"
   ]
  },
  {
   "cell_type": "code",
   "execution_count": 125,
   "id": "ffaa8342-3825-4226-a90d-ad8cbd838a1c",
   "metadata": {},
   "outputs": [],
   "source": [
    "celsius_temp=[0,10,20,30,40,50] #### convert c to f using list compreshion"
   ]
  },
  {
   "cell_type": "code",
   "execution_count": 126,
   "id": "616d1cc8-e182-4928-ad43-3499936e8899",
   "metadata": {},
   "outputs": [
    {
     "data": {
      "text/plain": [
       "[32.0, 50.0, 68.0, 86.0, 104.0, 122.0]"
      ]
     },
     "execution_count": 126,
     "metadata": {},
     "output_type": "execute_result"
    }
   ],
   "source": [
    "[((9/5)*i+32)for i in celsius_temp]"
   ]
  },
  {
   "cell_type": "code",
   "execution_count": 127,
   "id": "2f739efc-0147-4412-84fd-1e97267ef2f8",
   "metadata": {},
   "outputs": [],
   "source": [
    "### flatten o list of lists into asingle list using list comphresion\n",
    "lists=[[1,2,3],[4,5,6],[7,8,9]]"
   ]
  },
  {
   "cell_type": "code",
   "execution_count": 144,
   "id": "6c4ccc45-0e60-4e3f-a069-1b298d597328",
   "metadata": {},
   "outputs": [
    {
     "data": {
      "text/plain": [
       "[1, 2, 3, 4, 5, 6, 7, 8, 9]"
      ]
     },
     "execution_count": 144,
     "metadata": {},
     "output_type": "execute_result"
    }
   ],
   "source": [
    "[j for i in lists for j in i]"
   ]
  },
  {
   "cell_type": "code",
   "execution_count": 146,
   "id": "28a3ee4d-dde8-43ed-ae39-fed5a74f3ae9",
   "metadata": {},
   "outputs": [
    {
     "data": {
      "text/plain": [
       "[1, 2, 3, 4, 5, 6, 7, 8, 9]"
      ]
     },
     "execution_count": 146,
     "metadata": {},
     "output_type": "execute_result"
    }
   ],
   "source": [
    "[j for i in lists for j in i]"
   ]
  },
  {
   "cell_type": "code",
   "execution_count": 25,
   "id": "1be02e29-bf2b-49cb-97fc-69c0d1a65636",
   "metadata": {},
   "outputs": [],
   "source": [
    "numbers=[1,2,3,4,5,6,7,8,9,10,11,12,13,14,15,16,17] ## create a list of only the prime numbers for a given list"
   ]
  },
  {
   "cell_type": "code",
   "execution_count": 24,
   "id": "9b2e04df-5d57-4e4c-ae72-46b2039ef1c6",
   "metadata": {},
   "outputs": [
    {
     "name": "stdout",
     "output_type": "stream",
     "text": [
      "prime number :2,3,5,7,11,13,17,"
     ]
    }
   ],
   "source": [
    "prime=[]\n",
    "for i in numbers:\n",
    "    if i==0 or i==1:\n",
    "        continue\n",
    "    for j in range(2,i//2+1):\n",
    "        if i % j==0:\n",
    "            break\n",
    "    else:\n",
    "        prime.append(i)\n",
    "if len(prime):\n",
    "    print('prime number :',end=\"\")\n",
    "    for prime_num in prime:\n",
    "       ## print(prime_num,end=',')\n",
    "        p=prime_num\n",
    "        print(p,end=',')\n",
    "else:\n",
    "    print('no any number from the list is prime')\n",
    "\n",
    "        "
   ]
  },
  {
   "cell_type": "code",
   "execution_count": 30,
   "id": "c435da2d-c2ad-49c3-929d-e514c529b877",
   "metadata": {},
   "outputs": [
    {
     "data": {
      "text/plain": [
       "[4, 6, 6, 8, 8, 9, 10, 10, 12, 12, 12, 12, 14, 14, 15, 15, 16, 16, 16]"
      ]
     },
     "execution_count": 30,
     "metadata": {},
     "output_type": "execute_result"
    }
   ],
   "source": [
    "[i if for i in numbers   for j in range(2,i//2+1) if i%j==0 ]"
   ]
  },
  {
   "cell_type": "code",
   "execution_count": null,
   "id": "b06cbd24-eec0-4d5a-941c-01c372fbb42a",
   "metadata": {},
   "outputs": [],
   "source": [
    "#### create a list of all possible combination of two elements from a list\n",
    " n=[1,2,3,4,5,6]"
   ]
  },
  {
   "cell_type": "code",
   "execution_count": null,
   "id": "7edb8d71-cb86-4021-869b-5a4b2fc5a0e1",
   "metadata": {},
   "outputs": [],
   "source": []
  },
  {
   "cell_type": "code",
   "execution_count": null,
   "id": "6f834656-7707-44cd-9e01-5ddaf2bc5c62",
   "metadata": {},
   "outputs": [],
   "source": []
  },
  {
   "cell_type": "code",
   "execution_count": null,
   "id": "800d93f2-ad58-438f-a0dc-624f31185c90",
   "metadata": {},
   "outputs": [],
   "source": []
  },
  {
   "cell_type": "code",
   "execution_count": null,
   "id": "3432c907-0f50-45d0-82fd-604783042377",
   "metadata": {},
   "outputs": [],
   "source": []
  }
 ],
 "metadata": {
  "kernelspec": {
   "display_name": "Python 3 (ipykernel)",
   "language": "python",
   "name": "python3"
  },
  "language_info": {
   "codemirror_mode": {
    "name": "ipython",
    "version": 3
   },
   "file_extension": ".py",
   "mimetype": "text/x-python",
   "name": "python",
   "nbconvert_exporter": "python",
   "pygments_lexer": "ipython3",
   "version": "3.10.8"
  }
 },
 "nbformat": 4,
 "nbformat_minor": 5
}
