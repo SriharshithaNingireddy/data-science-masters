{
 "cells": [
  {
   "cell_type": "markdown",
   "id": "19f1e9a2-c951-4a93-918d-4c83bfc1a6bf",
   "metadata": {},
   "source": [
    "Q1. What is an API? Give an example, where an API is used in real life."
   ]
  },
  {
   "cell_type": "markdown",
   "id": "426e1aaf-267c-4921-bc9e-bd15eb211d2d",
   "metadata": {},
   "source": [
    "An application programming interface is a way for two or more computer programs to communicate with each other. It is a type of software interface, offering a service to other pieces of software. A document or standard that describes how to build or use such a connection or interface is called an API specification.\n",
    "Example:\n",
    "    for suppose if i want to transfer money  using GPay internally it has to connect with banking system and check wheather there is suffecient balance in my account or not and afer checking it will transfer to the payee, so here API is used b/w Gpay and bank connectivity    \n",
    "    Companies of all sizes can utilize APIs for website analytics, project and team management tools, online payment systems, and for many other operational solutions.\n",
    "\n",
    "Analytics. Google Analytics is a part of the Google Cloud API Platform and offers multiple API options that businesses can use for analytics. The most common APIs used are Core Reporting API and Management API.\n",
    "Project and Team Management. Tools like Jira, Basecamp, and Microsoft Teams provide communication between coworkers and data sharing functionality — and that all happens through API.\n",
    "Online Payment Systems. Where digital money transfers occur, there is an API supporting the process. Many organizations choose to utilize APIs from a firm such as PayPal to provide secure, safe money transfers to their customers."
   ]
  },
  {
   "cell_type": "markdown",
   "id": "edf6d163-c22b-4c3d-98a6-94d3f75833f4",
   "metadata": {},
   "source": [
    "Q2. Give advantages and disadvantages of using API."
   ]
  },
  {
   "cell_type": "markdown",
   "id": "c90f509f-a703-42c8-914d-33a62880a2c4",
   "metadata": {},
   "source": [
    "advantages:-\n",
    "API offers several advantages with the main one being speed. Requests and responses are exchanged within seconds as opposed to minutes, or in some instances even hours. Other advantages include:\n",
    "\n",
    "->Internet-based connectivity\n",
    "\n",
    "->Communication is two-way with confirmations included within the transaction sets\n",
    "\n",
    "->Since communication is two-way APIs offer reliable transaction sets\n",
    "\n",
    "->The end product offers user-friendly experiences improving internal and external user satisfaction\n",
    "\n",
    "->Provides evolving functionality as developers find new uses for API exchanges\n",
    "\n",
    "disadvantages:-\n",
    "The disadvantages of application programming interfaces include:\n",
    "\n",
    "->Implementing and providing API capabilities can be costly in terms of development times, ongoing maintenance requirements, and providing support.\n",
    "\n",
    "->Scaling API requires extensive programming knowledge and the learning curve can fairly steep when understanding how to extend the capabilities of your API framework.\n",
    "\n",
    "->Security can be a concern as APIs add another potential attack layer to programs/websites."
   ]
  },
  {
   "cell_type": "markdown",
   "id": "9cd279f9-edf1-435e-ba7b-b7f55c287b70",
   "metadata": {},
   "source": [
    "Q3. What is a Web API? Differentiate between API and Web API."
   ]
  },
  {
   "cell_type": "markdown",
   "id": "60fc93d1-0d82-4760-bd88-f4c63fdac6c1",
   "metadata": {},
   "source": [
    "Web API as the name suggests, is an API over the web which can be accessed using HTTP protocol\n",
    "\n",
    "A Web API is an application programming interface for the Web.\n",
    "\n",
    "Both APIs and web services are technologies that enable the transfer of data between separate software applications. API is an interface that exposes an application's data to outside software, whereas web applications are one type of API with stricter requirements. These requirements include network communication, SOAP as the primary protocol, and less accessibility for the public. "
   ]
  },
  {
   "cell_type": "markdown",
   "id": "a367ec0f-6d33-4ea7-a11f-38886e386e79",
   "metadata": {},
   "source": [
    "Q4. Explain REST and SOAP Architecture. Mention shortcomings of SOAP."
   ]
  },
  {
   "cell_type": "markdown",
   "id": "e7ce95bf-37d8-4b8f-86b5-46091b4ef026",
   "metadata": {},
   "source": [
    "An application is said to be RESTful if it follows 6 architectural guidelines. A RESTful application must have:\n",
    "\n",
    "A client-server architecture composed of clients, servers, and resources.\n",
    "Stateless client-server communication, meaning no client content is stored on the server between requests. Information about the session’s state is instead held with the client.\n",
    "Cacheable data to eliminate the need for some client-server interactions.\n",
    "A uniform interface between components so that information is transferred in a standardized form instead of specific to an application’s needs. This is described by Roy Fielding, the originator of REST, as “the central feature that distinguishes the REST architectural style from other network-based styles.”\n",
    "A layered system constraint, where client-server interactions can be mediated by hierarchical layers.\n",
    "Code on demand, allowing servers to extend the functionality of a client by transferring executable code (though also reducing visibility, making this an optional guideline).\n",
    "\n",
    " A SOAP message is, in fact, an ordinary XML file that consists of the following parts:\n",
    "\n",
    "Envelope (required): This is the starting and ending tags of the message.\n",
    "Header (optional): It contains the optional attributes of the message. It allows you to extend a SOAP message in a modular and decentralized way.\n",
    "Body (required): It contains the XML data that the server transmits to the receiver.\n",
    "Fault (optional): It carries information about errors occurring during processing the message.\n",
    "\n",
    "shortcomings of SOAP:-\n",
    "As SOAP can only transfer messages as XML files, your SOAP API will be less performant, as XML is a verbose format compared to JSON. API calls made to your server will need more bandwidth and it will take more time to process the request and transfer the response back to the client."
   ]
  },
  {
   "cell_type": "markdown",
   "id": "d4dd5490-177d-4506-b6e6-08721ebb8b3a",
   "metadata": {},
   "source": [
    "Q5. Differentiate between REST and SOAP."
   ]
  },
  {
   "cell_type": "raw",
   "id": "422c63d9-8dc7-4ac3-ba53-151d05a20183",
   "metadata": {},
   "source": [
    "No.\tSOAP\t                                                   REST\n",
    "1)\tSOAP is a protocol.     \t                    | REST is an architectural style.\n",
    "2)\tSOAP stands for Simple Object Access Protocol.\t|REST stands for REpresentational State Transfer.\n",
    "3)\tSOAP can't use REST because it is a protocol.\t|REST can use SOAP web services because it is a concept and can use any protocol like HTTP, SOAP.\n",
    "4)\tSOAP uses services interfaces to expose the business logic.\t|REST uses URI to expose business logic.\n",
    "5)\tJAX-WS is the java API for SOAP web services.\t|JAX-RS is the java API for RESTful web services.\n",
    "6)\tSOAP defines standards to be strictly followed.\t|REST does not define too much standards like SOAP.\n",
    "7)\tSOAP requires more bandwidth and resource than REST.\t|REST requires less bandwidth and resource than SOAP.\n",
    "8)\tSOAP defines its own security.\t           |RESTful web services inherits security measures from the underlying transport.\n",
    "9)\tSOAP permits XML data format only.\t          |REST permits different data format such as Plain text, HTML, XML, JSON etc.\n",
    "10)\tSOAP is less preferred than REST.\t             |REST more preferred than SOAP."
   ]
  },
  {
   "cell_type": "code",
   "execution_count": null,
   "id": "4061ab64-4563-49e6-abc1-a4074b88f78a",
   "metadata": {},
   "outputs": [],
   "source": []
  }
 ],
 "metadata": {
  "kernelspec": {
   "display_name": "Python 3 (ipykernel)",
   "language": "python",
   "name": "python3"
  },
  "language_info": {
   "codemirror_mode": {
    "name": "ipython",
    "version": 3
   },
   "file_extension": ".py",
   "mimetype": "text/x-python",
   "name": "python",
   "nbconvert_exporter": "python",
   "pygments_lexer": "ipython3",
   "version": "3.10.8"
  }
 },
 "nbformat": 4,
 "nbformat_minor": 5
}
