{
 "cells": [
  {
   "cell_type": "markdown",
   "id": "26b0d072-3f6d-4758-a7be-16a88ce99083",
   "metadata": {},
   "source": [
    "1) characteristics of the tuples are collection of data which is ordered and unchangable and allows duplicate values.\n",
    "  Yes tuple is immutable\n"
   ]
  },
  {
   "cell_type": "markdown",
   "id": "fc425176-53b3-4fdc-af31-8eccbcbe6f49",
   "metadata": {},
   "source": [
    "Q2. What are the two tuple methods in python? Give an example of each method. Give a reason why\n",
    "tuples have only two in-built methods as compared to Lists.\n",
    "\n",
    "-> count and index are the two tuple methods\n",
    "--> tuples are nor mutable like LISTS that is why it is having only two in-built functions\n"
   ]
  },
  {
   "cell_type": "code",
   "execution_count": 4,
   "id": "c7f024d1-1305-45da-91e8-96498057bbdf",
   "metadata": {},
   "outputs": [],
   "source": [
    "tuple1=(1,2,3,4,4,4,5,\"sri\")"
   ]
  },
  {
   "cell_type": "code",
   "execution_count": 8,
   "id": "7d581716-26b9-4d12-8098-198f3231a529",
   "metadata": {},
   "outputs": [
    {
     "data": {
      "text/plain": [
       "2"
      ]
     },
     "execution_count": 8,
     "metadata": {},
     "output_type": "execute_result"
    }
   ],
   "source": [
    "tuple1.index(3) ### index of 3 is 2 , indexing starts from 0,1,2,.... etc"
   ]
  },
  {
   "cell_type": "code",
   "execution_count": 7,
   "id": "3d9fff98-4059-4e39-8753-a6de57d10b34",
   "metadata": {},
   "outputs": [
    {
     "data": {
      "text/plain": [
       "3"
      ]
     },
     "execution_count": 7,
     "metadata": {},
     "output_type": "execute_result"
    }
   ],
   "source": [
    "tuple1.count(4) ### to count how many times the value present in the tuple"
   ]
  },
  {
   "cell_type": "markdown",
   "id": "58b92428-f79a-4c31-90b3-7346df27a65e",
   "metadata": {},
   "source": [
    "Q3. Which collection datatypes in python do not allow duplicate items? Write a code using a set to remove\n",
    "duplicates from the given list.\n",
    "List = [1, 1, 1, 2, 1, 3, 1, 4, 2, 1, 2, 2, 2, 3, 2, 4, 3, 1, 3, 2, 3, 3, 3, 4, 4, 1, 4, 2, 4, 3, 4, 4]"
   ]
  },
  {
   "cell_type": "markdown",
   "id": "8e12f7a1-608b-49f2-b51d-1e438ecbb049",
   "metadata": {},
   "source": [
    "## Ans:\n",
    "SET is the collection datatype in python which dont allow duplicate items"
   ]
  },
  {
   "cell_type": "code",
   "execution_count": 10,
   "id": "e532edee-05f6-4cc2-b6a7-2ae0a25df925",
   "metadata": {},
   "outputs": [],
   "source": [
    "List=[1, 1, 1, 2, 1, 3, 1, 4, 2, 1, 2, 2, 2, 3, 2, 4, 3, 1, 3, 2, 3, 3, 3, 4, 4, 1, 4, 2, 4, 3, 4, 4]"
   ]
  },
  {
   "cell_type": "code",
   "execution_count": 13,
   "id": "fada5f4b-8a0f-40f6-a743-06268325719f",
   "metadata": {},
   "outputs": [],
   "source": [
    "set={1, 1, 1, 2, 1, 3, 1, 4, 2, 1, 2, 2, 2, 3, 2, 4, 3, 1, 3, 2, 3, 3, 3, 4, 4, 1, 4, 2, 4, 3, 4, 4}"
   ]
  },
  {
   "cell_type": "code",
   "execution_count": 14,
   "id": "085498a0-3b91-4328-bec4-7b42aa04b01f",
   "metadata": {},
   "outputs": [
    {
     "data": {
      "text/plain": [
       "{1, 2, 3, 4}"
      ]
     },
     "execution_count": 14,
     "metadata": {},
     "output_type": "execute_result"
    }
   ],
   "source": [
    "set"
   ]
  },
  {
   "cell_type": "code",
   "execution_count": 15,
   "id": "1f3f58a7-ad94-4757-be25-1d39e4dccbe2",
   "metadata": {},
   "outputs": [
    {
     "data": {
      "text/plain": [
       "[1, 2, 3, 4]"
      ]
     },
     "execution_count": 15,
     "metadata": {},
     "output_type": "execute_result"
    }
   ],
   "source": [
    "list(set)"
   ]
  },
  {
   "cell_type": "markdown",
   "id": "4b731fe6-94ba-4291-8463-499941625e7a",
   "metadata": {},
   "source": [
    "Q4. Explain the difference between the union() and update() methods for a set. Give an example of\n",
    "each method."
   ]
  },
  {
   "cell_type": "code",
   "execution_count": 16,
   "id": "9b2f5f39-5b47-44f0-a9e4-2af08eb87bcd",
   "metadata": {},
   "outputs": [],
   "source": [
    "#Ans:\n",
    "set1={1,2,3,4,\"sri\"}"
   ]
  },
  {
   "cell_type": "code",
   "execution_count": 17,
   "id": "008825d3-23ca-496c-8da4-5ef16d819c2f",
   "metadata": {},
   "outputs": [
    {
     "data": {
      "text/plain": [
       "{1, 2, 3, 4, 'sri'}"
      ]
     },
     "execution_count": 17,
     "metadata": {},
     "output_type": "execute_result"
    }
   ],
   "source": [
    "set1"
   ]
  },
  {
   "cell_type": "code",
   "execution_count": 27,
   "id": "09873d58-54e3-44ce-8f14-b8222d9dc229",
   "metadata": {},
   "outputs": [],
   "source": [
    "set2=[5,6,7,\"harshitha\"]"
   ]
  },
  {
   "cell_type": "code",
   "execution_count": 28,
   "id": "0f51e5b6-dcd4-49c1-befc-0c49d02a750b",
   "metadata": {},
   "outputs": [],
   "source": [
    "set1.update(set2)"
   ]
  },
  {
   "cell_type": "markdown",
   "id": "4e892cc8-589f-4c3a-b056-73e8ac7a1ae1",
   "metadata": {},
   "source": [
    "### The object in the update() method does not have to be a set, it can be any iterable object (tuples, lists, dictionaries etc.)."
   ]
  },
  {
   "cell_type": "code",
   "execution_count": 25,
   "id": "dbc361df-c8d7-4189-a1d8-a629d700b517",
   "metadata": {},
   "outputs": [
    {
     "data": {
      "text/plain": [
       "{1, 2, 3, 4, 5, 6, 7, 'harshitha', 'sri'}"
      ]
     },
     "execution_count": 25,
     "metadata": {},
     "output_type": "execute_result"
    }
   ],
   "source": [
    "set1"
   ]
  },
  {
   "cell_type": "code",
   "execution_count": 29,
   "id": "85a23887-bcbd-4bfd-88db-113b80c9629d",
   "metadata": {},
   "outputs": [],
   "source": [
    "set3={8,9,10,5,6,\"sri\"}"
   ]
  },
  {
   "cell_type": "code",
   "execution_count": 30,
   "id": "7229e68e-77cf-41fd-bc52-cb0b2d683e2d",
   "metadata": {},
   "outputs": [
    {
     "data": {
      "text/plain": [
       "{1, 10, 2, 3, 4, 5, 6, 7, 8, 9, 'harshitha', 'sri'}"
      ]
     },
     "execution_count": 30,
     "metadata": {},
     "output_type": "execute_result"
    }
   ],
   "source": [
    "set1.union(set3) ## Return a set that contains all items from both sets, duplicates are excluded"
   ]
  },
  {
   "cell_type": "code",
   "execution_count": 31,
   "id": "7253beae-62b8-4388-9bed-b6b774360847",
   "metadata": {},
   "outputs": [
    {
     "data": {
      "text/plain": [
       "{1, 2, 3, 4, 5, 6, 7, 'harshitha', 'sri'}"
      ]
     },
     "execution_count": 31,
     "metadata": {},
     "output_type": "execute_result"
    }
   ],
   "source": [
    "set1"
   ]
  },
  {
   "cell_type": "markdown",
   "id": "b908f223-e1f1-491d-9461-15272f6de0d2",
   "metadata": {},
   "source": [
    "Q5. What is a dictionary? Give an example. Also, state whether a dictionary is ordered or unordered."
   ]
  },
  {
   "cell_type": "markdown",
   "id": "d146963c-039f-4ebe-add1-053ebe5594a3",
   "metadata": {},
   "source": [
    "### Ans:\n",
    "Dictionaries are used to store data values in key:value pairs.\n",
    "\n",
    "A dictionary is a collection which is ordered*, changeable and do not allow duplicates"
   ]
  },
  {
   "cell_type": "code",
   "execution_count": 32,
   "id": "6a1d8ea2-aebc-4513-a41d-852badf0b064",
   "metadata": {},
   "outputs": [],
   "source": [
    "dict1={\"name\":\"sri\",\"age\":\"30\",\"Gender\":\"Female\"}"
   ]
  },
  {
   "cell_type": "markdown",
   "id": "07f03e10-c5f8-4537-877e-3c2a345f5b7a",
   "metadata": {},
   "source": [
    "Q6. Can we create a nested dictionary? If so, please give an example by creating a simple one-level\n",
    "nested dictionary."
   ]
  },
  {
   "cell_type": "markdown",
   "id": "cb4000bf-494c-4095-996d-3a8a9dd651ed",
   "metadata": {},
   "source": [
    "## Ans:\n",
    "Yes we can create a nested dictionary"
   ]
  },
  {
   "cell_type": "code",
   "execution_count": 36,
   "id": "9d26ac0a-e2ab-416f-b290-8009a559efcd",
   "metadata": {},
   "outputs": [],
   "source": [
    "dict2={\"student1\":{\"name\":\"sri\",\"age\":30},\n",
    "       \"student2\":{\"name\":\"harshitha\",\"age\":29},\n",
    "       \"student3\":{\"name\":\"praneet\",\"age\":34}}"
   ]
  },
  {
   "cell_type": "code",
   "execution_count": 37,
   "id": "578c4c11-efaa-431f-a98f-5903894ff483",
   "metadata": {},
   "outputs": [
    {
     "data": {
      "text/plain": [
       "{'student1': {'name': 'sri', 'age': 30},\n",
       " 'student2': {'name': 'harshitha', 'age': 29},\n",
       " 'student3': {'name': 'praneet', 'age': 34}}"
      ]
     },
     "execution_count": 37,
     "metadata": {},
     "output_type": "execute_result"
    }
   ],
   "source": [
    "dict2"
   ]
  },
  {
   "cell_type": "code",
   "execution_count": 55,
   "id": "0b5eeef4-ab40-4d3d-ab42-9a6b90996e0e",
   "metadata": {},
   "outputs": [],
   "source": [
    "dict3={'language' : 'Python', 'course': 'Data Science Masters'}"
   ]
  },
  {
   "cell_type": "markdown",
   "id": "951d17cf-9cd7-44d8-9874-4dcbfad07c01",
   "metadata": {},
   "source": [
    "Returns the value of the specified key. If the key does not exist: insert the key, with the specified value"
   ]
  },
  {
   "cell_type": "code",
   "execution_count": 56,
   "id": "e0ca4d83-4410-4628-a4d8-e92cceea8aa4",
   "metadata": {},
   "outputs": [],
   "source": [
    "d=dict3.setdefault(\"topics\", [\"Python\",\"Machine learning\",\"Deep learning\"])"
   ]
  },
  {
   "cell_type": "code",
   "execution_count": 53,
   "id": "f120fe00-f086-4371-8606-30719b5e01f2",
   "metadata": {},
   "outputs": [
    {
     "data": {
      "text/plain": [
       "['Python', 'Machine learning', 'Deep learning']"
      ]
     },
     "execution_count": 53,
     "metadata": {},
     "output_type": "execute_result"
    }
   ],
   "source": [
    "d"
   ]
  },
  {
   "cell_type": "code",
   "execution_count": 57,
   "id": "e1bdfdfb-267d-47f0-ac71-cff6d3a42e79",
   "metadata": {},
   "outputs": [
    {
     "data": {
      "text/plain": [
       "{'language': 'Python',\n",
       " 'course': 'Data Science Masters',\n",
       " 'topics': ['Python', 'Machine learning', 'Deep learning']}"
      ]
     },
     "execution_count": 57,
     "metadata": {},
     "output_type": "execute_result"
    }
   ],
   "source": [
    "dict3"
   ]
  },
  {
   "cell_type": "code",
   "execution_count": 58,
   "id": "8aea959f-fe70-4512-81e2-7ae03ec5a422",
   "metadata": {},
   "outputs": [
    {
     "data": {
      "text/plain": [
       "dict_values(['Python', 'Data Science Masters', ['Python', 'Machine learning', 'Deep learning']])"
      ]
     },
     "execution_count": 58,
     "metadata": {},
     "output_type": "execute_result"
    }
   ],
   "source": [
    "dict3.values()"
   ]
  },
  {
   "cell_type": "markdown",
   "id": "1e4c87c3-6a31-42f1-b68d-8a57cc398f14",
   "metadata": {},
   "source": [
    "Q8. What are the three view objects in dictionaries? Use the three in-built methods in python to display\n",
    "these three view objects for the given dictionary.\n",
    "dict1 = {'Sport': 'Cricket' , 'Teams': ['India', 'Australia', 'England', 'South Africa', 'Sri Lanka', 'New Zealand']}"
   ]
  },
  {
   "cell_type": "markdown",
   "id": "27a5e63f-3a82-45aa-b3fc-10df29ebaf43",
   "metadata": {},
   "source": [
    "##Ans\n",
    "The main view objects of dictionary in python are keys, values and items.\n",
    "In the python dictionaries, some of the methods return view objects. This view objects are dynamic view objects, meaning that when we made some changes in the dictionary then the view reflects all these changes."
   ]
  },
  {
   "cell_type": "code",
   "execution_count": 59,
   "id": "4ed0e01e-ecc1-4079-ba78-b9f7ea8af745",
   "metadata": {},
   "outputs": [],
   "source": [
    "dict1 = {'Sport': 'Cricket' , 'Teams': ['India', 'Australia', 'England', 'South Africa', 'Sri Lanka', 'New Zealand']}"
   ]
  },
  {
   "cell_type": "code",
   "execution_count": 60,
   "id": "d2e38229-6e6c-4784-9c32-d2e3d1e2c092",
   "metadata": {},
   "outputs": [
    {
     "data": {
      "text/plain": [
       "dict_keys(['Sport', 'Teams'])"
      ]
     },
     "execution_count": 60,
     "metadata": {},
     "output_type": "execute_result"
    }
   ],
   "source": [
    "dict1.keys()"
   ]
  },
  {
   "cell_type": "code",
   "execution_count": 61,
   "id": "26c35587-a5e7-4faa-a2c1-8e2861510541",
   "metadata": {},
   "outputs": [
    {
     "data": {
      "text/plain": [
       "dict_values(['Cricket', ['India', 'Australia', 'England', 'South Africa', 'Sri Lanka', 'New Zealand']])"
      ]
     },
     "execution_count": 61,
     "metadata": {},
     "output_type": "execute_result"
    }
   ],
   "source": [
    "dict1.values()"
   ]
  },
  {
   "cell_type": "code",
   "execution_count": 62,
   "id": "d1420da1-aaf1-4fd5-bb65-51816147cc32",
   "metadata": {},
   "outputs": [
    {
     "data": {
      "text/plain": [
       "dict_items([('Sport', 'Cricket'), ('Teams', ['India', 'Australia', 'England', 'South Africa', 'Sri Lanka', 'New Zealand'])])"
      ]
     },
     "execution_count": 62,
     "metadata": {},
     "output_type": "execute_result"
    }
   ],
   "source": [
    "dict1.items()"
   ]
  },
  {
   "cell_type": "code",
   "execution_count": null,
   "id": "2c9bf345-2cdc-4644-a3d5-63fdd89a5a02",
   "metadata": {},
   "outputs": [],
   "source": []
  }
 ],
 "metadata": {
  "kernelspec": {
   "display_name": "Python 3 (ipykernel)",
   "language": "python",
   "name": "python3"
  },
  "language_info": {
   "codemirror_mode": {
    "name": "ipython",
    "version": 3
   },
   "file_extension": ".py",
   "mimetype": "text/x-python",
   "name": "python",
   "nbconvert_exporter": "python",
   "pygments_lexer": "ipython3",
   "version": "3.10.8"
  }
 },
 "nbformat": 4,
 "nbformat_minor": 5
}
