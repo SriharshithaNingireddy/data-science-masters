{
 "cells": [
  {
   "cell_type": "code",
   "execution_count": 1,
   "id": "69d89622-7e82-4533-a2a5-81882a8c0369",
   "metadata": {},
   "outputs": [
    {
     "name": "stdout",
     "output_type": "stream",
     "text": [
      "Hello world\n"
     ]
    }
   ],
   "source": [
    "print('Hello world')"
   ]
  },
  {
   "cell_type": "code",
   "execution_count": 2,
   "id": "1c61f9ce-d4d0-4727-8d38-abea093af21a",
   "metadata": {},
   "outputs": [
    {
     "name": "stdout",
     "output_type": "stream",
     "text": [
      "123\n"
     ]
    }
   ],
   "source": [
    "print(123)"
   ]
  },
  {
   "cell_type": "code",
   "execution_count": 3,
   "id": "47e39790-0149-47c6-a62a-c96c187987dd",
   "metadata": {},
   "outputs": [
    {
     "name": "stdout",
     "output_type": "stream",
     "text": [
      "My age is: 30\n"
     ]
    }
   ],
   "source": [
    "age=30\n",
    "print(\"My age is:\", age)"
   ]
  },
  {
   "cell_type": "markdown",
   "id": "cf7335f0-ba3c-47ae-81b8-c8aceb34c464",
   "metadata": {},
   "source": [
    "### f-> formating"
   ]
  },
  {
   "cell_type": "code",
   "execution_count": 4,
   "id": "745e1b34-de35-4abb-8356-a6b3a3e72af4",
   "metadata": {},
   "outputs": [
    {
     "name": "stdout",
     "output_type": "stream",
     "text": [
      "MY age is:30\n"
     ]
    }
   ],
   "source": [
    "print(f\"MY age is:{age}\")"
   ]
  },
  {
   "cell_type": "code",
   "execution_count": 5,
   "id": "90352e11-bc32-49bf-a70c-9040a1fa222f",
   "metadata": {},
   "outputs": [
    {
     "name": "stdout",
     "output_type": "stream",
     "text": [
      "my age is:{age}\n"
     ]
    }
   ],
   "source": [
    "print(\"my age is:{age}\")"
   ]
  },
  {
   "cell_type": "code",
   "execution_count": 6,
   "id": "f434005d-c8a2-406c-8e7a-3ce1dba6585b",
   "metadata": {},
   "outputs": [
    {
     "name": "stdout",
     "output_type": "stream",
     "text": [
      "my name is sri and age is 30\n"
     ]
    }
   ],
   "source": [
    "name=\"sri\"\n",
    "age=30\n",
    "print(\"my name is {} and age is {}\".format(name,age))"
   ]
  },
  {
   "cell_type": "code",
   "execution_count": null,
   "id": "39a95ce1-5d32-4ae9-a9c9-27df356cd96d",
   "metadata": {},
   "outputs": [],
   "source": [
    "### place holder\n"
   ]
  },
  {
   "cell_type": "code",
   "execution_count": 7,
   "id": "8fc1b6d8-4988-40de-9e41-01956f40d476",
   "metadata": {},
   "outputs": [
    {
     "name": "stdout",
     "output_type": "stream",
     "text": [
      "my name is sri and age is 30\n"
     ]
    }
   ],
   "source": [
    "\n",
    "print(\"my name is {firstname} and age is {firstage}\".format(firstage=age,firstname=name))"
   ]
  },
  {
   "cell_type": "code",
   "execution_count": 9,
   "id": "2f0f1ff9-107a-4ae2-b893-14009237b060",
   "metadata": {},
   "outputs": [
    {
     "name": "stdout",
     "output_type": "stream",
     "text": [
      "my ageis30 i have completed:mtech with the name ofsri\n"
     ]
    }
   ],
   "source": [
    "name=\"sri\"\n",
    "age=30\n",
    "degree=\"mtech\"\n",
    "print(\"my ageis{fage} i have completed:{fdegree} with the name of{fname}\".format(fage=age,fname=name,fdegree=degree))"
   ]
  },
  {
   "cell_type": "markdown",
   "id": "2a0d982f-36ff-4c3a-bbdc-586175e52081",
   "metadata": {},
   "source": [
    "### control flow"
   ]
  },
  {
   "cell_type": "code",
   "execution_count": 10,
   "id": "3d6f6af0-9ead-4b8f-a6cf-0dc1f03c5409",
   "metadata": {},
   "outputs": [
    {
     "name": "stdout",
     "output_type": "stream",
     "text": [
      "u r elegible to vote\n"
     ]
    }
   ],
   "source": [
    "### if statement\n",
    "age=18\n",
    "if age>=18:\n",
    "    print(\"u r elegible to vote\")"
   ]
  },
  {
   "cell_type": "code",
   "execution_count": null,
   "id": "1f59ef50-780d-4e1b-b87c-0969555a7ea5",
   "metadata": {},
   "outputs": [],
   "source": []
  },
  {
   "cell_type": "code",
   "execution_count": 11,
   "id": "f49cc299-4f24-4df0-a50e-f058ced6fd1b",
   "metadata": {},
   "outputs": [
    {
     "name": "stdout",
     "output_type": "stream",
     "text": [
      "u r not elegible to VOTE\n"
     ]
    }
   ],
   "source": [
    "### if statement\n",
    "age=8\n",
    "if age>=18:\n",
    "    print(\"u r elegible to vote\")\n",
    "else:\n",
    "    print(\"u r not elegible to VOTE\")"
   ]
  },
  {
   "cell_type": "code",
   "execution_count": 13,
   "id": "d0b061a7-3b51-4e4c-8262-9080ad90fe52",
   "metadata": {},
   "outputs": [
    {
     "data": {
      "text/plain": [
       "False"
      ]
     },
     "execution_count": 13,
     "metadata": {},
     "output_type": "execute_result"
    }
   ],
   "source": [
    "18>=19"
   ]
  },
  {
   "cell_type": "code",
   "execution_count": 16,
   "id": "40f10b13-0b38-414d-a286-ce7af5c1016f",
   "metadata": {},
   "outputs": [
    {
     "name": "stdin",
     "output_type": "stream",
     "text": [
      " sri\n"
     ]
    },
    {
     "data": {
      "text/plain": [
       "'sri'"
      ]
     },
     "execution_count": 16,
     "metadata": {},
     "output_type": "execute_result"
    }
   ],
   "source": [
    "input()"
   ]
  },
  {
   "cell_type": "code",
   "execution_count": 19,
   "id": "5fd60ec9-1335-4bdf-8cb2-3bb268c7989f",
   "metadata": {},
   "outputs": [
    {
     "name": "stdin",
     "output_type": "stream",
     "text": [
      "enter ur age 46\n"
     ]
    },
    {
     "name": "stdout",
     "output_type": "stream",
     "text": [
      "u r not young blood\n"
     ]
    }
   ],
   "source": [
    "age=int(input(\"enter ur age\"))\n",
    "if age>=18 and age<=45:\n",
    "    print(\"u are young blood\")\n",
    "else:\n",
    "    print(\"u r not young blood\")"
   ]
  },
  {
   "cell_type": "markdown",
   "id": "4dfcb414-c7ca-4693-9f98-3e93b8529d5f",
   "metadata": {},
   "source": [
    "## f formating is used below\n"
   ]
  },
  {
   "cell_type": "code",
   "execution_count": 3,
   "id": "73e8b0a2-2e85-45df-bc27-1feffc381a02",
   "metadata": {},
   "outputs": [
    {
     "name": "stdin",
     "output_type": "stream",
     "text": [
      "enter product money 2000\n"
     ]
    },
    {
     "name": "stdout",
     "output_type": "stream",
     "text": [
      "20% off if giving\n",
      "ur discount price is:1600.0\n"
     ]
    }
   ],
   "source": [
    "money=int(input(\"enter product money\"))\n",
    "if(money>1000):\n",
    "    print(\"20% off if giving\")\n",
    "    print(f\"ur discount price is:{money*0.8}\")\n",
    "else:\n",
    "    print(\"30% off\")\n",
    "    print(f\"ur discount price is:{money*0.7}\")\n"
   ]
  },
  {
   "cell_type": "markdown",
   "id": "3034d080-9482-436c-af2b-36042ab1657b",
   "metadata": {},
   "source": [
    "#### using .format"
   ]
  },
  {
   "cell_type": "code",
   "execution_count": 4,
   "id": "5c9b14c3-1e43-4314-ad03-d373eadd8138",
   "metadata": {},
   "outputs": [
    {
     "name": "stdin",
     "output_type": "stream",
     "text": [
      "enter product money 2000\n"
     ]
    },
    {
     "name": "stdout",
     "output_type": "stream",
     "text": [
      "the product is going to get 20% discount and final price is 1600.0\n"
     ]
    }
   ],
   "source": [
    "money=int(input(\"enter product money\"))\n",
    "if(money>1000):\n",
    "    print(\"the product is going to get 20% discount and final price is {}\".format(money*0.8))\n",
    "else:\n",
    "    print(\"the product is going to get 30% discount and final price is {}\".format(money*0.7))"
   ]
  },
  {
   "cell_type": "code",
   "execution_count": 8,
   "id": "cda48be7-dd2f-4435-ac56-a9a8a8e6dfad",
   "metadata": {},
   "outputs": [
    {
     "name": "stdin",
     "output_type": "stream",
     "text": [
      "enter price 2999\n"
     ]
    },
    {
     "name": "stdout",
     "output_type": "stream",
     "text": [
      "u r additionALLY GETTING A SUITCASE\n",
      "30% discount:-price of the product is 2099.2999999999997\n"
     ]
    }
   ],
   "source": [
    "product_price=int(input(\"enter price\"))\n",
    "if product_price>=3000:\n",
    "    print(f\"20% discount:-price of the prodct is { product_price*0.8}\")\n",
    "elif product_price>=2000 and product_price<=3000:\n",
    "    if product_price==2999:\n",
    "        print(\"u r additionALLY GETTING A SUITCASE\")\n",
    "    print(f\"30% discount:-price of the product is {product_price*0.7}\")\n",
    "elif  product_price>=100 and product_price>=2000:\n",
    "    print(\"40% discount:-price of the product is {}\".format(product_price*60) )\n",
    "else:\n",
    "    print(\"drink tea\")"
   ]
  },
  {
   "cell_type": "markdown",
   "id": "7b9bd5ae-fd91-46bd-8e2e-aeb6fde2ec3e",
   "metadata": {},
   "source": [
    "## loop statements\n",
    "1. while\n",
    "2. For loop\n",
    "3. nested loops\n",
    "4. loop control(break,continue,pass)"
   ]
  },
  {
   "cell_type": "code",
   "execution_count": 6,
   "id": "d45c698b-c69f-4ea7-b66a-8da5a9286314",
   "metadata": {},
   "outputs": [
    {
     "name": "stdout",
     "output_type": "stream",
     "text": [
      "26\n",
      "27\n",
      "28\n",
      "29\n",
      "30\n",
      "31\n",
      "32\n",
      "33\n",
      "34\n",
      "35\n",
      "36\n",
      "37\n",
      "38\n",
      "39\n",
      "40\n",
      "41\n",
      "42\n",
      "43\n",
      "44\n",
      "45\n",
      "46\n",
      "47\n",
      "48\n",
      "49\n",
      "50\n",
      "51\n",
      "52\n",
      "53\n",
      "54\n",
      "55\n",
      "56\n",
      "57\n",
      "58\n",
      "59\n",
      "60\n",
      "61\n",
      "its ur retiremnt age\n"
     ]
    }
   ],
   "source": [
    "#while loop\n",
    "joining_age=25\n",
    "while joining_age<=60:\n",
    "    #print(\"sorry its a retirement age\")\n",
    "    joining_age=joining_age+1\n",
    "    print(joining_age)\n",
    "else:\n",
    "    print(\"its ur retiremnt age\")\n"
   ]
  },
  {
   "cell_type": "code",
   "execution_count": 8,
   "id": "2aa5a361-d727-402f-b321-9a99eac1c6b4",
   "metadata": {},
   "outputs": [
    {
     "name": "stdout",
     "output_type": "stream",
     "text": [
      "1000\n",
      "900\n",
      "800\n",
      "700\n",
      "600\n",
      "500\n",
      "400\n",
      "300\n",
      "200\n",
      "100\n",
      "please fill the amount\n"
     ]
    }
   ],
   "source": [
    "total_amount=1000\n",
    "while total_amount!=0:\n",
    "    print(total_amount)\n",
    "    total_amount=total_amount-100\n",
    "else:\n",
    "    print(\"please fill the amount\")"
   ]
  },
  {
   "cell_type": "markdown",
   "id": "7fb74f18-0099-4e1d-9e85-a119ff58f96d",
   "metadata": {},
   "source": [
    "## For loop"
   ]
  },
  {
   "cell_type": "code",
   "execution_count": 18,
   "id": "78107609-3d39-49e0-a5d1-8017a1130fb9",
   "metadata": {},
   "outputs": [
    {
     "data": {
      "text/plain": [
       "'apple'"
      ]
     },
     "execution_count": 18,
     "metadata": {},
     "output_type": "execute_result"
    }
   ],
   "source": [
    "lst=[\"sri\",10,20,30,\"apple\"]\n",
    "type(lst)\n",
    "lst[4]"
   ]
  },
  {
   "cell_type": "code",
   "execution_count": 21,
   "id": "719e37d5-fb7d-4db4-a163-1defd728a5a0",
   "metadata": {},
   "outputs": [
    {
     "name": "stdout",
     "output_type": "stream",
     "text": [
      "sri\n",
      "10\n",
      "20\n",
      "30\n",
      "the value is 30\n"
     ]
    }
   ],
   "source": [
    "for x in lst:\n",
    "    print(x)\n",
    "    if x==lst[3]:\n",
    "        print(\"the value is\",x)\n",
    "        break"
   ]
  },
  {
   "cell_type": "markdown",
   "id": "9f7a4296-f29e-4f5c-b2c8-8ca256c4129a",
   "metadata": {},
   "source": [
    "### nested loops"
   ]
  },
  {
   "cell_type": "code",
   "execution_count": 24,
   "id": "fe86d884-0570-4afe-8248-a32fd808b790",
   "metadata": {},
   "outputs": [
    {
     "name": "stdout",
     "output_type": "stream",
     "text": [
      "1\n",
      "3\n",
      "5\n",
      "7\n",
      "9\n"
     ]
    }
   ],
   "source": [
    "for i in range(1,10,2):\n",
    "    print(i)"
   ]
  },
  {
   "cell_type": "code",
   "execution_count": 29,
   "id": "7b162058-cdd2-4eb1-8cf9-3b1aae1cf781",
   "metadata": {},
   "outputs": [
    {
     "name": "stdout",
     "output_type": "stream",
     "text": [
      "*\n",
      "**\n",
      "***\n",
      "****\n",
      "*****\n",
      "******\n",
      "*******\n"
     ]
    }
   ],
   "source": [
    "n=7\n",
    "for i in range(0,n):\n",
    "    for j in range(0,i+1):\n",
    "        print(\"*\",end=\"\")\n",
    "    print(\"\\r\")"
   ]
  },
  {
   "cell_type": "code",
   "execution_count": 44,
   "id": "ff10df14-ff73-45f6-8f1f-702293eaf18b",
   "metadata": {},
   "outputs": [
    {
     "name": "stdout",
     "output_type": "stream",
     "text": [
      "***\n",
      "****\n",
      "*****\n",
      "******\n",
      "*******\n",
      "********\n",
      "*********\n"
     ]
    }
   ],
   "source": [
    "n=7\n",
    "for i in range(0,n):\n",
    "    for j in range(0,i+3):\n",
    "        print(\"*\",end=\"\")\n",
    "    print(\"\\r\")"
   ]
  },
  {
   "cell_type": "code",
   "execution_count": null,
   "id": "b032431b-103f-4b53-b666-db2010d7fef1",
   "metadata": {},
   "outputs": [],
   "source": []
  }
 ],
 "metadata": {
  "kernelspec": {
   "display_name": "Python 3 (ipykernel)",
   "language": "python",
   "name": "python3"
  },
  "language_info": {
   "codemirror_mode": {
    "name": "ipython",
    "version": 3
   },
   "file_extension": ".py",
   "mimetype": "text/x-python",
   "name": "python",
   "nbconvert_exporter": "python",
   "pygments_lexer": "ipython3",
   "version": "3.10.8"
  }
 },
 "nbformat": 4,
 "nbformat_minor": 5
}
