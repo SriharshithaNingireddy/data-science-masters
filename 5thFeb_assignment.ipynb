{
 "cells": [
  {
   "cell_type": "markdown",
   "id": "91bb3999-d8c4-4416-b480-2ea4b0ad9edf",
   "metadata": {},
   "source": [
    "Q1. Explain Class and Object with respect to Object-Oriented Programming. Give a suitable example."
   ]
  },
  {
   "cell_type": "markdown",
   "id": "5b63a4cf-720b-4ef2-9e8c-3485eb348178",
   "metadata": {},
   "source": [
    "Class\n",
    "\n",
    "The class can be defined as a collection of objects. It is a logical entity that has some specific attributes and methods. For example: if you have an employee class, then it should contain an attribute and method, i.e. an email id, name, age, salary, etc.\n",
    "\n",
    "Object\n",
    "\n",
    "The object is an entity that has state and behavior. It may be any real-world object like the mouse, keyboard, chair, table, pen, etc."
   ]
  },
  {
   "cell_type": "code",
   "execution_count": 1,
   "id": "4f9ef184-a71e-4e01-8496-de120bb7335a",
   "metadata": {},
   "outputs": [
    {
     "name": "stdout",
     "output_type": "stream",
     "text": [
      "Toyota 2016\n"
     ]
    }
   ],
   "source": [
    "class car:  \n",
    "    def __init__(self,modelname, year):  \n",
    "        self.modelname = modelname  \n",
    "        self.year = year  \n",
    "    def display(self):  \n",
    "        print(self.modelname,self.year)  \n",
    "  \n",
    "c1 = car(\"Toyota\", 2016)  ### c1 is an object\n",
    "c1.display()"
   ]
  },
  {
   "cell_type": "markdown",
   "id": "b7c62939-a2dd-4d9c-ae4c-78352dc5c540",
   "metadata": {},
   "source": [
    "Q2. Name the four pillars of OOPs."
   ]
  },
  {
   "cell_type": "markdown",
   "id": "756a5d69-8f8f-482a-8bb9-507838c1dddf",
   "metadata": {},
   "source": [
    "4 pillars of OOPs are:\n",
    "    Inheritance,\n",
    "    Polymorphism,\n",
    "    Abstraction,\n",
    "    Encapsulation"
   ]
  },
  {
   "cell_type": "markdown",
   "id": "286d9e11-2440-4f59-99d3-9681399c1f53",
   "metadata": {},
   "source": [
    "Q3. Explain why the __init__() function is used. Give a suitable example."
   ]
  },
  {
   "cell_type": "markdown",
   "id": "d168e707-23e8-4f2c-8a50-308739d5cb77",
   "metadata": {},
   "source": [
    "Whenever object-oriented programming is done in Python, we mostly come across __init__ method in oops which we usually don’t fully understand. This article explains the main concept of __init__ but before understanding the __init__ some prerequisites are required.\n",
    "\n",
    "\n",
    "    We discussed above that every object could have its values for the attributes of a class. This functionality can be achieved using the __init__ method.\n",
    "    It is a constructor, allowing a class to hold objects with different values.\n",
    "    We need not call it like we call a normal method. It is similar to a method inside a class. It is executed as soon as an object is created for the class.\n"
   ]
  },
  {
   "cell_type": "code",
   "execution_count": 1,
   "id": "968f46bf-dc02-4543-bdc0-18f2b4547866",
   "metadata": {},
   "outputs": [
    {
     "name": "stdout",
     "output_type": "stream",
     "text": [
      "I am earth\n",
      "I am the 3 planet in the solar system\n"
     ]
    }
   ],
   "source": [
    "    class planet:  \n",
    "        def __init__ (self, name, number):  \n",
    "            self. name = name  \n",
    "            self. number = number  \n",
    "        def function (self):  \n",
    "            print (\"I am\", self. name)  \n",
    "            print (\"I am the\", self. number, \"planet in the solar system\")  \n",
    "              \n",
    "    earth = planet ('earth', 3)  \n",
    "    earth. function ()  "
   ]
  },
  {
   "cell_type": "markdown",
   "id": "a1dd60e0-70e0-4823-aa59-1980ec21c15b",
   "metadata": {},
   "source": [
    "Q4. Why self is used in OOPs?"
   ]
  },
  {
   "cell_type": "markdown",
   "id": "61b4a519-c00c-4389-8b1d-dcb2e02ec45f",
   "metadata": {},
   "source": [
    "    Class methods must have an extra first parameter in the method definition. We do not give a value for this parameter when we call the method, Python provides it\n",
    "    If we have a method that takes no arguments, then we still have to have one argument.\n",
    "    This is similar to this pointer in C++ and this reference in Java.\n",
    "\n",
    "When we call a method of this object as myobject.method(arg1, arg2), this is automatically converted by Python into MyClass.method(myobject, arg1, arg2) – this is all the special self is about."
   ]
  },
  {
   "cell_type": "markdown",
   "id": "df85bb78-6070-4845-9fb4-637f807ebfd3",
   "metadata": {},
   "source": [
    "Q5. What is inheritance? Give an example for each type of inheritance."
   ]
  },
  {
   "cell_type": "markdown",
   "id": "36e20d28-002e-4618-9ecb-1649f3f98665",
   "metadata": {},
   "source": [
    "Inheritance is the capability of one class to derive or inherit the properties from another class. The class that derives properties is called the derived class or child class and the class from which the properties are being derived is called the base class or parent class.\n",
    "Types of Inheritance – \n",
    "\n",
    "Single Inheritance:\n",
    "Single-level inheritance enables a derived class to inherit characteristics from a single-parent class.\n",
    "\n",
    "Multilevel Inheritance:\n",
    "Multi-level inheritance enables a derived class to inherit properties from an immediate parent class which in turn inherits properties from his parent class.\n",
    "\n",
    "Hierarchical Inheritance:\n",
    "Hierarchical level inheritance enables more than one derived class to inherit properties from a parent class.\n",
    "\n",
    "Multiple Inheritance:\n",
    "Multiple level inheritance enables one derived class to inherit properties from more than one base class.\n",
    "\n",
    "Hybrid Inheritance: \n",
    "\n",
    "Inheritance consisting of multiple types of inheritance is called hybrid inheritance."
   ]
  },
  {
   "cell_type": "code",
   "execution_count": 2,
   "id": "3ccd21fa-67e3-418f-9bf4-987e0e3373dd",
   "metadata": {},
   "outputs": [],
   "source": [
    "##single inheritance:\n",
    "class classA:\n",
    "    def test_classA(self):\n",
    "        print(\"this is class A\")\n",
    "class classB(classA):\n",
    "    def test_classB(self):\n",
    "        print(\"this is class B\")"
   ]
  },
  {
   "cell_type": "code",
   "execution_count": 3,
   "id": "519e186b-9776-44d3-8d1d-e09cae1ec4dc",
   "metadata": {},
   "outputs": [],
   "source": [
    "obj_classB = classB#"
   ]
  },
  {
   "cell_type": "code",
   "execution_count": 4,
   "id": "dafea4d0-0572-4ca7-8a17-d75d961c3a9b",
   "metadata": {},
   "outputs": [
    {
     "name": "stdout",
     "output_type": "stream",
     "text": [
      "this is class A\n"
     ]
    }
   ],
   "source": [
    "obj_classB.test_classA()"
   ]
  },
  {
   "cell_type": "code",
   "execution_count": 5,
   "id": "7f279479-4560-4c6e-94a4-6d4208ee97d2",
   "metadata": {},
   "outputs": [
    {
     "name": "stdout",
     "output_type": "stream",
     "text": [
      "this is class B\n"
     ]
    }
   ],
   "source": [
    "obj_classB.test_classB()"
   ]
  },
  {
   "cell_type": "code",
   "execution_count": 6,
   "id": "01ce128e-1065-4a0b-b59f-b7f164d187fe",
   "metadata": {},
   "outputs": [],
   "source": [
    "### mulpi level \n",
    "class classA:\n",
    "    def test_classA(self):\n",
    "        print(\"this is class A\")\n",
    "class classB(classA):\n",
    "    def test_classB(self):\n",
    "        print(\"this is class B\")\n",
    "class classC(classB):\n",
    "    def test_classC(self):\n",
    "        print(\"this is class C\")\n",
    "        "
   ]
  },
  {
   "cell_type": "code",
   "execution_count": 7,
   "id": "07355030-5f57-4cbe-9a76-297f3ae9c453",
   "metadata": {},
   "outputs": [],
   "source": [
    "obj_classC= classC()"
   ]
  },
  {
   "cell_type": "code",
   "execution_count": 11,
   "id": "0832de05-c69a-45f4-a75f-bb74f9cb261e",
   "metadata": {},
   "outputs": [
    {
     "name": "stdout",
     "output_type": "stream",
     "text": [
      "this is class A\n",
      "this is class B\n",
      "this is class C\n"
     ]
    }
   ],
   "source": [
    "obj_classC.test_classA() \n",
    "obj_classC.test_classB()  \n",
    "obj_classC.test_classC()"
   ]
  },
  {
   "cell_type": "code",
   "execution_count": 12,
   "id": "b20f3a4c-4b05-4a0d-8097-b282651d6e24",
   "metadata": {},
   "outputs": [],
   "source": [
    "###Hierarchical Inheritance\n",
    "class classA:\n",
    "    def test_classA(self):\n",
    "        print(\"this is class A\")\n",
    "class classB(classA):\n",
    "    def test_classB(self):\n",
    "        print(\"this is class B\")\n",
    "class classC(classA):\n",
    "    def test_classC(self):\n",
    "        print(\"this is class C\")"
   ]
  },
  {
   "cell_type": "code",
   "execution_count": 13,
   "id": "35edfc1a-2620-40f3-82d2-fd11e31abcae",
   "metadata": {},
   "outputs": [],
   "source": [
    "obj_classC= classC()"
   ]
  },
  {
   "cell_type": "code",
   "execution_count": 15,
   "id": "d77dc0e8-5ee9-44b5-92b3-7362725f0283",
   "metadata": {},
   "outputs": [
    {
     "name": "stdout",
     "output_type": "stream",
     "text": [
      "this is class A\n",
      "this is class C\n"
     ]
    }
   ],
   "source": [
    "obj_classC.test_classA()\n",
    "obj_classC.test_classC()"
   ]
  },
  {
   "cell_type": "code",
   "execution_count": 19,
   "id": "adc3ec0c-83f7-4914-9033-9230b499414b",
   "metadata": {},
   "outputs": [],
   "source": [
    "####Multiple Inheritance:\n",
    "class class1():\n",
    "    def test_class1(self):\n",
    "        print(\"this is my class1\")\n",
    "class class2():\n",
    "    def test_class2(self):\n",
    "        print(\"this is my class2\")\n",
    "class class3(class1,class2):\n",
    "    def test_class3(self):\n",
    "        print('this is my class3')\n",
    "    \n"
   ]
  },
  {
   "cell_type": "code",
   "execution_count": 20,
   "id": "a8ef03fb-a286-438c-a7ed-ebf11dc949b3",
   "metadata": {},
   "outputs": [],
   "source": [
    "obj_class3= class3()"
   ]
  },
  {
   "cell_type": "code",
   "execution_count": 22,
   "id": "b0a3e115-ad1d-4d09-af11-27e497eff429",
   "metadata": {},
   "outputs": [
    {
     "name": "stdout",
     "output_type": "stream",
     "text": [
      "this is my class1\n",
      "this is my class2\n",
      "this is my class3\n"
     ]
    }
   ],
   "source": [
    "obj_class3.test_class1()\n",
    "obj_class3.test_class2()\n",
    "obj_class3.test_class3()"
   ]
  },
  {
   "cell_type": "code",
   "execution_count": 23,
   "id": "19272798-7fc1-481c-a266-49778c9a1d94",
   "metadata": {},
   "outputs": [
    {
     "name": "stdout",
     "output_type": "stream",
     "text": [
      "This function is in school.\n",
      "This function is in student 1. \n"
     ]
    }
   ],
   "source": [
    "# hybrid inheritance\n",
    " \n",
    " \n",
    "class School:\n",
    "    def func1(self):\n",
    "        print(\"This function is in school.\")\n",
    " \n",
    " \n",
    "class Student1(School):\n",
    "    def func2(self):\n",
    "        print(\"This function is in student 1. \")\n",
    " \n",
    " \n",
    "class Student2(School):\n",
    "    def func3(self):\n",
    "        print(\"This function is in student 2.\")\n",
    " \n",
    " \n",
    "class Student3(Student1, School):\n",
    "    def func4(self):\n",
    "        print(\"This function is in student 3.\")\n",
    " \n",
    " \n",
    "# Driver's code\n",
    "object = Student3()\n",
    "object.func1()\n",
    "object.func2()"
   ]
  },
  {
   "cell_type": "code",
   "execution_count": null,
   "id": "f763eeab-16a5-411f-957d-556f9d8891cc",
   "metadata": {},
   "outputs": [],
   "source": []
  }
 ],
 "metadata": {
  "kernelspec": {
   "display_name": "Python 3 (ipykernel)",
   "language": "python",
   "name": "python3"
  },
  "language_info": {
   "codemirror_mode": {
    "name": "ipython",
    "version": 3
   },
   "file_extension": ".py",
   "mimetype": "text/x-python",
   "name": "python",
   "nbconvert_exporter": "python",
   "pygments_lexer": "ipython3",
   "version": "3.10.8"
  }
 },
 "nbformat": 4,
 "nbformat_minor": 5
}
