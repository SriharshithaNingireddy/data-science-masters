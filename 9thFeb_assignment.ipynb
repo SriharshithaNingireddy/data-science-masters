{
 "cells": [
  {
   "cell_type": "markdown",
   "id": "3d29ffca-065d-4044-9e9d-b10cba41077e",
   "metadata": {},
   "source": [
    "Q1, Create a vehicle class with an init method having instance variables as name_of_vehicle, max_speed\n",
    "and average_of_vehicle."
   ]
  },
  {
   "cell_type": "code",
   "execution_count": 15,
   "id": "82cea276-7175-493e-8fcf-54f9fcc722c6",
   "metadata": {},
   "outputs": [],
   "source": [
    "class vehicle:\n",
    "    def __init__(self,name_of_vehicle,max_speed,average_of_vehicle):\n",
    "        self.name_of_vehicle=name_of_vehicle\n",
    "        self.max_speed= max_speed\n",
    "        self.average_of_vehicle = average_of_vehicle"
   ]
  },
  {
   "cell_type": "markdown",
   "id": "dbb7b253-1769-4f9a-9b36-ec8c754227f7",
   "metadata": {},
   "source": [
    "Q2. Create a child class car from the vehicle class created in Que 1, which will inherit the vehicle class.\n",
    "Create a method named seating_capacity which takes capacity as an argument and returns the name of\n",
    "the vehicle and its seating capacity."
   ]
  },
  {
   "cell_type": "code",
   "execution_count": 16,
   "id": "34d04b91-63e3-48be-8548-324ab056f5d2",
   "metadata": {},
   "outputs": [],
   "source": [
    "class car(vehicle):\n",
    "    def seating_capacity(self,name_of_vehicle,capacity):\n",
    "        #vehicle.__init__(self,name_of_vehicle,max_speed,average_of_vehicle)\n",
    "        self.capacity=capacity\n",
    "        return name_of_vehicle, capacity"
   ]
  },
  {
   "cell_type": "code",
   "execution_count": 17,
   "id": "fb4f1fa1-6583-4f48-b026-3b32804fa2bf",
   "metadata": {},
   "outputs": [],
   "source": [
    "obj_car= car(\"toyata\",250,12)"
   ]
  },
  {
   "cell_type": "code",
   "execution_count": 18,
   "id": "b688195b-8764-409b-abde-c2db1e206f3e",
   "metadata": {},
   "outputs": [
    {
     "data": {
      "text/plain": [
       "('toyota', 6)"
      ]
     },
     "execution_count": 18,
     "metadata": {},
     "output_type": "execute_result"
    }
   ],
   "source": [
    "obj_car.seating_capacity(\"toyota\",6)"
   ]
  },
  {
   "cell_type": "markdown",
   "id": "9143a4f2-86d9-4ff1-a54d-0dea166c973d",
   "metadata": {},
   "source": [
    "Q3. What is multiple inheritance? Write a python code to demonstrate multiple inheritance."
   ]
  },
  {
   "cell_type": "markdown",
   "id": "42d9073a-0961-49a5-b54f-085e9fd52622",
   "metadata": {},
   "source": [
    "Multiple Inheritance: Multiple level inheritance enables one derived class to inherit properties from more than one base class."
   ]
  },
  {
   "cell_type": "code",
   "execution_count": 19,
   "id": "46448731-ab7b-42ff-a670-6445a7cf7836",
   "metadata": {},
   "outputs": [
    {
     "name": "stdout",
     "output_type": "stream",
     "text": [
      "this is my class1\n",
      "this is my class2\n",
      "this is my class3\n"
     ]
    }
   ],
   "source": [
    "####Multiple Inheritance:\n",
    "class class1():\n",
    "    def test_class1(self):\n",
    "        print(\"this is my class1\")\n",
    "class class2():\n",
    "    def test_class2(self):\n",
    "        print(\"this is my class2\")\n",
    "class class3(class1,class2):\n",
    "    def test_class3(self):\n",
    "        print('this is my class3')\n",
    "obj_class3= class3()\n",
    "\n",
    "obj_class3.test_class1()\n",
    "obj_class3.test_class2()\n",
    "obj_class3.test_class3()\n"
   ]
  },
  {
   "cell_type": "markdown",
   "id": "63e8eabc-5bb1-4479-8771-a9c25a7cd006",
   "metadata": {},
   "source": [
    "Q4. What are getter and setter in python? Create a class and create a getter and a setter method in this\n",
    "class."
   ]
  },
  {
   "cell_type": "markdown",
   "id": "0b0a093c-8def-4477-b1d8-856c1dae2665",
   "metadata": {},
   "source": [
    "Getters and Setters in python are often used when:\n",
    "\n",
    "We use getters & setters to add validation logic around getting and setting a value.\n",
    "To avoid direct access of a class field i.e. private variables cannot be accessed directly or modified by external user."
   ]
  },
  {
   "cell_type": "code",
   "execution_count": 16,
   "id": "eefd0b2b-5ca8-4ec3-a34b-30c7e795fe83",
   "metadata": {},
   "outputs": [],
   "source": [
    "class pwskills:\n",
    "    def __init__(self,course_name,course_price):\n",
    "        self.course_name=course_name\n",
    "        self.__course_price=course_price\n",
    "    @property\n",
    "    def course_price_access(self):\n",
    "        return self.__course_price\n",
    "    @course_price_access.setter\n",
    "    def course_price_set(self,price):\n",
    "        if price<=3500:\n",
    "            pass\n",
    "        else:\n",
    "            self.__course_price=price\n",
    "    @course_price_access.getter\n",
    "    def course_price_get(self):\n",
    "        return self.__course_price\n",
    "        "
   ]
  },
  {
   "cell_type": "code",
   "execution_count": 17,
   "id": "ca9a8919-6d74-451c-9136-8edda69c08a1",
   "metadata": {},
   "outputs": [],
   "source": [
    "pw=pwskills(\"data science\", 3000)"
   ]
  },
  {
   "cell_type": "code",
   "execution_count": 18,
   "id": "1cf2e47e-55cb-4c5f-8d85-3cc537984104",
   "metadata": {},
   "outputs": [],
   "source": [
    "pw.course_price_set=3700"
   ]
  },
  {
   "cell_type": "code",
   "execution_count": 19,
   "id": "2175012c-a04f-432f-ba93-bdc6cf287eb4",
   "metadata": {},
   "outputs": [
    {
     "data": {
      "text/plain": [
       "3700"
      ]
     },
     "execution_count": 19,
     "metadata": {},
     "output_type": "execute_result"
    }
   ],
   "source": [
    "pw.course_price_access"
   ]
  },
  {
   "cell_type": "code",
   "execution_count": 20,
   "id": "77c15f8d-3811-4ac5-a85f-0e8d5c1e3c77",
   "metadata": {},
   "outputs": [
    {
     "data": {
      "text/plain": [
       "3700"
      ]
     },
     "execution_count": 20,
     "metadata": {},
     "output_type": "execute_result"
    }
   ],
   "source": [
    "pw.course_price_get"
   ]
  },
  {
   "cell_type": "markdown",
   "id": "d801f020-ef3d-40bb-b0fe-d6f0446591b3",
   "metadata": {},
   "source": [
    "Q5.What is method overriding in python? Write a python code to demonstrate method overriding."
   ]
  },
  {
   "cell_type": "markdown",
   "id": "06a14053-b771-40b3-ac83-c90e006906b7",
   "metadata": {},
   "source": [
    "Method overriding is an ability of any object-oriented programming language that allows a subclass or child class to provide a specific implementation of a method that is already provided by one of its super-classes or parent classes. When a method in a subclass has the same name, same parameters or signature and same return type(or sub-type) as a method in its super-class, then the method in the subclass is said to override the method in the super-class."
   ]
  },
  {
   "cell_type": "code",
   "execution_count": 21,
   "id": "db1df4e9-5d1a-461d-b3f3-18df27328985",
   "metadata": {},
   "outputs": [
    {
     "name": "stdout",
     "output_type": "stream",
     "text": [
      "Inside Parent\n",
      "Inside Child\n"
     ]
    }
   ],
   "source": [
    "class Parent():\n",
    "      \n",
    "    # Constructor\n",
    "    def __init__(self):\n",
    "        self.value = \"Inside Parent\"\n",
    "          \n",
    "    # Parent's show method\n",
    "    def show(self):\n",
    "        print(self.value)\n",
    "          \n",
    "# Defining child class\n",
    "class Child(Parent):\n",
    "      \n",
    "    # Constructor\n",
    "    def __init__(self):\n",
    "        self.value = \"Inside Child\"\n",
    "          \n",
    "    # Child's show method\n",
    "    def show(self):\n",
    "        print(self.value)\n",
    "          \n",
    "          \n",
    "# Driver's code\n",
    "obj1 = Parent()\n",
    "obj2 = Child()\n",
    "  \n",
    "obj1.show()\n",
    "obj2.show()\n",
    "    "
   ]
  },
  {
   "cell_type": "code",
   "execution_count": null,
   "id": "2cc5159a-d38e-4920-a364-0a9d64827e16",
   "metadata": {},
   "outputs": [],
   "source": []
  }
 ],
 "metadata": {
  "kernelspec": {
   "display_name": "Python 3 (ipykernel)",
   "language": "python",
   "name": "python3"
  },
  "language_info": {
   "codemirror_mode": {
    "name": "ipython",
    "version": 3
   },
   "file_extension": ".py",
   "mimetype": "text/x-python",
   "name": "python",
   "nbconvert_exporter": "python",
   "pygments_lexer": "ipython3",
   "version": "3.10.8"
  }
 },
 "nbformat": 4,
 "nbformat_minor": 5
}
