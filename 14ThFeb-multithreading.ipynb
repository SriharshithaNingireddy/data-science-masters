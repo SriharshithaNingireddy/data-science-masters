{
 "cells": [
  {
   "cell_type": "markdown",
   "id": "cef64278-8129-4a36-91cd-f37d2f375592",
   "metadata": {},
   "source": [
    "5. State advantages and disadvantages of multithreading"
   ]
  },
  {
   "cell_type": "markdown",
   "id": "493faa0e-e6ba-45e7-9230-fa4f6205a050",
   "metadata": {},
   "source": [
    "Advantages:\n",
    "\n",
    "1)It doesn’t block the user. This is because threads are independent of each other.\n",
    "\n",
    "2)Better use of system resources is possible since threads execute tasks parallely.\n",
    "\n",
    "3)Enhanced performance on multi-processor machines.\n",
    "\n",
    "4)Multi-threaded servers and interactive GUIs use multithreading exclusively.\n",
    "\n",
    "Disadvantages:\n",
    "\n",
    "1)As number of threads increase, complexity increases.\n",
    "\n",
    "2)Synchronization of shared resources (objects, data) is necessary.\n",
    "\n",
    "3)It is difficult to debug, result is sometimes unpredictable.\n",
    "\n",
    "4)Potential deadlocks which leads to starvation, i.e. some threads may not be served with a bad design\n",
    "\n",
    "5)Constructing and synchronizing threads is CPU/memory intensive."
   ]
  },
  {
   "cell_type": "markdown",
   "id": "118d7ecf-e327-41e1-a417-93fc9652e92b",
   "metadata": {},
   "source": [
    "4. Write a python program to create two threads. Thread one must print the list of squares and thread\n",
    "two must print the list of cubes"
   ]
  },
  {
   "cell_type": "code",
   "execution_count": 28,
   "id": "0863cb74-00ae-4fbf-9032-292b5b008850",
   "metadata": {},
   "outputs": [],
   "source": [
    "lst=[1,2,3,4,5]\n",
    "import threading\n",
    "import time\n",
    "def lst_squares(x):\n",
    "        print(\"square of the nmbers {} is {}\".format(x,x*x))\n",
    "        time.sleep(1)\n",
    "    \n",
    "def lst_cubes(x):\n",
    "        print(\"cube of the nmber {} is {}\".format(x,x*x*x))\n",
    "        time.sleep(1)\n",
    "thread1=[threading.Thread(target=lst_squares,args=(i,)) for i in lst]\n",
    "thread2=[threading.Thread(target=lst_cubes,args=(i,)) for i in lst]\n",
    "#threading.activeCount()\n",
    "#threading.currentThread()\n",
    "#threading.enumerate()"
   ]
  },
  {
   "cell_type": "code",
   "execution_count": 24,
   "id": "13a4d2df-9f55-4d03-b93d-ea880d6a83bf",
   "metadata": {},
   "outputs": [
    {
     "name": "stdout",
     "output_type": "stream",
     "text": [
      "square of the nmbers 1 is 1\n",
      "square of the nmbers 2 is 4\n",
      "square of the nmbers 3 is 9\n",
      "square of the nmbers 4 is 16\n",
      "square of the nmbers 5 is 25\n",
      "cube of the nmber 1 is 1\n",
      "cube of the nmber 2 is 8\n",
      "cube of the nmber 3 is 27\n",
      "cube of the nmber 4 is 64\n",
      "cube of the nmber 5 is 125\n"
     ]
    }
   ],
   "source": [
    "for t1 in thread1:\n",
    "    t1.start()\n",
    "for t2 in thread2:\n",
    "    t2.start()"
   ]
  },
  {
   "cell_type": "markdown",
   "id": "e8c1d35e-1ee2-43f8-a900-9ab046979278",
   "metadata": {},
   "source": [
    "3. Explain the following functions\n",
    "\n",
    " run()\n",
    "    \n",
    " start()\n",
    "\n",
    " join()\n",
    "    \n",
    "isAlive()"
   ]
  },
  {
   "cell_type": "markdown",
   "id": "c8b43231-ca65-4a27-953c-b12fa4527fdd",
   "metadata": {},
   "source": [
    "Ans:-\n",
    "\n",
    "run() − The run() method is the entry point for a thread.\n",
    "\n",
    "start() − The start() method starts a thread by calling the run method.\n",
    "\n",
    "join([time]) − The join() waits for threads to terminate.\n",
    "\n",
    "isAlive() − The isAlive() method checks whether a thread is still executing."
   ]
  },
  {
   "cell_type": "markdown",
   "id": "e1176026-167c-4d2a-b130-c493b77e2654",
   "metadata": {},
   "source": [
    "Q1). What is multithreading in python? Why is it used? Name the module used to handle threads in python"
   ]
  },
  {
   "cell_type": "markdown",
   "id": "35f1a330-c1c6-46c3-8f37-d6b2dc34e5ab",
   "metadata": {},
   "source": [
    "Multithreading is a threading technique in Python programming to run multiple threads concurrently by rapidly switching between threads with a CPU help (called context switching). Besides, it allows sharing of its data space with the main threads inside a process that share information and communication with other threads easier than individual processes. Multithreading aims to perform multiple tasks simultaneously, which increases performance, speed and improves the rendering of the application.\n",
    "\n",
    "There are two main modules of multithreading used to handle threads in Python.\n",
    "\n",
    "The thread module(obsolate)\n",
    "\n",
    "The threading module"
   ]
  },
  {
   "cell_type": "markdown",
   "id": "caabde74-ad0a-4c14-a92c-a7ab4f23cfb7",
   "metadata": {},
   "source": [
    "2). Why threading module used? Write the use of the following functions\n",
    "1) activeCount()\n",
    " 2)currentThread()\n",
    " 3)enumerate()"
   ]
  },
  {
   "cell_type": "markdown",
   "id": "fabb4c82-5bcc-4b42-9cbb-0bcc5c3c053b",
   "metadata": {},
   "source": [
    "The threading module is a high-level implementation of multithreading used to deploy an application in Python. To use multithreading, we need to import the threading module in Python Program.\n",
    "\n",
    "threading.activeCount() − Returns the number of thread objects that are active.\n",
    "\n",
    "threading.currentThread() − Returns the number of thread objects in the caller's thread control.\n",
    "\n",
    "threading.enumerate() − Returns a list of all thread objects that are currently active."
   ]
  },
  {
   "cell_type": "markdown",
   "id": "c522aed2-2bb0-4905-a1d5-d30cd5766076",
   "metadata": {},
   "source": [
    "6. Explain deadlocks and race conditions."
   ]
  },
  {
   "cell_type": "markdown",
   "id": "5a1f52c6-b463-40c0-9daf-76b6c9921ba8",
   "metadata": {},
   "source": [
    "A deadlock is a concurrency failure mode where a thread or threads wait for a condition that never occurs.\n",
    "\n",
    "The result is that the deadlock threads are unable to progress and the program is stuck or frozen and must be terminated forcefully.\n",
    "\n",
    " A race condition may be defined as the occurring of a condition when two or more threads can access shared data and then try to change its value at the same time. Due to this, the values of variables may be unpredictable and vary depending on the timings of context switches of the processes.\n",
    " "
   ]
  },
  {
   "cell_type": "code",
   "execution_count": null,
   "id": "c0271c5d-0d41-4447-8b6e-37e5d1757a9d",
   "metadata": {},
   "outputs": [],
   "source": []
  }
 ],
 "metadata": {
  "kernelspec": {
   "display_name": "Python 3 (ipykernel)",
   "language": "python",
   "name": "python3"
  },
  "language_info": {
   "codemirror_mode": {
    "name": "ipython",
    "version": 3
   },
   "file_extension": ".py",
   "mimetype": "text/x-python",
   "name": "python",
   "nbconvert_exporter": "python",
   "pygments_lexer": "ipython3",
   "version": "3.10.8"
  }
 },
 "nbformat": 4,
 "nbformat_minor": 5
}
