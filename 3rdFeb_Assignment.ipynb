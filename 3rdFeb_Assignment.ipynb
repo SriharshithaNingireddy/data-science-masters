{
 "cells": [
  {
   "cell_type": "markdown",
   "id": "7f929713-2387-4189-bd9e-a042a7c35a32",
   "metadata": {},
   "source": [
    "Q1. Which keyword is used to create a function? Create a function to return a list of odd numbers in the\n",
    "range of 1 to 25."
   ]
  },
  {
   "cell_type": "markdown",
   "id": "10179f9b-69ba-4426-9aa8-a32e684fc96e",
   "metadata": {},
   "source": [
    "## Ans\n",
    "def is the keyword used to create a function"
   ]
  },
  {
   "cell_type": "code",
   "execution_count": 3,
   "id": "efdd6109-7be2-4086-9483-87458296df03",
   "metadata": {},
   "outputs": [],
   "source": [
    "                b ffffbadef odd(n):\n",
    "    o=[]\n",
    "    for i in n:\n",
    "        if i%2!=0:\n",
    "            o.append(i)\n",
    "    return o\n",
    "        "
   ]
  },
  {
   "cell_type": "code",
   "execution_count": 4,
   "id": "5a1d4ea4-9dc5-4d9a-91a4-5b2def82ee89",
   "metadata": {},
   "outputs": [
    {
     "data": {
      "text/plain": [
       "[1, 3, 5, 7, 9, 11, 13, 15, 17, 19, 21, 23]"
      ]
     },
     "execution_count": 4,
     "metadata": {},
     "output_type": "execute_result"
    }
   ],
   "source": [
    "odd(range(1,25))"
   ]
  },
  {
   "cell_type": "markdown",
   "id": "fdac457f-944a-463c-b919-1e48def25996",
   "metadata": {},
   "source": [
    "Q2. Why *args and **kwargs is used in some functions? Create a function each for *args and **kwargs to\n",
    "demonstrate their use."
   ]
  },
  {
   "cell_type": "markdown",
   "id": "71b3a5c4-39c8-45da-8b11-dd47c14226b0",
   "metadata": {},
   "source": [
    "### Ans:\n",
    "Initially while creating a function we dont have any idea that how many arguments we are going to pass. In this case\n",
    "if we want to assign n number of arguments we will use *args and if we want to assign n number of key- value pairs then we will use **kwargs, kwargs means key word arguments"
   ]
  },
  {
   "cell_type": "code",
   "execution_count": 9,
   "id": "16240a3e-80a2-45a6-8f66-575d4090753f",
   "metadata": {},
   "outputs": [],
   "source": [
    "## *args example\n",
    "def test_2(*args):\n",
    "    n=[]\n",
    "    for i in args:\n",
    "        if type(i)==list:\n",
    "            n.append(i)\n",
    "    return n"
   ]
  },
  {
   "cell_type": "code",
   "execution_count": 6,
   "id": "9d3e3274-2162-44e2-b351-0a60f0c6f728",
   "metadata": {},
   "outputs": [
    {
     "data": {
      "text/plain": [
       "[[4, 5, 6, 'sri'], [7, 8, 9, 'sri_1']]"
      ]
     },
     "execution_count": 6,
     "metadata": {},
     "output_type": "execute_result"
    }
   ],
   "source": [
    "test_2(1,2,3,[4,5,6,'sri'],[7,8,9,\"sri_1\"],(10,11),\"SRI\")"
   ]
  },
  {
   "cell_type": "code",
   "execution_count": 7,
   "id": "06a2721a-055d-4050-b95b-8ca0e169ddea",
   "metadata": {},
   "outputs": [],
   "source": [
    "#### **kwargs example\n",
    "def test_3(**kwargs):\n",
    "    return kwargs"
   ]
  },
  {
   "cell_type": "code",
   "execution_count": 8,
   "id": "30424d9b-ebbe-44b5-8094-4630e0255c58",
   "metadata": {},
   "outputs": [
    {
     "data": {
      "text/plain": [
       "{'a': 2, 'b': 4, 'c': 'sri', 'd': (1, 2, 3), 'e': [56, 78]}"
      ]
     },
     "execution_count": 8,
     "metadata": {},
     "output_type": "execute_result"
    }
   ],
   "source": [
    "test_3(a=2,b=4,c=\"sri\",d=(1,2,3),e=[56,78])"
   ]
  },
  {
   "cell_type": "markdown",
   "id": "37360c9e-bb16-4e68-83aa-0a65542c6ecb",
   "metadata": {},
   "source": [
    "Q3. What is an iterator in python? Name the method used to initialise the iterator object and the method\n",
    "used for iteration. Use these methods to print the first five elements of the given list [2, 4, 6, 8, 10, 12, 14, 16,\n",
    "18, 20]."
   ]
  },
  {
   "cell_type": "markdown",
   "id": "bdcf5618-d742-4582-bb0c-a745dde55578",
   "metadata": {},
   "source": [
    "###Ans:\n",
    "An iterator is an object that contains a countable number of values.\n",
    "\n",
    "An iterator is an object that can be iterated upon, meaning that you can traverse through all the values.\n",
    "\n",
    "Technically, in Python, an iterator is an object which implements the iterator protocol, which consist of the methods __iter__() and __next__()."
   ]
  },
  {
   "cell_type": "code",
   "execution_count": 5,
   "id": "5ed6aefd-90c7-4bb7-b566-c32628bacfa7",
   "metadata": {},
   "outputs": [
    {
     "name": "stdout",
     "output_type": "stream",
     "text": [
      "2\n",
      "4\n",
      "6\n",
      "8\n",
      "10\n"
     ]
    }
   ],
   "source": [
    "lst=[2,4,6,8,10,12,14,16,18,20]\n",
    "myit = iter(lst)\n",
    "print(next(myit))\n",
    "print(next(myit))\n",
    "print(next(myit))\n",
    "print(next(myit))\n",
    "print(next(myit))\n"
   ]
  },
  {
   "cell_type": "markdown",
   "id": "efffeb2b-45c4-496b-ad30-9d191abef429",
   "metadata": {},
   "source": [
    "Q4. What is a generator function in python? Why yield keyword is used? Give an example of a generator\n",
    "function."
   ]
  },
  {
   "cell_type": "markdown",
   "id": "88f73de9-9652-4533-8d82-77cce9308938",
   "metadata": {},
   "source": [
    "A generator-function is defined like a normal function, but whenever it needs to generate a value, it does so with the yield keyword rather than return. If the body of a def contains yield, the function automatically becomes a generator function.\n",
    "The yield statement suspends a function’s execution and sends a value back to the caller, but retains enough state to enable the function to resume where it left off. When the function resumes, it continues execution immediately after the last yield run. This allows its code to produce a series of values over time, rather than computing them at once and sending them back like a list.\n"
   ]
  },
  {
   "cell_type": "code",
   "execution_count": 1,
   "id": "d0259b4e-4f5e-48e1-90f1-9a35af486086",
   "metadata": {},
   "outputs": [],
   "source": [
    "\n",
    "## fibonnoci series is an example of generators\n",
    "def test_fib(n):\n",
    "    a,b=0,1\n",
    "    for i in range(n):\n",
    "        yield a\n",
    "        a,b=b,a+b"
   ]
  },
  {
   "cell_type": "code",
   "execution_count": 4,
   "id": "a2f5fe13-3e79-44c0-8f18-1ae95a8bfdeb",
   "metadata": {},
   "outputs": [
    {
     "name": "stdout",
     "output_type": "stream",
     "text": [
      "0\n",
      "1\n",
      "1\n",
      "2\n",
      "3\n",
      "5\n",
      "8\n",
      "13\n",
      "21\n",
      "34\n"
     ]
    }
   ],
   "source": [
    "test_fib(10)\n",
    "for i in test_fib(10):\n",
    "    print(i)"
   ]
  },
  {
   "cell_type": "code",
   "execution_count": null,
   "id": "db2b8812-b49e-4f8a-bf3d-96e0204e58ba",
   "metadata": {},
   "outputs": [],
   "source": []
  }
 ],
 "metadata": {
  "kernelspec": {
   "display_name": "Python 3 (ipykernel)",
   "language": "python",
   "name": "python3"
  },
  "language_info": {
   "codemirror_mode": {
    "name": "ipython",
    "version": 3
   },
   "file_extension": ".py",
   "mimetype": "text/x-python",
   "name": "python",
   "nbconvert_exporter": "python",
   "pygments_lexer": "ipython3",
   "version": "3.10.8"
  }
 },
 "nbformat": 4,
 "nbformat_minor": 5
}
