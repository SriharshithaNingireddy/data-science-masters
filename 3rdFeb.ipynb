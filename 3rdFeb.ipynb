{
 "cells": [
  {
   "cell_type": "code",
   "execution_count": 2,
   "id": "5e12cc81-7a1a-4e48-8629-25d9be39d564",
   "metadata": {},
   "outputs": [],
   "source": [
    "## to create our own functions\n",
    "def test():\n",
    "    pass ### it will give incomplete input error if nothing has written in the function if we write pass then it is ok"
   ]
  },
  {
   "cell_type": "code",
   "execution_count": 3,
   "id": "06fee05f-bdd8-415c-94f5-e681164d4f02",
   "metadata": {},
   "outputs": [],
   "source": [
    "def test1():\n",
    "    print(\"this is my very very first function\")"
   ]
  },
  {
   "cell_type": "code",
   "execution_count": 5,
   "id": "ba2c92b4-9f1e-4b9f-8e4f-6ed867890a4e",
   "metadata": {},
   "outputs": [
    {
     "name": "stdout",
     "output_type": "stream",
     "text": [
      "this is my very very first function\n"
     ]
    }
   ],
   "source": [
    "test1()"
   ]
  },
  {
   "cell_type": "code",
   "execution_count": 6,
   "id": "71aa941d-3fc7-49ca-b8ca-32983fcf1e9b",
   "metadata": {},
   "outputs": [
    {
     "name": "stdout",
     "output_type": "stream",
     "text": [
      "this is my very very first function\n"
     ]
    },
    {
     "ename": "TypeError",
     "evalue": "unsupported operand type(s) for +: 'NoneType' and 'str'",
     "output_type": "error",
     "traceback": [
      "\u001b[0;31m---------------------------------------------------------------------------\u001b[0m",
      "\u001b[0;31mTypeError\u001b[0m                                 Traceback (most recent call last)",
      "Cell \u001b[0;32mIn[6], line 1\u001b[0m\n\u001b[0;32m----> 1\u001b[0m \u001b[43mtest1\u001b[49m\u001b[43m(\u001b[49m\u001b[43m)\u001b[49m\u001b[38;5;241;43m+\u001b[39;49m\u001b[38;5;124;43m\"\u001b[39;49m\u001b[38;5;124;43msri\u001b[39;49m\u001b[38;5;124;43m\"\u001b[39;49m\n",
      "\u001b[0;31mTypeError\u001b[0m: unsupported operand type(s) for +: 'NoneType' and 'str'"
     ]
    }
   ],
   "source": [
    "test1()+\"sri\""
   ]
  },
  {
   "cell_type": "code",
   "execution_count": 12,
   "id": "d711d493-ff28-430c-89dc-3c4e94bb4336",
   "metadata": {},
   "outputs": [],
   "source": [
    "def test2():\n",
    "    return \"this is my fun with return \""
   ]
  },
  {
   "cell_type": "code",
   "execution_count": 9,
   "id": "749d7ee7-13e2-47a9-a0c3-3baaab209c5f",
   "metadata": {},
   "outputs": [
    {
     "data": {
      "text/plain": [
       "'this is my fun with return'"
      ]
     },
     "execution_count": 9,
     "metadata": {},
     "output_type": "execute_result"
    }
   ],
   "source": [
    "test2()"
   ]
  },
  {
   "cell_type": "code",
   "execution_count": 13,
   "id": "7ca8275c-9309-448f-989c-6ba5dc9f2341",
   "metadata": {},
   "outputs": [
    {
     "data": {
      "text/plain": [
       "'this is my fun with return sri'"
      ]
     },
     "execution_count": 13,
     "metadata": {},
     "output_type": "execute_result"
    }
   ],
   "source": [
    "test2() + \"sri\""
   ]
  },
  {
   "cell_type": "code",
   "execution_count": 16,
   "id": "0f64676a-4afc-454d-85e1-fd55b7e85a8e",
   "metadata": {},
   "outputs": [],
   "source": [
    "def test3():\n",
    "    return 1,4,\"sri\",2.3     ## we will get the multilpe returns from the single function"
   ]
  },
  {
   "cell_type": "code",
   "execution_count": 15,
   "id": "7733d16c-2fa3-4bb1-aa93-2ac13a3c01b6",
   "metadata": {},
   "outputs": [
    {
     "data": {
      "text/plain": [
       "(1, 4, 'sri', 2.3)"
      ]
     },
     "execution_count": 15,
     "metadata": {},
     "output_type": "execute_result"
    }
   ],
   "source": [
    "test3()"
   ]
  },
  {
   "cell_type": "code",
   "execution_count": 17,
   "id": "de2dfd8d-2ae6-4e46-b84d-4bd050d71b0a",
   "metadata": {},
   "outputs": [
    {
     "data": {
      "text/plain": [
       "tuple"
      ]
     },
     "execution_count": 17,
     "metadata": {},
     "output_type": "execute_result"
    }
   ],
   "source": [
    "type(test3())"
   ]
  },
  {
   "cell_type": "code",
   "execution_count": 18,
   "id": "41aeb870-ba12-4fcf-ad1f-9ee91d0144bf",
   "metadata": {},
   "outputs": [
    {
     "data": {
      "text/plain": [
       "1"
      ]
     },
     "execution_count": 18,
     "metadata": {},
     "output_type": "execute_result"
    }
   ],
   "source": [
    "test3()[0]"
   ]
  },
  {
   "cell_type": "code",
   "execution_count": 19,
   "id": "2d5cdc1a-f5eb-4767-99c1-176b191945ca",
   "metadata": {},
   "outputs": [
    {
     "data": {
      "text/plain": [
       "2.3"
      ]
     },
     "execution_count": 19,
     "metadata": {},
     "output_type": "execute_result"
    }
   ],
   "source": [
    "test3()[3]"
   ]
  },
  {
   "cell_type": "code",
   "execution_count": 20,
   "id": "45dc9ca9-2a2f-4340-9350-ef8a2b4aab0f",
   "metadata": {},
   "outputs": [],
   "source": [
    "a,b,c,d=test3()"
   ]
  },
  {
   "cell_type": "code",
   "execution_count": 21,
   "id": "8d67f676-3bf1-4233-8381-e54845b1e17d",
   "metadata": {},
   "outputs": [],
   "source": [
    "def test4():\n",
    "    a=3*4+5\n",
    "    return a"
   ]
  },
  {
   "cell_type": "code",
   "execution_count": 22,
   "id": "d684af4b-4f9b-4c3f-ad72-38d6e385c972",
   "metadata": {},
   "outputs": [
    {
     "data": {
      "text/plain": [
       "17"
      ]
     },
     "execution_count": 22,
     "metadata": {},
     "output_type": "execute_result"
    }
   ],
   "source": [
    "test4()"
   ]
  },
  {
   "cell_type": "code",
   "execution_count": 23,
   "id": "229fe2db-bb0b-423e-ad9d-4a344b559fb9",
   "metadata": {},
   "outputs": [],
   "source": [
    "def test5(a,b):\n",
    "    c=a+b\n",
    "    return c"
   ]
  },
  {
   "cell_type": "code",
   "execution_count": 28,
   "id": "a9880e50-9d72-4fc1-bcec-f27b9985205e",
   "metadata": {},
   "outputs": [
    {
     "data": {
      "text/plain": [
       "16"
      ]
     },
     "execution_count": 28,
     "metadata": {},
     "output_type": "execute_result"
    }
   ],
   "source": [
    "test5(12,4)"
   ]
  },
  {
   "cell_type": "code",
   "execution_count": 29,
   "id": "cfd66754-bba1-4420-99b2-0ab90ff45225",
   "metadata": {},
   "outputs": [
    {
     "data": {
      "text/plain": [
       "'catRat'"
      ]
     },
     "execution_count": 29,
     "metadata": {},
     "output_type": "execute_result"
    }
   ],
   "source": [
    "test5(\"cat\",\"Rat\")"
   ]
  },
  {
   "cell_type": "code",
   "execution_count": 31,
   "id": "59ff6efb-62a8-4806-94d3-f8af534a87b0",
   "metadata": {},
   "outputs": [
    {
     "data": {
      "text/plain": [
       "[1, 2, 3, 4, 7, 8, 9]"
      ]
     },
     "execution_count": 31,
     "metadata": {},
     "output_type": "execute_result"
    }
   ],
   "source": [
    "test5([1,2,3,4],[7,8,9])"
   ]
  },
  {
   "cell_type": "code",
   "execution_count": 32,
   "id": "d54cf2b7-7c95-42c8-8a4f-b8b5c36f4798",
   "metadata": {},
   "outputs": [
    {
     "data": {
      "text/plain": [
       "'sriharshitha'"
      ]
     },
     "execution_count": 32,
     "metadata": {},
     "output_type": "execute_result"
    }
   ],
   "source": [
    "test5(b=\"harshitha\",a=\"sri\")"
   ]
  },
  {
   "cell_type": "code",
   "execution_count": 33,
   "id": "cd0ebb21-a2f2-489a-97cc-b7debeebaf62",
   "metadata": {},
   "outputs": [],
   "source": [
    "l=[1,2,3,4,\"sri\",[5,6,7,\"harshitha\"]]"
   ]
  },
  {
   "cell_type": "code",
   "execution_count": 34,
   "id": "327d233a-8c4e-4397-8637-1beb7344054d",
   "metadata": {},
   "outputs": [],
   "source": [
    "### create a function which willn take list as a input and given only numerics as an output"
   ]
  },
  {
   "cell_type": "code",
   "execution_count": 40,
   "id": "61cffe63-05a4-4808-94fc-400f3f06e93f",
   "metadata": {},
   "outputs": [],
   "source": [
    "def test6(a):\n",
    "    n=[]\n",
    "    for i in a:\n",
    "        \n",
    "        if type(i)==int or type(i)==float :\n",
    "            n.append(i)\n",
    "    return n"
   ]
  },
  {
   "cell_type": "code",
   "execution_count": 41,
   "id": "471e7ac1-2a6a-4a6a-82d7-212d70493dc0",
   "metadata": {},
   "outputs": [
    {
     "data": {
      "text/plain": [
       "[1, 2, 3, 4]"
      ]
     },
     "execution_count": 41,
     "metadata": {},
     "output_type": "execute_result"
    }
   ],
   "source": [
    "test6([1,2,3,4,\"sri\",[5,6,7,\"harshitha\"]])"
   ]
  },
  {
   "cell_type": "code",
   "execution_count": 1,
   "id": "983ab31a-f5e7-4646-a3b8-4a53cad7f983",
   "metadata": {},
   "outputs": [],
   "source": [
    "def test7(a):\n",
    "    n=[]\n",
    "    for i in a:\n",
    "        if type(i)==list:\n",
    "            for j in i :\n",
    "                if type(j)==int or type(j)==float:\n",
    "                    n.append(j)\n",
    "        else:\n",
    "            if type(i)==int or type(i)==float :\n",
    "                n.append(i)\n",
    "    return n \n",
    "        "
   ]
  },
  {
   "cell_type": "code",
   "execution_count": 2,
   "id": "a5f7e72b-5b77-4fa0-90e3-34d525050cad",
   "metadata": {},
   "outputs": [
    {
     "data": {
      "text/plain": [
       "[1, 2, 3, 4, 5, 6, 7]"
      ]
     },
     "execution_count": 2,
     "metadata": {},
     "output_type": "execute_result"
    }
   ],
   "source": [
    "test7([1,2,3,4,\"sri\",[5,6,7,\"harshitha\"]])"
   ]
  },
  {
   "cell_type": "code",
   "execution_count": 3,
   "id": "c2d0607a-e991-468d-bfd3-4de39da37b4b",
   "metadata": {},
   "outputs": [],
   "source": [
    "def test_(a,b,c,d):\n",
    "    pass"
   ]
  },
  {
   "cell_type": "code",
   "execution_count": 4,
   "id": "da766be9-c4cb-4db1-9f65-f03e864bbd4d",
   "metadata": {},
   "outputs": [
    {
     "ename": "TypeError",
     "evalue": "test_() takes 4 positional arguments but 6 were given",
     "output_type": "error",
     "traceback": [
      "\u001b[0;31m---------------------------------------------------------------------------\u001b[0m",
      "\u001b[0;31mTypeError\u001b[0m                                 Traceback (most recent call last)",
      "Cell \u001b[0;32mIn[4], line 1\u001b[0m\n\u001b[0;32m----> 1\u001b[0m \u001b[43mtest_\u001b[49m\u001b[43m(\u001b[49m\u001b[38;5;241;43m1\u001b[39;49m\u001b[43m,\u001b[49m\u001b[38;5;241;43m2\u001b[39;49m\u001b[43m,\u001b[49m\u001b[38;5;241;43m3\u001b[39;49m\u001b[43m,\u001b[49m\u001b[38;5;241;43m4\u001b[39;49m\u001b[43m,\u001b[49m\u001b[38;5;241;43m5\u001b[39;49m\u001b[43m,\u001b[49m\u001b[38;5;241;43m6\u001b[39;49m\u001b[43m)\u001b[49m\n",
      "\u001b[0;31mTypeError\u001b[0m: test_() takes 4 positional arguments but 6 were given"
     ]
    }
   ],
   "source": [
    "test_(1,2,3,4,5,6) ### here we can pass only 4 arguments so to overcome this *args is used in place of a,b,c,d "
   ]
  },
  {
   "cell_type": "code",
   "execution_count": 5,
   "id": "fd3b1da6-0d7b-48fc-bcdc-f3488da3fef8",
   "metadata": {},
   "outputs": [],
   "source": [
    "def test_1(*args):\n",
    "    return args"
   ]
  },
  {
   "cell_type": "code",
   "execution_count": 6,
   "id": "e8c0d9ba-dd5b-4e3b-a973-213c8dd78f5b",
   "metadata": {},
   "outputs": [
    {
     "data": {
      "text/plain": [
       "(2, 3)"
      ]
     },
     "execution_count": 6,
     "metadata": {},
     "output_type": "execute_result"
    }
   ],
   "source": [
    "test_1(2,3)"
   ]
  },
  {
   "cell_type": "code",
   "execution_count": 7,
   "id": "7ba924d6-81a8-42e0-b4ca-16226f39cd9b",
   "metadata": {},
   "outputs": [
    {
     "data": {
      "text/plain": [
       "(1, 2, 3, 4, 'sri')"
      ]
     },
     "execution_count": 7,
     "metadata": {},
     "output_type": "execute_result"
    }
   ],
   "source": [
    "test_1(1,2,3,4,'sri')"
   ]
  },
  {
   "cell_type": "code",
   "execution_count": 12,
   "id": "808354c3-cd94-4898-9c01-13cc2b286abc",
   "metadata": {},
   "outputs": [],
   "source": [
    "def test_2(*args):\n",
    "    n=[]\n",
    "    for i in args:\n",
    "        if type(i)==list:\n",
    "            n.append(i)\n",
    "    return n"
   ]
  },
  {
   "cell_type": "code",
   "execution_count": 14,
   "id": "b0008ff5-b18b-4e80-a7d8-2d2127fb1ea4",
   "metadata": {},
   "outputs": [
    {
     "data": {
      "text/plain": [
       "[[4, 5, 6, 'sri'], [7, 8, 9, 'sri_1']]"
      ]
     },
     "execution_count": 14,
     "metadata": {},
     "output_type": "execute_result"
    }
   ],
   "source": [
    "test_2(1,2,3,[4,5,6,'sri'],[7,8,9,\"sri_1\"],(10,11),\"SRI\")"
   ]
  },
  {
   "cell_type": "code",
   "execution_count": null,
   "id": "f59c2e67-3512-47ab-82a3-80b099b9da26",
   "metadata": {},
   "outputs": [],
   "source": [
    "## to pass n number  of key and value pairs we need to write **kwargs ->kwargs means keyword argments"
   ]
  },
  {
   "cell_type": "code",
   "execution_count": 15,
   "id": "ee579735-b1bc-4e7b-bab7-903f9686ba96",
   "metadata": {},
   "outputs": [],
   "source": [
    "def test_3(**kwargs):\n",
    "    return kwargs"
   ]
  },
  {
   "cell_type": "code",
   "execution_count": 16,
   "id": "0df3e8ab-48e6-4bd6-9d9b-80bf6ff6b74b",
   "metadata": {},
   "outputs": [
    {
     "data": {
      "text/plain": [
       "{'a': 2, 'b': 4, 'c': 'sri', 'd': (1, 2, 3), 'e': [56, 78]}"
      ]
     },
     "execution_count": 16,
     "metadata": {},
     "output_type": "execute_result"
    }
   ],
   "source": [
    "test_3(a=2,b=4,c=\"sri\",d=(1,2,3),e=[56,78])"
   ]
  },
  {
   "cell_type": "code",
   "execution_count": 24,
   "id": "fc9a2743-3795-4209-981b-d9e29bf712ab",
   "metadata": {},
   "outputs": [],
   "source": [
    "def test_4(**kwargs):\n",
    "    for i in kwargs.keys():\n",
    "        if type(kwargs[i])== list:\n",
    "            return i, kwargs[i]"
   ]
  },
  {
   "cell_type": "code",
   "execution_count": 25,
   "id": "ca6ae577-8a50-4b74-8250-e691eefe9688",
   "metadata": {},
   "outputs": [
    {
     "data": {
      "text/plain": [
       "('e', [56, 78])"
      ]
     },
     "execution_count": 25,
     "metadata": {},
     "output_type": "execute_result"
    }
   ],
   "source": [
    "test_4(a=2,b=4,c=\"sri\",d=(1,2,3),e=[56,78])"
   ]
  },
  {
   "cell_type": "code",
   "execution_count": 26,
   "id": "bbaf4aa3-0a16-49e2-a45b-565ab51433fb",
   "metadata": {},
   "outputs": [],
   "source": [
    "def test_5(*args,**kwargs):\n",
    "    return args,kwargs"
   ]
  },
  {
   "cell_type": "code",
   "execution_count": 27,
   "id": "df3d5736-ec8f-4576-adba-33c2af35494e",
   "metadata": {},
   "outputs": [
    {
     "data": {
      "text/plain": [
       "((1, 2, 3, 4), {'a': 'FGYGH', 'b': 6, 'c': {'name': 'sri'}})"
      ]
     },
     "execution_count": 27,
     "metadata": {},
     "output_type": "execute_result"
    }
   ],
   "source": [
    "test_5(1,2,3,4,a='FGYGH',b=6,c={'name':'sri'})"
   ]
  },
  {
   "cell_type": "markdown",
   "id": "7eddf62d-3f85-49dc-b487-5b8142139637",
   "metadata": {},
   "source": [
    "### Fibonacci"
   ]
  },
  {
   "cell_type": "code",
   "execution_count": 31,
   "id": "de18c6e6-5613-4375-aa3c-88c1ad1769cc",
   "metadata": {},
   "outputs": [],
   "source": [
    "def test_fib(n):\n",
    "    a,b=0,1\n",
    "    for i in range(n):\n",
    "        yield a\n",
    "        a,b=b,a+b\n",
    "        "
   ]
  },
  {
   "cell_type": "code",
   "execution_count": 32,
   "id": "0a5605ae-b62e-4de5-991b-153eeb7cf374",
   "metadata": {},
   "outputs": [
    {
     "data": {
      "text/plain": [
       "<generator object test_fib at 0x7f693e2e31b0>"
      ]
     },
     "execution_count": 32,
     "metadata": {},
     "output_type": "execute_result"
    }
   ],
   "source": [
    "test_fib(10)"
   ]
  },
  {
   "cell_type": "code",
   "execution_count": 33,
   "id": "99b9da90-c112-45be-8efb-46dbe4479bd7",
   "metadata": {},
   "outputs": [
    {
     "name": "stdout",
     "output_type": "stream",
     "text": [
      "0\n",
      "1\n",
      "1\n",
      "2\n",
      "3\n",
      "5\n",
      "8\n",
      "13\n",
      "21\n",
      "34\n"
     ]
    }
   ],
   "source": [
    "for i in test_fib(10):\n",
    "    print(i)"
   ]
  },
  {
   "cell_type": "code",
   "execution_count": null,
   "id": "c15ad2eb-43c3-4c42-8a6d-cd0c09157dd8",
   "metadata": {},
   "outputs": [],
   "source": []
  }
 ],
 "metadata": {
  "kernelspec": {
   "display_name": "Python 3 (ipykernel)",
   "language": "python",
   "name": "python3"
  },
  "language_info": {
   "codemirror_mode": {
    "name": "ipython",
    "version": 3
   },
   "file_extension": ".py",
   "mimetype": "text/x-python",
   "name": "python",
   "nbconvert_exporter": "python",
   "pygments_lexer": "ipython3",
   "version": "3.10.8"
  }
 },
 "nbformat": 4,
 "nbformat_minor": 5
}
