{
 "cells": [
  {
   "cell_type": "markdown",
   "id": "a95c1d36-c002-49da-ac90-dc5ebcbb7f7c",
   "metadata": {},
   "source": [
    "## Lambda function"
   ]
  },
  {
   "cell_type": "code",
   "execution_count": 1,
   "id": "a082d581-3afe-49b7-98d1-3d5193511de2",
   "metadata": {},
   "outputs": [],
   "source": [
    "def test(n,p):\n",
    "    return n**p"
   ]
  },
  {
   "cell_type": "code",
   "execution_count": 2,
   "id": "78c51705-de29-4439-a369-9bfcfbea7df7",
   "metadata": {},
   "outputs": [
    {
     "data": {
      "text/plain": [
       "25"
      ]
     },
     "execution_count": 2,
     "metadata": {},
     "output_type": "execute_result"
    }
   ],
   "source": [
    "test(5,2)"
   ]
  },
  {
   "cell_type": "code",
   "execution_count": 4,
   "id": "9be04223-3750-45cb-8bce-ab18c2e82c0a",
   "metadata": {},
   "outputs": [],
   "source": [
    "## function without name is lamda function -> ananomus function\n",
    "a=lambda n,p:n**p"
   ]
  },
  {
   "cell_type": "code",
   "execution_count": 5,
   "id": "7c33ecc7-2052-4d29-a6cf-32ee5b879438",
   "metadata": {},
   "outputs": [
    {
     "data": {
      "text/plain": [
       "25"
      ]
     },
     "execution_count": 5,
     "metadata": {},
     "output_type": "execute_result"
    }
   ],
   "source": [
    "a(5,2)"
   ]
  },
  {
   "cell_type": "code",
   "execution_count": 6,
   "id": "36725523-8dca-49d5-8426-fbce01f177b8",
   "metadata": {},
   "outputs": [],
   "source": [
    "add=lambda n,p :n+p"
   ]
  },
  {
   "cell_type": "code",
   "execution_count": 7,
   "id": "13894dcc-1d5e-44df-9147-3c35b27dcd48",
   "metadata": {},
   "outputs": [
    {
     "data": {
      "text/plain": [
       "7"
      ]
     },
     "execution_count": 7,
     "metadata": {},
     "output_type": "execute_result"
    }
   ],
   "source": [
    "add(5,2)"
   ]
  },
  {
   "cell_type": "code",
   "execution_count": 8,
   "id": "dca52c2d-603b-4de3-a7e1-59a18e24c198",
   "metadata": {},
   "outputs": [],
   "source": [
    "max_two= lambda x,y : x if x>y else y"
   ]
  },
  {
   "cell_type": "code",
   "execution_count": 9,
   "id": "d9a778eb-29b5-4eac-838a-37b7fe9ce4e4",
   "metadata": {},
   "outputs": [
    {
     "data": {
      "text/plain": [
       "6"
      ]
     },
     "execution_count": 9,
     "metadata": {},
     "output_type": "execute_result"
    }
   ],
   "source": [
    "max_two(4,6)"
   ]
  },
  {
   "cell_type": "markdown",
   "id": "119f8a76-9fee-4582-84a7-e474a540cfa9",
   "metadata": {},
   "source": [
    "## map,reduce and filter function"
   ]
  },
  {
   "cell_type": "code",
   "execution_count": 14,
   "id": "5f6c469f-9542-42d2-81f0-5bbbc38db182",
   "metadata": {},
   "outputs": [],
   "source": [
    "def test(l):\n",
    "    l1=[]\n",
    "    for i in l:\n",
    "        a=i*2\n",
    "        l1.append(a)\n",
    "    return l1"
   ]
  },
  {
   "cell_type": "code",
   "execution_count": 15,
   "id": "f95ebf7b-b7c9-4a7b-a606-6a25d691b379",
   "metadata": {},
   "outputs": [
    {
     "data": {
      "text/plain": [
       "[2, 4, 6, 8, 10]"
      ]
     },
     "execution_count": 15,
     "metadata": {},
     "output_type": "execute_result"
    }
   ],
   "source": [
    "test([1,2,3,4,5])"
   ]
  },
  {
   "cell_type": "code",
   "execution_count": 18,
   "id": "ef14009d-7410-4aa0-a94e-950ad5b9365d",
   "metadata": {},
   "outputs": [],
   "source": [
    "l=[1,2,3,4,5,6]\n",
    "def sq(x):\n",
    "    return x*2"
   ]
  },
  {
   "cell_type": "code",
   "execution_count": 20,
   "id": "779a2bbc-3dbc-4a48-95aa-be6b8719637d",
   "metadata": {},
   "outputs": [
    {
     "data": {
      "text/plain": [
       "[2, 4, 6, 8, 10, 12]"
      ]
     },
     "execution_count": 20,
     "metadata": {},
     "output_type": "execute_result"
    }
   ],
   "source": [
    "list(map(sq,l))"
   ]
  },
  {
   "cell_type": "code",
   "execution_count": 23,
   "id": "8950f57d-2e67-4ef6-ac95-1e09d27b9d76",
   "metadata": {},
   "outputs": [
    {
     "data": {
      "text/plain": [
       "[2, 4, 6, 8]"
      ]
     },
     "execution_count": 23,
     "metadata": {},
     "output_type": "execute_result"
    }
   ],
   "source": [
    "list(map(lambda x : x*2,[1,2,3,4]))"
   ]
  },
  {
   "cell_type": "code",
   "execution_count": 24,
   "id": "0931a84d-acfe-4bd2-962c-59f63677d133",
   "metadata": {},
   "outputs": [
    {
     "data": {
      "text/plain": [
       "[6, 8, 10, 12]"
      ]
     },
     "execution_count": 24,
     "metadata": {},
     "output_type": "execute_result"
    }
   ],
   "source": [
    "l1=[1,2,3,4]\n",
    "l2=[5,6,7,8]\n",
    "list(map(lambda x,y:x+y,l1,l2))"
   ]
  },
  {
   "cell_type": "code",
   "execution_count": 25,
   "id": "37b04f4d-9515-429a-a85e-7c0150be571e",
   "metadata": {},
   "outputs": [],
   "source": [
    "s=\"pwskills\""
   ]
  },
  {
   "cell_type": "code",
   "execution_count": 26,
   "id": "55400097-3630-43d7-a0ba-801dbae689f9",
   "metadata": {},
   "outputs": [
    {
     "data": {
      "text/plain": [
       "['P', 'W', 'S', 'K', 'I', 'L', 'L', 'S']"
      ]
     },
     "execution_count": 26,
     "metadata": {},
     "output_type": "execute_result"
    }
   ],
   "source": [
    "list(map(lambda x : x.upper(),s))"
   ]
  },
  {
   "cell_type": "code",
   "execution_count": 27,
   "id": "bf642ddc-2ec1-4653-8065-c547e4045588",
   "metadata": {},
   "outputs": [],
   "source": [
    "from functools import reduce"
   ]
  },
  {
   "cell_type": "code",
   "execution_count": 31,
   "id": "921ac41e-451c-44cb-8b3a-8072f27b06a8",
   "metadata": {},
   "outputs": [],
   "source": [
    "l=[1,2,3,4,5]"
   ]
  },
  {
   "cell_type": "code",
   "execution_count": 29,
   "id": "2790df0c-664f-4d9b-84b1-b4fc5049c1a2",
   "metadata": {},
   "outputs": [
    {
     "data": {
      "text/plain": [
       "15"
      ]
     },
     "execution_count": 29,
     "metadata": {},
     "output_type": "execute_result"
    }
   ],
   "source": [
    "reduce(lambda x,y:x+y,l)"
   ]
  },
  {
   "cell_type": "code",
   "execution_count": 33,
   "id": "f687296a-7aaf-4fbc-aa2b-f8aadfeec804",
   "metadata": {},
   "outputs": [
    {
     "data": {
      "text/plain": [
       "[2, 4, 6, 8]"
      ]
     },
     "execution_count": 33,
     "metadata": {},
     "output_type": "execute_result"
    }
   ],
   "source": [
    "list(map(lambda x,y:x+y,l1,l1))"
   ]
  },
  {
   "cell_type": "code",
   "execution_count": 36,
   "id": "4a15c1c7-6d22-40ce-be95-6e521ff5eb2d",
   "metadata": {},
   "outputs": [],
   "source": [
    "l=[21,23,34,56,10]"
   ]
  },
  {
   "cell_type": "code",
   "execution_count": 37,
   "id": "3ddc90e8-68a5-4082-bfb5-92af3cd6c8c8",
   "metadata": {},
   "outputs": [
    {
     "data": {
      "text/plain": [
       "56"
      ]
     },
     "execution_count": 37,
     "metadata": {},
     "output_type": "execute_result"
    }
   ],
   "source": [
    "reduce(lambda x,y: x if x>y else y,l)"
   ]
  },
  {
   "cell_type": "code",
   "execution_count": 1,
   "id": "2c63afc6-4970-4a0d-bc7c-3436c34345d0",
   "metadata": {},
   "outputs": [],
   "source": [
    "l=[1,2,3,4,5]"
   ]
  },
  {
   "cell_type": "code",
   "execution_count": 4,
   "id": "2cda7b57-72fb-407b-8174-87bc038eb78d",
   "metadata": {},
   "outputs": [
    {
     "data": {
      "text/plain": [
       "[2, 4]"
      ]
     },
     "execution_count": 4,
     "metadata": {},
     "output_type": "execute_result"
    }
   ],
   "source": [
    "list(filter(lambda x:x%2==0,l))"
   ]
  },
  {
   "cell_type": "code",
   "execution_count": 5,
   "id": "d7cde5c0-d7d4-4448-8c0d-73df47bee5c8",
   "metadata": {},
   "outputs": [],
   "source": [
    "l1=['abcd','ghhb','cgcgghghhh','vbhg','vvhghghhhggv']"
   ]
  },
  {
   "cell_type": "code",
   "execution_count": 7,
   "id": "e599a6c7-462e-42f0-8fa5-5939c565511f",
   "metadata": {},
   "outputs": [
    {
     "data": {
      "text/plain": [
       "['abcd', 'ghhb', 'vbhg']"
      ]
     },
     "execution_count": 7,
     "metadata": {},
     "output_type": "execute_result"
    }
   ],
   "source": [
    "list(filter(lambda x :len(x)<6,l1))"
   ]
  },
  {
   "cell_type": "code",
   "execution_count": null,
   "id": "31feb8af-33a0-4249-b3f8-83bab57466c2",
   "metadata": {},
   "outputs": [],
   "source": []
  }
 ],
 "metadata": {
  "kernelspec": {
   "display_name": "Python 3 (ipykernel)",
   "language": "python",
   "name": "python3"
  },
  "language_info": {
   "codemirror_mode": {
    "name": "ipython",
    "version": 3
   },
   "file_extension": ".py",
   "mimetype": "text/x-python",
   "name": "python",
   "nbconvert_exporter": "python",
   "pygments_lexer": "ipython3",
   "version": "3.10.8"
  }
 },
 "nbformat": 4,
 "nbformat_minor": 5
}
